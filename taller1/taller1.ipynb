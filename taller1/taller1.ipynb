{
  "cells": [
    {
      "cell_type": "markdown",
      "metadata": {
        "pycharm": {
          "metadata": false
        }
      },
      "source": [
        "# TALLER 1\n",
        "### Funciones usadas para utilidades"
      ]
    },
    {
      "cell_type": "code",
      "execution_count": 5,
      "metadata": {
        "pycharm": {
          "metadata": false,
          "name": "#%%\n",
          "is_executing": false
        }
      },
      "outputs": [],
      "source": [
        "def modDos(num):\n",
        "    \"\"\"\n",
        "    Saber si un numero es par\n",
        "    :param num: numero que envien\n",
        "    :return: boolean\n",
        "    \"\"\"\n",
        "    if num%2\u003d\u003d0:\n",
        "        return True\n",
        "    else:\n",
        "        return False\n",
        "\n",
        "\n",
        "def lenght(num):\n",
        "    \"\"\"\n",
        "\n",
        "    :param num:numero que desean calcular su tamaño\n",
        "    :return:El tamaño del numero ingresado\n",
        "    \"\"\"\n",
        "    return len(str(num))\n",
        "\n",
        "\n",
        "def addZeros(num, size):\n",
        "    \"\"\"\n",
        "    Agregar ceros a la izquierda de @num\n",
        "    :param num:Numero que envien\n",
        "    :param size:Tamaño que deseen tenga de cifras el @num\n",
        "    :return:el @num con ceros al lado izquierdo segun determine el @size\n",
        "    \"\"\"\n",
        "    if len(str(num)) \u003e size :\n",
        "        raise Exception(\"Sobrepasado\")\n",
        "    elif num \u003d\u003d size :\n",
        "        return str(num)\n",
        "    else:\n",
        "        return str(num).zfill(size)\n",
        "\n",
        "\n",
        "def numMiddle(num):\n",
        "    \"\"\"\n",
        "    \n",
        "    :param num: Numero que envien\n",
        "    :return: mitad de los numeros de la mitad\n",
        "    \"\"\"\n",
        "    middle \u003d int(int(lenght(num))/4)\n",
        "    return num[middle: -middle]\n",
        "\n",
        "\n",
        "def numDecimal(num):\n",
        "    \"\"\"\n",
        "    \n",
        "    :param num: numero que envien\n",
        "    :return: \"0.{num}\"\n",
        "    \"\"\"\n",
        "    return \"0.{}\".format(num)"
      ]
    },
    {
      "cell_type": "markdown",
      "metadata": {
        "pycharm": {
          "metadata": false
        }
      },
      "source": [
        "### Metodo MidSquare"
      ]
    },
    {
      "cell_type": "code",
      "execution_count": 18,
      "metadata": {
        "pycharm": {
          "is_executing": false,
          "metadata": false,
          "name": "#%%\n"
        }
      },
      "outputs": [
        {
          "name": "stdout",
          "text": [
            "u_1 \u003d 0.7492\nu_2 \u003d 0.1300\nu_3 \u003d 0.6900\nu_4 \u003d 0.6100\nu_5 \u003d 0.2100\nu_6 \u003d 0.4100\nu_7 \u003d 0.8100\nu_8 \u003d 0.6100\n"
          ],
          "output_type": "stream"
        }
      ],
      "source": "def GNMidSqueare(x0, lim):\n    list \u003d []\n    if modDos(lenght(str(x0))):\n        x2 \u003d x0\n        for i in range(lim):\n            x1 \u003d x2 ** 2\n            x1 \u003d addZeros(x1, lenght(x0) * 2)\n            x1 \u003d numMiddle(x1)\n            if x1 !\u003d \u0027\u0027:\n                x2 \u003d int(x1)\n                print(x2)\n                list.append(numDecimal(x2))\n            else:\n                print(\"Creo que quedamos en 0\")\n                break\n    else:\n        print(\"Por favor ingresa un numero de 2*n cifras\")\n    return list\n\n\nx0 \u003d int(input(\"Digita el valor de x0\u003d\"))\nlim \u003d int(input(\"Digital el valor de nùmeros a generar\u003d\"))\nlistMid \u003d GNMidSqueare(x0, lim)\nfor i in range(len(listMid)):\n    print(\"u_{} \u003d {}\".format(i+1, listMid[i]))"
    },
    {
      "cell_type": "markdown",
      "metadata": {
        "pycharm": {
          "metadata": false
        }
      },
      "source": [
        "### Metodo Congruencial Mixto"
      ]
    },
    {
      "cell_type": "code",
      "execution_count": 19,
      "metadata": {
        "pycharm": {
          "metadata": false,
          "name": "#%%\n",
          "is_executing": false
        }
      },
      "outputs": [
        {
          "name": "stdout",
          "text": [
            "u_1 \u003d 0.375\nu_2 \u003d 0.0625\nu_3 \u003d 0.5\nu_4 \u003d 0.6875\nu_5 \u003d 0.625\nu_6 \u003d 0.3125\nu_7 \u003d 0.75\nu_8 \u003d 0.9375\nu_9 \u003d 0.875\nu_10 \u003d 0.5625\nu_11 \u003d 0.0\nu_12 \u003d 0.1875\nu_13 \u003d 0.125\nu_14 \u003d 0.8125\nu_15 \u003d 0.25\nu_16 \u003d 0.4375\nu_17 \u003d 0.375\nu_18 \u003d 0.0625\nu_19 \u003d 0.5\nu_20 \u003d 0.6875\n"
          ],
          "output_type": "stream"
        }
      ],
      "source": [
        "def GNCongruMix(x0, a, m, c, lim):\n",
        "    xn \u003d x0\n",
        "    list \u003d []\n",
        "    for i in range(lim):\n",
        "        xn \u003d (a * xn + c) % m\n",
        "        un \u003d xn / m\n",
        "        list.append(un)\n",
        "        #print(\"u_{} \u003d {}\".format(i+1, un))\n",
        "    return list\n",
        "\n",
        "\n",
        "x0 \u003d int(input(\"Digita el valor de x0\u003d\"))\n",
        "a \u003d int(input(\"Digita el valor de a\u003d\"))\n",
        "m \u003d int(input(\"Digita el valor de m\u003d\"))\n",
        "c \u003d int(input(\"Digita el valor de c\u003d\"))\n",
        "lim \u003d int(input(\"Digital el valor de nùmeros a generar\u003d\"))\n",
        "list \u003d GNCongruMix(x0, a, m, c, lim)\n",
        "for i in range(len(list)):\n",
        "    print(\"u_{} \u003d {}\".format(i+1, list[i]))"
      ]
    },
    {
      "cell_type": "markdown",
      "metadata": {
        "pycharm": {
          "metadata": false
        }
      },
      "source": [
        "### Ciclo del metodo"
      ]
    },
    {
      "cell_type": "code",
      "execution_count": 20,
      "metadata": {
        "pycharm": {
          "metadata": false,
          "name": "#%%\n",
          "is_executing": false
        }
      },
      "outputs": [],
      "source": "def ciclos(lista):\n    xf\u003d0\n    xi\u003d0\n    for i in range(len(lista)):\n        for j in range(i+1, len(lista)):\n            if lista[i]\u003d\u003dlista[j]:\n                return str(j-i)\n    return \"No esta repetido en este momento\""
    },
    {
      "cell_type": "markdown",
      "metadata": {
        "pycharm": {
          "metadata": false
        }
      },
      "source": [
        "##### Calculando el periodo a MidSquare"
      ]
    },
    {
      "cell_type": "code",
      "execution_count": 21,
      "metadata": {
        "pycharm": {
          "metadata": false,
          "name": "#%%\n",
          "is_executing": false
        }
      },
      "outputs": [
        {
          "name": "stdout",
          "text": [
            "El periodo es\u003d 4\n"
          ],
          "output_type": "stream"
        }
      ],
      "source": [
        "print(\"El periodo es\u003d {}\".format(ciclos(listMid)))"
      ]
    },
    {
      "cell_type": "markdown",
      "metadata": {
        "pycharm": {
          "metadata": false
        }
      },
      "source": [
        "##### Calculando el periodo a Congruencial"
      ]
    },
    {
      "cell_type": "code",
      "execution_count": 22,
      "metadata": {
        "pycharm": {
          "metadata": false,
          "name": "#%%\n",
          "is_executing": false
        }
      },
      "outputs": [
        {
          "name": "stdout",
          "text": [
            "El periodo es\u003d 16\n"
          ],
          "output_type": "stream"
        }
      ],
      "source": "print(\"El periodo es\u003d {}\".format(ciclos(list)))"
    }
  ],
  "metadata": {
    "kernelspec": {
      "display_name": "Python 3",
      "language": "python",
      "name": "python3"
    },
    "language_info": {
      "codemirror_mode": {
        "name": "ipython",
        "version": 3
      },
      "file_extension": ".py",
      "mimetype": "text/x-python",
      "name": "python",
      "nbconvert_exporter": "python",
      "pygments_lexer": "ipython3",
      "version": "3.7.2"
    },
    "stem_cell": {
      "cell_type": "raw",
      "metadata": {
        "pycharm": {
          "metadata": false
        }
      },
      "source": ""
    }
  },
  "nbformat": 4,
  "nbformat_minor": 1
}