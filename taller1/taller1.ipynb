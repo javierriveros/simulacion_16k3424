{
  "cells": [
    {
      "cell_type": "markdown",
      "metadata": {
        "pycharm": {
          "metadata": false
        }
      },
      "source": [
        "# TALLER 1\n",
        "### Funciones usadas para utilidades"
      ]
    },
    {
      "cell_type": "code",
      "execution_count": 1,
      "metadata": {
        "pycharm": {
          "metadata": false,
          "name": "#%%\n",
          "is_executing": false
        }
      },
      "outputs": [],
      "source": [
        "def modDos(num):\n",
        "    \"\"\"\n",
        "    Saber si un numero es par\n",
        "    :param num: numero que envien\n",
        "    :return: boolean\n",
        "    \"\"\"\n",
        "    if num%2\u003d\u003d0:\n",
        "        return True\n",
        "    else:\n",
        "        return False\n",
        "\n",
        "\n",
        "def lenght(num):\n",
        "    \"\"\"\n",
        "\n",
        "    :param num:numero que desean calcular su tamaño\n",
        "    :return:El tamaño del numero ingresado\n",
        "    \"\"\"\n",
        "    return len(str(num))\n",
        "\n",
        "\n",
        "def addZeros(num, size):\n",
        "    \"\"\"\n",
        "    Agregar ceros a la izquierda de @num\n",
        "    :param num:Numero que envien\n",
        "    :param size:Tamaño que deseen tenga de cifras el @num\n",
        "    :return:el @num con ceros al lado izquierdo segun determine el @size\n",
        "    \"\"\"\n",
        "    if len(str(num)) \u003e size :\n",
        "        raise Exception(\"Sobrepasado\")\n",
        "    elif num \u003d\u003d size :\n",
        "        return str(num)\n",
        "    else:\n",
        "        return str(num).zfill(size)\n",
        "\n",
        "\n",
        "def numMiddle(num):\n",
        "    \"\"\"\n",
        "    \n",
        "    :param num: Numero que envien\n",
        "    :return: mitad de los numeros de la mitad\n",
        "    \"\"\"\n",
        "    middle \u003d int(int(lenght(num))/4)\n",
        "    return num[middle: -middle]\n",
        "\n",
        "\n",
        "def numDecimal(num):\n",
        "    \"\"\"\n",
        "    \n",
        "    :param num: numero que envien\n",
        "    :return: \"0.{num}\"\n",
        "    \"\"\"\n",
        "    return \"0.{}\".format(num)"
      ]
    },
    {
      "cell_type": "markdown",
      "metadata": {
        "pycharm": {
          "metadata": false
        }
      },
      "source": [
        "### Metodo MidSquare"
      ]
    },
    {
      "cell_type": "code",
      "execution_count": 3,
      "metadata": {
        "pycharm": {
          "is_executing": false,
          "metadata": false,
          "name": "#%%\n"
        }
      },
      "outputs": [
        {
          "name": "stdout",
          "text": [
            "u_1 \u003d 0.7492\nu_2 \u003d 0.1300\nu_3 \u003d 0.6900\nu_4 \u003d 0.6100\nu_5 \u003d 0.2100\nu_6 \u003d 0.4100\nu_7 \u003d 0.8100\nu_8 \u003d 0.6100\n"
          ],
          "output_type": "stream"
        }
      ],
      "source": [
        "def GNMidSqueare(x0, lim):\n",
        "    list \u003d []\n",
        "    if modDos(x0):\n",
        "        x2 \u003d x0\n",
        "        for i in range(lim):\n",
        "            x1 \u003d x2 ** 2\n",
        "            x1 \u003d addZeros(x1, lenght(x0) * 2)\n",
        "            x1 \u003d numMiddle(x1)\n",
        "            x2 \u003d int(x1)\n",
        "            list.append(numDecimal(x2))\n",
        "    else:\n",
        "        print(\"Por favor ingresa un numero de 2*n cifras\")\n",
        "    return list\n",
        "\n",
        "\n",
        "x0 \u003d int(input(\"Digita el valor de x0\u003d\"))\n",
        "lim \u003d int(input(\"Digital el valor de nùmeros a generar\u003d\"))\n",
        "listMid \u003d GNMidSqueare(x0, lim)\n",
        "for i in range(len(listMid)):\n",
        "    print(\"u_{} \u003d {}\".format(i+1, listMid[i]))"
      ]
    },
    {
      "cell_type": "markdown",
      "metadata": {
        "pycharm": {
          "metadata": false
        }
      },
      "source": [
        "### Metodo Congruencial Mixto"
      ]
    },
    {
      "cell_type": "code",
      "execution_count": 3,
      "metadata": {
        "pycharm": {
          "metadata": false,
          "name": "#%%\n"
        }
      },
      "outputs": [
        {
          "name": "stdout",
          "output_type": "stream",
          "text": [
            "Digita el valor de x0\u003d7\n",
            "Digita el valor de a\u003d5\n",
            "Digita el valor de m\u003d16\n",
            "Digita el valor de c\u003d3\n",
            "Digital el valor de nùmeros a generar\u003d20\n",
            "u_1 \u003d 0.375\n",
            "u_2 \u003d 0.0625\n",
            "u_3 \u003d 0.5\n",
            "u_4 \u003d 0.6875\n",
            "u_5 \u003d 0.625\n",
            "u_6 \u003d 0.3125\n",
            "u_7 \u003d 0.75\n",
            "u_8 \u003d 0.9375\n",
            "u_9 \u003d 0.875\n",
            "u_10 \u003d 0.5625\n",
            "u_11 \u003d 0.0\n",
            "u_12 \u003d 0.1875\n",
            "u_13 \u003d 0.125\n",
            "u_14 \u003d 0.8125\n",
            "u_15 \u003d 0.25\n",
            "u_16 \u003d 0.4375\n",
            "u_17 \u003d 0.375\n",
            "u_18 \u003d 0.0625\n",
            "u_19 \u003d 0.5\n",
            "u_20 \u003d 0.6875\n"
          ]
        }
      ],
      "source": [
        "def GNCongruMix(x0, a, m, c, lim):\n",
        "    xn \u003d x0\n",
        "    list \u003d []\n",
        "    for i in range(lim):\n",
        "        xn \u003d (a * xn + c) % m\n",
        "        un \u003d xn / m\n",
        "        list.append(un)\n",
        "        #print(\"u_{} \u003d {}\".format(i+1, un))\n",
        "    return list\n",
        "\n",
        "\n",
        "x0 \u003d int(input(\"Digita el valor de x0\u003d\"))\n",
        "a \u003d int(input(\"Digita el valor de a\u003d\"))\n",
        "m \u003d int(input(\"Digita el valor de m\u003d\"))\n",
        "c \u003d int(input(\"Digita el valor de c\u003d\"))\n",
        "lim \u003d int(input(\"Digital el valor de nùmeros a generar\u003d\"))\n",
        "list \u003d GNCongruMix(x0, a, m, c, lim)\n",
        "for i in range(len(list)):\n",
        "    print(\"u_{} \u003d {}\".format(i+1, list[i]))"
      ]
    },
    {
      "cell_type": "markdown",
      "metadata": {
        "pycharm": {
          "metadata": false
        }
      },
      "source": [
        "### Ciclo del metodo"
      ]
    },
    {
      "cell_type": "code",
      "execution_count": 4,
      "metadata": {
        "pycharm": {
          "metadata": false,
          "name": "#%%\n",
          "is_executing": false
        }
      },
      "outputs": [],
      "source": [
        "def ciclos(list):\n",
        "    xf\u003d0\n",
        "    xi\u003d0\n",
        "    for i in range(len(list)):\n",
        "        for j in range(i+1, len(list)):\n",
        "            if list[i]\u003d\u003dlist[j]:\n",
        "                return str(j-i)\n",
        "    return \"No esta repetido en este momento\"\n"
      ]
    },
    {
      "cell_type": "markdown",
      "metadata": {
        "pycharm": {
          "metadata": false
        }
      },
      "source": [
        "##### Calculando el periodo a MidSquare"
      ]
    },
    {
      "cell_type": "code",
      "execution_count": null,
      "metadata": {
        "pycharm": {
          "metadata": false,
          "name": "#%%\n"
        }
      },
      "outputs": [],
      "source": [
        "print(\"El periodo es\u003d {}\".format(ciclos(listMid)))"
      ]
    },
    {
      "cell_type": "markdown",
      "metadata": {
        "pycharm": {
          "metadata": false
        }
      },
      "source": [
        "##### Calculando el periodo a Congruencial"
      ]
    },
    {
      "cell_type": "code",
      "execution_count": 4,
      "metadata": {
        "pycharm": {
          "metadata": false,
          "name": "#%%\n"
        }
      },
      "outputs": [
        {
          "ename": "NameError",
          "evalue": "name \u0027ciclos\u0027 is not defined",
          "output_type": "error",
          "traceback": [
            "\u001b[0;31m---------------------------------------------------------------------------\u001b[0m",
            "\u001b[0;31mNameError\u001b[0m                                 Traceback (most recent call last)",
            "\u001b[0;32m\u003cipython-input-4-c139ddaa95f7\u003e\u001b[0m in \u001b[0;36m\u003cmodule\u003e\u001b[0;34m\u001b[0m\n\u001b[0;32m----\u003e 1\u001b[0;31m \u001b[0mprint\u001b[0m\u001b[0;34m(\u001b[0m\u001b[0;34m\"El periodo es\u003d {}\"\u001b[0m\u001b[0;34m.\u001b[0m\u001b[0mformat\u001b[0m\u001b[0;34m(\u001b[0m\u001b[0mciclos\u001b[0m\u001b[0;34m(\u001b[0m\u001b[0mlist\u001b[0m\u001b[0;34m)\u001b[0m\u001b[0;34m)\u001b[0m\u001b[0;34m)\u001b[0m\u001b[0;34m\u001b[0m\u001b[0;34m\u001b[0m\u001b[0m\n\u001b[0m",
            "\u001b[0;31mNameError\u001b[0m: name \u0027ciclos\u0027 is not defined"
          ]
        }
      ],
      "source": [
        "print(\"El periodo es\u003d {}\".format(ciclos(list)))\n"
      ]
    },
    {
      "cell_type": "code",
      "execution_count": null,
      "metadata": {
        "pycharm": {}
      },
      "outputs": [],
      "source": []
    }
  ],
  "metadata": {
    "kernelspec": {
      "display_name": "Python 3",
      "language": "python",
      "name": "python3"
    },
    "language_info": {
      "codemirror_mode": {
        "name": "ipython",
        "version": 3
      },
      "file_extension": ".py",
      "mimetype": "text/x-python",
      "name": "python",
      "nbconvert_exporter": "python",
      "pygments_lexer": "ipython3",
      "version": "3.7.2"
    },
    "stem_cell": {
      "cell_type": "raw",
      "metadata": {
        "pycharm": {
          "metadata": false
        }
      },
      "source": ""
    }
  },
  "nbformat": 4,
  "nbformat_minor": 1
}