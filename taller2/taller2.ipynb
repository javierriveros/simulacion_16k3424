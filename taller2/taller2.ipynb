{
 "cells": [
  {
   "cell_type": "markdown",
   "metadata": {
    "pycharm": {
     "metadata": false
    }
   },
   "source": [
    "# TALLER 1\n",
    "### Transdormada Inversa"
   ]
  },
  {
   "cell_type": "code",
   "execution_count": 1,
   "metadata": {
    "pycharm": {
     "is_executing": false,
     "metadata": false,
     "name": "#%%\n"
    }
   },
   "outputs": [
    {
     "name": "stdout",
     "text": [
      "Te queda 0.8\n",
      "Te queda 0.5\n",
      "('X_3', 0.4607001822632919)\n('X_1', 0.113489769185943)\n('X_2', 0.1495231094871694)\n('X_3', 0.6085034989871154)\n('X_2', 0.49703142335497685)\n('X_3', 0.3417388192568287)\n('X_1', 0.19841560801852842)\n('X_2', 0.48258449865745656)\n('X_2', 0.49999196087134656)\n('X_2', 0.290426714783238)\n"
     ],
     "output_type": "stream"
    }
   ],
   "source": [
    "import numpy as np\n",
    "from random import random\n",
    "\n",
    "def float_request():\n",
    "    lista = []\n",
    "    i = 0\n",
    "    prob = 0\n",
    "    num_var = int(input(\"Por favor ingresa el numero de variables\"))\n",
    "    while True:\n",
    "        aux=float(input(\"Digita valor de p_{}=\".format(i)))\n",
    "        lista.append(aux)\n",
    "        prob += aux\n",
    "        if prob >= 0.99 and prob <=1.01:\n",
    "            break\n",
    "        print(\"Te queda %.1f\" %(1-prob))\n",
    "        i += 1\n",
    "        aux = 0\n",
    "    return inverse_transform(lista, num_var)\n",
    "\n",
    "\n",
    "def inverse_transform(lista, num_var):\n",
    "    suma = 0\n",
    "    j=0\n",
    "    lista_pro = []\n",
    "    x=0\n",
    "    while x<num_var:\n",
    "        rand = random()\n",
    "        if rand < suma+lista[j]:\n",
    "            lista_pro.append((\"X_{}\".format(j+1), rand))\n",
    "            j=0\n",
    "            suma = 0\n",
    "            x+=1\n",
    "        else:\n",
    "            suma = suma+lista[j]\n",
    "            j += 1\n",
    "    return lista_pro\n",
    "for i in float_request():\n",
    "    print(i)\n"
   ]
  },
  {
   "cell_type": "markdown",
   "metadata": {
    "pycharm": {
     "metadata": false
    }
   },
   "source": [
    "### Poisson"
   ]
  },
  {
   "cell_type": "code",
   "execution_count": 8,
   "metadata": {
    "pycharm": {
     "is_executing": false,
     "metadata": false,
     "name": "#%%\n"
    }
   },
   "outputs": [],
   "source": [
    "def poisson(cons_lambda):\n",
    "    U = random()\n",
    "    i = 0\n",
    "    p = np.exp(-cons_lambda)\n",
    "    F = p\n",
    "    while True:\n",
    "        if U < F:\n",
    "            break\n",
    "        else:\n",
    "            p = (cons_lambda * p) / (i + 1)\n",
    "            F = F + p\n",
    "            i = i + 1\n",
    "    return i\n",
    "print(poisson(float(input(\"Digita el lambda:\"))))"
   ]
  },
  {
   "cell_type": "markdown",
   "metadata": {
    "pycharm": {
     "metadata": false
    }
   },
   "source": [
    "### Binomial"
   ]
  },
  {
   "cell_type": "code",
   "execution_count": null,
   "metadata": {
    "pycharm": {
     "is_executing": false,
     "metadata": false,
     "name": "#%%\n"
    }
   },
   "outputs": [],
   "source": [
    "def binomial(n, p):\n",
    "    U = random()\n",
    "    c = p / (1 - p)\n",
    "    i = 0\n",
    "    pr = (1 - p) ** n\n",
    "    F = pr\n",
    "    while True:\n",
    "        if U < F:\n",
    "            break\n",
    "        else:\n",
    "            pr = (c * (n - i) / (i + 1)) * pr\n",
    "            F = F + pr\n",
    "            i = i + 1\n",
    "    return i"
   ]
  },
  {
   "cell_type": "markdown",
   "metadata": {
    "pycharm": {
     "metadata": false
    }
   },
   "source": [
    "### Aceptacion y rechazo"
   ]
  },
  {
   "cell_type": "code",
   "execution_count": 8,
   "metadata": {
    "pycharm": {
     "is_executing": false,
     "metadata": false,
     "name": "#%%\n"
    }
   },
   "outputs": [
    {
     "name": "stdout",
     "output_type": "stream",
     "text": [
      "('X_1', 1)\n",
      "('X_2', 1)\n",
      "('X_3', 1)\n",
      "('X_4', 1)\n",
      "('X_5', 1)\n"
     ]
    }
   ],
   "source": [
    "#Aceptacion y rechazo\n",
    "def calculate_c(list_p, list_q):\n",
    "    division_list = []\n",
    "    for i in range(len(list_p)):\n",
    "        division_list.append(list_p[i] / list_q[i])\n",
    "    return max(division_list)\n",
    "\n",
    "\n",
    "def operate_value(value, multiplier):\n",
    "    return int(multiplier * value)\n",
    "    \n",
    "\n",
    "def admit_or_refuse(list_p, list_q):\n",
    "    if(len(list_p) != len(list_q)):\n",
    "        raise Exception(\"El tamaño en las dos listas deberia ser igual\")\n",
    "    result = []\n",
    "    for i in range(len(list_p)):\n",
    "        simulated_y_value = 1\n",
    "        U1 = 0\n",
    "        p_y = 0\n",
    "        q_y = 1\n",
    "        c = 1\n",
    "        while(U1 > p_y / (c * q_y)):\n",
    "            simulated_y_value = operate_value(list_q[i], len(list_p))\n",
    "            U1 = random()\n",
    "            p_y = list_p[simulated_y_value]\n",
    "            q_y = list_q[simulated_y_value]\n",
    "            c = calculate_c(list_p, list_q)\n",
    "        \n",
    "        key = \"X_{}\".format(i + 1)\n",
    "        result.append((key, simulated_y_value))\n",
    "    return result \n",
    "\n",
    "p_j = [0.1, 0.1, 0.1, 0.1, 0.6]\n",
    "q_j = [0.4, 0.2, 0.1, 0.1, 0.2]\n",
    "for i in admit_or_refuse(p_j, q_j):\n",
    "    print(i)"
   ]
  },
  {
   "cell_type": "markdown",
   "metadata": {
    "pycharm": {
     "metadata": false
    }
   },
   "source": [
    "#### Composición"
   ]
  },
  {
   "cell_type": "code",
   "execution_count": 9,
   "metadata": {
    "pycharm": {
     "is_executing": false,
     "metadata": false,
     "name": "#%%\n"
    }
   },
   "outputs": [
    {
     "name": "stdout",
     "output_type": "stream",
     "text": [
      "('X', 7)\n"
     ]
    }
   ],
   "source": [
    "#Composicion\n",
    "def composition():\n",
    "    U_1 = random()\n",
    "    U_2 = random()\n",
    "    \n",
    "    result = []\n",
    "    if(U_1 < 0.5):\n",
    "        result.append((\"X\", int(10 * U_2)))\n",
    "    else:\n",
    "        result.append((\"X\", int(5 * U_2) + 6))\n",
    "    return result\n",
    "\n",
    "\n",
    "for i in composition():\n",
    "    print(i)\n",
    "\n"
   ]
  },
  {
   "cell_type": "code",
   "execution_count": null,
   "metadata": {},
   "outputs": [],
   "source": []
  }
 ],
 "metadata": {
  "kernelspec": {
   "display_name": "Python 3",
   "language": "python",
   "name": "python3"
  },
  "language_info": {
   "codemirror_mode": {
    "name": "ipython",
    "version": 3
   },
   "file_extension": ".py",
   "mimetype": "text/x-python",
   "name": "python",
   "nbconvert_exporter": "python",
   "pygments_lexer": "ipython3",
   "version": "3.7.2"
  },
  "pycharm": {
   "stem_cell": {
    "cell_type": "raw",
    "source": [],
    "metadata": {
     "collapsed": false
    }
   }
  },
  "stem_cell": {
   "cell_type": "raw",
   "metadata": {
    "pycharm": {
     "metadata": false
    }
   },
   "source": ""
  }
 },
 "nbformat": 4,
 "nbformat_minor": 1
}