{
  "cells": [
    {
      "cell_type": "markdown",
      "metadata": {
        "pycharm": {
          "metadata": false
        }
      },
      "source": [
        "# TALLER 7\n",
        "### Bank Renege"
      ]
    },
    {
      "cell_type": "code",
      "execution_count": 1,
      "metadata": {
        "pycharm": {
          "is_executing": false,
          "metadata": false,
          "name": "#%%\n"
        }
      },
      "outputs": [
        {
          "name": "stdout",
          "text": [
            "Bank renege\n 0.0000 Customer00: Here I am\n 0.0000 Customer00: Waited  0.000\n 3.8595 Customer00: Finished\n10.2006 Customer01: Here I am\n10.2006 Customer01: Waited  0.000\n12.7265 Customer02: Here I am\n13.9003 Customer02: RENEGED after  1.174\n23.7507 Customer01: Finished\n34.9993 Customer03: Here I am\n34.9993 Customer03: Waited  0.000\n37.9599 Customer03: Finished\n40.4798 Customer04: Here I am\n40.4798 Customer04: Waited  0.000\n43.1401 Customer04: Finished\n"
          ],
          "output_type": "stream"
        }
      ],
      "source": [
        "\"\"\"\n",
        "Bank renege example\n",
        "\n",
        "Covers:\n",
        "\n",
        "- Resources: Resource\n",
        "- Condition events\n",
        "\n",
        "Scenario:\n",
        "  A counter with a random service time and customers who renege. Based on the\n",
        "  program bank08.py from TheBank tutorial of SimPy 2. (KGM)\n",
        "\n",
        "\"\"\"\n",
        "import random\n",
        "\n",
        "import simpy\n",
        "\n",
        "\n",
        "RANDOM_SEED \u003d 42\n",
        "NEW_CUSTOMERS \u003d 5  # Total number of customers\n",
        "INTERVAL_CUSTOMERS \u003d 10.0  # Generate new customers roughly every x seconds\n",
        "MIN_PATIENCE \u003d 1  # Min. customer patience\n",
        "MAX_PATIENCE \u003d 3  # Max. customer patience\n",
        "\n",
        "\n",
        "def source(env, number, interval, counter):\n",
        "    \"\"\"Source generates customers randomly\"\"\"\n",
        "    for i in range(number):\n",
        "        c \u003d customer(env, \u0027Customer%02d\u0027 % i, counter, time_in_bank\u003d12.0)\n",
        "        env.process(c)\n",
        "        t \u003d random.expovariate(1.0 / interval)\n",
        "        yield env.timeout(t)\n",
        "\n",
        "\n",
        "def customer(env, name, counter, time_in_bank):\n",
        "    \"\"\"Customer arrives, is served and leaves.\"\"\"\n",
        "    arrive \u003d env.now\n",
        "    print(\u0027%7.4f %s: Here I am\u0027 % (arrive, name))\n",
        "\n",
        "    with counter.request() as req:\n",
        "        patience \u003d random.uniform(MIN_PATIENCE, MAX_PATIENCE)\n",
        "        # Wait for the counter or abort at the end of our tether\n",
        "        results \u003d yield req | env.timeout(patience)\n",
        "\n",
        "        wait \u003d env.now - arrive\n",
        "\n",
        "        if req in results:\n",
        "            # We got to the counter\n",
        "            print(\u0027%7.4f %s: Waited %6.3f\u0027 % (env.now, name, wait))\n",
        "\n",
        "            tib \u003d random.expovariate(1.0 / time_in_bank)\n",
        "            yield env.timeout(tib)\n",
        "            print(\u0027%7.4f %s: Finished\u0027 % (env.now, name))\n",
        "\n",
        "        else:\n",
        "            # We reneged\n",
        "            print(\u0027%7.4f %s: RENEGED after %6.3f\u0027 % (env.now, name, wait))\n",
        "\n",
        "\n",
        "# Setup and start the simulation\n",
        "print(\u0027Bank renege\u0027)\n",
        "random.seed(RANDOM_SEED)\n",
        "env \u003d simpy.Environment()\n",
        "\n",
        "# Start processes and run\n",
        "counter \u003d simpy.Resource(env, capacity\u003d1)\n",
        "env.process(source(env, NEW_CUSTOMERS, INTERVAL_CUSTOMERS, counter))\n",
        "env.run()"
      ]
    },
    {
      "cell_type": "markdown",
      "metadata": {
        "pycharm": {
          "metadata": false
        }
      },
      "source": [
        "\n",
        "### Car Wash"
      ]
    },
    {
      "cell_type": "code",
      "execution_count": 3,
      "metadata": {
        "pycharm": {
          "is_executing": false,
          "metadata": false,
          "name": "#%%\n"
        }
      },
      "outputs": [
        {
          "name": "stdout",
          "text": [
            "Carwash\nCar 0 arrives at the carwash at 0.00.\nCar 1 arrives at the carwash at 0.00.\nCar 2 arrives at the carwash at 0.00.\nCar 3 arrives at the carwash at 0.00.\nCar 0 enters the carwash at 0.00.\nCar 1 enters the carwash at 0.00.\nCar 4 arrives at the carwash at 5.00.\nCarwash removed 97% of Car 0\u0027s dirt.\nCarwash removed 67% of Car 1\u0027s dirt.\nCar 0 leaves the carwash at 5.00.\nCar 1 leaves the carwash at 5.00.\nCar 2 enters the carwash at 5.00.\nCar 3 enters the carwash at 5.00.\nCar 5 arrives at the carwash at 10.00.\nCarwash removed 64% of Car 2\u0027s dirt.\nCarwash removed 58% of Car 3\u0027s dirt.\nCar 2 leaves the carwash at 10.00.\nCar 3 leaves the carwash at 10.00.\nCar 4 enters the carwash at 10.00.\nCar 5 enters the carwash at 10.00.\nCarwash removed 97% of Car 4\u0027s dirt.\nCarwash removed 56% of Car 5\u0027s dirt.\nCar 4 leaves the carwash at 15.00.\nCar 5 leaves the carwash at 15.00.\nCar 6 arrives at the carwash at 16.00.\nCar 6 enters the carwash at 16.00.\n"
          ],
          "output_type": "stream"
        }
      ],
      "source": "\"\"\"\nCarwash example.\n\nCovers:\n\n- Waiting for other processes\n- Resources: Resource\n\nScenario:\n  A carwash has a limited number of washing machines and defines\n  a washing processes that takes some (random) time.\n\n  Car processes arrive at the carwash at a random time. If one washing\n  machine is available, they start the washing process and wait for it\n  to finish. If not, they wait until they an use one.\n\n\"\"\"\nimport random\n\nimport simpy\n\n\nRANDOM_SEED \u003d 42\nNUM_MACHINES \u003d 2  # Number of machines in the carwash\nWASHTIME \u003d 5      # Minutes it takes to clean a car\nT_INTER \u003d 7       # Create a car every ~7 minutes\nSIM_TIME \u003d 20     # Simulation time in minutes\n\n\nclass Carwash(object):\n    \"\"\"A carwash has a limited number of machines (``NUM_MACHINES``) to\n    clean cars in parallel.\n\n    Cars have to request one of the machines. When they got one, they\n    can start the washing processes and wait for it to finish (which\n    takes ``washtime`` minutes).\n\n    \"\"\"\n    def __init__(self, env, num_machines, washtime):\n        self.env \u003d env\n        self.machine \u003d simpy.Resource(env, num_machines)\n        self.washtime \u003d washtime\n\n    def wash(self, car):\n        \"\"\"The washing processes. It takes a ``car`` processes and tries\n        to clean it.\"\"\"\n        yield self.env.timeout(WASHTIME)\n        print(\"Carwash removed %d%% of %s\u0027s dirt.\" %\n              (random.randint(50, 99), car))\n\n\ndef car(env, name, cw):\n    \"\"\"The car process (each car has a ``name``) arrives at the carwash\n    (``cw``) and requests a cleaning machine.\n\n    It then starts the washing process, waits for it to finish and\n    leaves to never come back ...\n\n    \"\"\"\n    print(\u0027%s arrives at the carwash at %.2f.\u0027 % (name, env.now))\n    with cw.machine.request() as request:\n        yield request\n\n        print(\u0027%s enters the carwash at %.2f.\u0027 % (name, env.now))\n        yield env.process(cw.wash(name))\n\n        print(\u0027%s leaves the carwash at %.2f.\u0027 % (name, env.now))\n\n\ndef setup(env, num_machines, washtime, t_inter):\n    \"\"\"Create a carwash, a number of initial cars and keep creating cars\n    approx. every ``t_inter`` minutes.\"\"\"\n    # Create the carwash\n    carwash \u003d Carwash(env, num_machines, washtime)\n\n    # Create 4 initial cars\n    for i in range(4):\n        env.process(car(env, \u0027Car %d\u0027 % i, carwash))\n\n    # Create more cars while the simulation is running\n    while True:\n        yield env.timeout(random.randint(t_inter - 2, t_inter + 2))\n        i +\u003d 1\n        env.process(car(env, \u0027Car %d\u0027 % i, carwash))\n\n\n# Setup and start the simulation\nprint(\u0027Carwash\u0027)\n#print(\u0027Check out http://youtu.be/fXXmeP9TvBg while simulating ... ;-)\u0027)\nrandom.seed(RANDOM_SEED)  # This helps reproducing the results\n\n# Create an environment and start the setup process\nenv \u003d simpy.Environment()\nenv.process(setup(env, NUM_MACHINES, WASHTIME, T_INTER))\n\n# Execute!\nenv.run(until\u003dSIM_TIME)\n"
    },
    {
      "cell_type": "markdown",
      "metadata": {
        "pycharm": {
          "metadata": false
        }
      },
      "source": [
        "\n",
        "### Machine shop"
      ]
    },
    {
      "cell_type": "code",
      "execution_count": 4,
      "metadata": {
        "pycharm": {
          "metadata": false,
          "name": "#%%\n",
          "is_executing": false
        }
      },
      "outputs": [
        {
          "name": "stdout",
          "text": [
            "Machine shop\n",
            "Machine shop results after 4 weeks\nMachine 0 made 3251 parts.\nMachine 1 made 3273 parts.\nMachine 2 made 3242 parts.\nMachine 3 made 3343 parts.\nMachine 4 made 3387 parts.\nMachine 5 made 3244 parts.\nMachine 6 made 3269 parts.\nMachine 7 made 3185 parts.\nMachine 8 made 3302 parts.\nMachine 9 made 3279 parts.\n"
          ],
          "output_type": "stream"
        }
      ],
      "source": "\"\"\"\nMachine shop example\n\nCovers:\n\n- Interrupts\n- Resources: PreemptiveResource\n\nScenario:\n  A workshop has *n* identical machines. A stream of jobs (enough to\n  keep the machines busy) arrives. Each machine breaks down\n  periodically. Repairs are carried out by one repairman. The repairman\n  has other, less important tasks to perform, too. Broken machines\n  preempt theses tasks. The repairman continues them when he is done\n  with the machine repair. The workshop works continuously.\n\n\"\"\"\nimport random\n\nimport simpy\n\n\nRANDOM_SEED \u003d 42\nPT_MEAN \u003d 10.0         # Avg. processing time in minutes\nPT_SIGMA \u003d 2.0         # Sigma of processing time\nMTTF \u003d 300.0           # Mean time to failure in minutes\nBREAK_MEAN \u003d 1 / MTTF  # Param. for expovariate distribution\nREPAIR_TIME \u003d 30.0     # Time it takes to repair a machine in minutes\nJOB_DURATION \u003d 30.0    # Duration of other jobs in minutes\nNUM_MACHINES \u003d 10      # Number of machines in the machine shop\nWEEKS \u003d 4              # Simulation time in weeks\nSIM_TIME \u003d WEEKS * 7 * 24 * 60  # Simulation time in minutes\n\n\ndef time_per_part():\n    \"\"\"Return actual processing time for a concrete part.\"\"\"\n    return random.normalvariate(PT_MEAN, PT_SIGMA)\n\n\ndef time_to_failure():\n    \"\"\"Return time until next failure for a machine.\"\"\"\n    return random.expovariate(BREAK_MEAN)\n\n\nclass Machine(object):\n    \"\"\"A machine produces parts and my get broken every now and then.\n\n    If it breaks, it requests a *repairman* and continues the production\n    after the it is repaired.\n\n    A machine has a *name* and a numberof *parts_made* thus far.\n\n    \"\"\"\n    def __init__(self, env, name, repairman):\n        self.env \u003d env\n        self.name \u003d name\n        self.parts_made \u003d 0\n        self.broken \u003d False\n\n        # Start \"working\" and \"break_machine\" processes for this machine.\n        self.process \u003d env.process(self.working(repairman))\n        env.process(self.break_machine())\n\n    def working(self, repairman):\n        \"\"\"Produce parts as long as the simulation runs.\n\n        While making a part, the machine may break multiple times.\n        Request a repairman when this happens.\n\n        \"\"\"\n        while True:\n            # Start making a new part\n            done_in \u003d time_per_part()\n            while done_in:\n                try:\n                    # Working on the part\n                    start \u003d self.env.now\n                    yield self.env.timeout(done_in)\n                    done_in \u003d 0  # Set to 0 to exit while loop.\n\n                except simpy.Interrupt:\n                    self.broken \u003d True\n                    done_in -\u003d self.env.now - start  # How much time left?\n\n                    # Request a repairman. This will preempt its \"other_job\".\n                    with repairman.request(priority\u003d1) as req:\n                        yield req\n                        yield self.env.timeout(REPAIR_TIME)\n\n                    self.broken \u003d False\n\n            # Part is done.\n            self.parts_made +\u003d 1\n\n    def break_machine(self):\n        \"\"\"Break the machine every now and then.\"\"\"\n        while True:\n            yield self.env.timeout(time_to_failure())\n            if not self.broken:\n                # Only break the machine if it is currently working.\n                self.process.interrupt()\n\n\ndef other_jobs(env, repairman):\n    \"\"\"The repairman\u0027s other (unimportant) job.\"\"\"\n    while True:\n        # Start a new job\n        done_in \u003d JOB_DURATION\n        while done_in:\n            # Retry the job until it is done.\n            # It\u0027s priority is lower than that of machine repairs.\n            with repairman.request(priority\u003d2) as req:\n                yield req\n                try:\n                    start \u003d env.now\n                    yield env.timeout(done_in)\n                    done_in \u003d 0\n                except simpy.Interrupt:\n                    done_in -\u003d env.now - start\n\n\n# Setup and start the simulation\nprint(\u0027Machine shop\u0027)\nrandom.seed(RANDOM_SEED)  # This helps reproducing the results\n\n# Create an environment and start the setup process\nenv \u003d simpy.Environment()\nrepairman \u003d simpy.PreemptiveResource(env, capacity\u003d1)\nmachines \u003d [Machine(env, \u0027Machine %d\u0027 % i, repairman)\n            for i in range(NUM_MACHINES)]\nenv.process(other_jobs(env, repairman))\n\n# Execute!\nenv.run(until\u003dSIM_TIME)\n\n# Analyis/results\nprint(\u0027Machine shop results after %s weeks\u0027 % WEEKS)\nfor machine in machines:\n    print(\u0027%s made %d parts.\u0027 % (machine.name, machine.parts_made))"
    },
    {
      "cell_type": "markdown",
      "metadata": {
        "pycharm": {
          "metadata": false
        }
      },
      "source": [
        "\n",
        "### Movie renege"
      ]
    },
    {
      "cell_type": "code",
      "execution_count": 5,
      "metadata": {
        "pycharm": {
          "metadata": false,
          "name": "#%%\n",
          "is_executing": false
        }
      },
      "outputs": [
        {
          "name": "stdout",
          "text": [
            "Movie renege\nMovie \"Python Unchained\" sold out 38.0 minutes after ticket counter opening.\n  Number of people leaving queue when film sold out: 16\nMovie \"Kill Process\" sold out 43.0 minutes after ticket counter opening.\n  Number of people leaving queue when film sold out: 5\nMovie \"Pulp Implementation\" sold out 28.0 minutes after ticket counter opening.\n  Number of people leaving queue when film sold out: 5\n"
          ],
          "output_type": "stream"
        }
      ],
      "source": "\"\"\"\nMovie renege example\n\nCovers:\n\n- Resources: Resource\n- Condition events\n- Shared events\n\nScenario:\n  A movie theatre has one ticket counter selling tickets for three\n  movies (next show only). When a movie is sold out, all people waiting\n  to buy tickets for that movie renege (leave queue).\n\n\"\"\"\nimport collections\nimport random\n\nimport simpy\n\n\nRANDOM_SEED \u003d 42\nTICKETS \u003d 50  # Number of tickets per movie\nSIM_TIME \u003d 120  # Simulate until\n\n\ndef moviegoer(env, movie, num_tickets, theater):\n    \"\"\"A moviegoer tries to by a number of tickets (*num_tickets*) for\n    a certain *movie* in a *theater*.\n\n    If the movie becomes sold out, she leaves the theater. If she gets\n    to the counter, she tries to buy a number of tickets. If not enough\n    tickets are left, she argues with the teller and leaves.\n\n    If at most one ticket is left after the moviegoer bought her\n    tickets, the *sold out* event for this movie is triggered causing\n    all remaining moviegoers to leave.\n\n    \"\"\"\n    with theater.counter.request() as my_turn:\n        # Wait until its our turn or until the movie is sold out\n        result \u003d yield my_turn | theater.sold_out[movie]\n\n        # Check if it\u0027s our turn of if movie is sold out\n        if my_turn not in result:\n            theater.num_renegers[movie] +\u003d 1\n            env.exit()\n\n        # Check if enough tickets left.\n        if theater.available[movie] \u003c num_tickets:\n            # Moviegoer leaves after some discussion\n            yield env.timeout(0.5)\n            env.exit()\n\n        # Buy tickets\n        theater.available[movie] -\u003d num_tickets\n        if theater.available[movie] \u003c 2:\n            # Trigger the \"sold out\" event for the movie\n            theater.sold_out[movie].succeed()\n            theater.when_sold_out[movie] \u003d env.now\n            theater.available[movie] \u003d 0\n        yield env.timeout(1)\n\n\ndef customer_arrivals(env, theater):\n    \"\"\"Create new *moviegoers* until the sim time reaches 120.\"\"\"\n    while True:\n        yield env.timeout(random.expovariate(1 / 0.5))\n\n        movie \u003d random.choice(theater.movies)\n        num_tickets \u003d random.randint(1, 6)\n        if theater.available[movie]:\n            env.process(moviegoer(env, movie, num_tickets, theater))\n\n\nTheater \u003d collections.namedtuple(\u0027Theater\u0027, \u0027counter, movies, available, \u0027\n                                            \u0027sold_out, when_sold_out, \u0027\n                                            \u0027num_renegers\u0027)\n\n\n# Setup and start the simulation\nprint(\u0027Movie renege\u0027)\nrandom.seed(RANDOM_SEED)\nenv \u003d simpy.Environment()\n\n# Create movie theater\ncounter \u003d simpy.Resource(env, capacity\u003d1)\nmovies \u003d [\u0027Python Unchained\u0027, \u0027Kill Process\u0027, \u0027Pulp Implementation\u0027]\navailable \u003d {movie: TICKETS for movie in movies}\nsold_out \u003d {movie: env.event() for movie in movies}\nwhen_sold_out \u003d {movie: None for movie in movies}\nnum_renegers \u003d {movie: 0 for movie in movies}\ntheater \u003d Theater(counter, movies, available, sold_out, when_sold_out,\n                  num_renegers)\n\n# Start process and run\nenv.process(customer_arrivals(env, theater))\nenv.run(until\u003dSIM_TIME)\n\n# Analysis/results\nfor movie in movies:\n    if theater.sold_out[movie]:\n        print(\u0027Movie \"%s\" sold out %.1f minutes after ticket counter \u0027\n              \u0027opening.\u0027 % (movie, theater.when_sold_out[movie]))\n        print(\u0027  Number of people leaving queue when film sold out: %s\u0027 %\n              theater.num_renegers[movie])"
    },
    {
      "cell_type": "markdown",
      "metadata": {
        "pycharm": {
          "metadata": false,
          "name": "#%% md\n"
        }
      },
      "source": [
        "\n",
        "### Gas Station Refueling"
      ]
    },
    {
      "cell_type": "code",
      "execution_count": 6,
      "metadata": {
        "pycharm": {
          "metadata": false,
          "name": "#%%\n",
          "is_executing": false
        }
      },
      "outputs": [
        {
          "name": "stdout",
          "text": [
            "Gas Station refuelling\nCar 0 arriving at gas station at 87.0\nCar 0 finished refueling in 18.5 seconds.\nCar 1 arriving at gas station at 129.0\nCar 1 finished refueling in 19.0 seconds.\nCar 2 arriving at gas station at 284.0\nCar 2 finished refueling in 21.0 seconds.\nCar 3 arriving at gas station at 385.0\nCar 3 finished refueling in 13.5 seconds.\nCar 4 arriving at gas station at 459.0\nCalling tank truck at 460\nCar 4 finished refueling in 22.0 seconds.\nCar 5 arriving at gas station at 705.0\nCar 6 arriving at gas station at 750.0\nTank truck arriving at time 760\nTank truck refuelling 188.0 liters.\nCar 6 finished refueling in 29.0 seconds.\nCar 5 finished refueling in 76.5 seconds.\nCar 7 arriving at gas station at 891.0\nCar 7 finished refueling in 13.0 seconds.\n"
          ],
          "output_type": "stream"
        }
      ],
      "source": "\"\"\"\nGas Station Refueling example\n\nCovers:\n\n- Resources: Resource\n- Resources: Container\n- Waiting for other processes\n\nScenario:\n  A gas station has a limited number of gas pumps that share a common\n  fuel reservoir. Cars randomly arrive at the gas station, request one\n  of the fuel pumps and start refueling from that reservoir.\n\n  A gas station control process observes the gas station\u0027s fuel level\n  and calls a tank truck for refueling if the station\u0027s level drops\n  below a threshold.\n\n\"\"\"\nimport itertools\nimport random\n\nimport simpy\n\n\nRANDOM_SEED \u003d 42\nGAS_STATION_SIZE \u003d 200     # liters\nTHRESHOLD \u003d 10             # Threshold for calling the tank truck (in %)\nFUEL_TANK_SIZE \u003d 50        # liters\nFUEL_TANK_LEVEL \u003d [5, 25]  # Min/max levels of fuel tanks (in liters)\nREFUELING_SPEED \u003d 2        # liters / second\nTANK_TRUCK_TIME \u003d 300      # Seconds it takes the tank truck to arrive\nT_INTER \u003d [30, 300]        # Create a car every [min, max] seconds\nSIM_TIME \u003d 1000            # Simulation time in seconds\n\n\ndef car(name, env, gas_station, fuel_pump):\n    \"\"\"A car arrives at the gas station for refueling.\n\n    It requests one of the gas station\u0027s fuel pumps and tries to get the\n    desired amount of gas from it. If the stations reservoir is\n    depleted, the car has to wait for the tank truck to arrive.\n\n    \"\"\"\n    fuel_tank_level \u003d random.randint(*FUEL_TANK_LEVEL)\n    print(\u0027%s arriving at gas station at %.1f\u0027 % (name, env.now))\n    with gas_station.request() as req:\n        start \u003d env.now\n        # Request one of the gas pumps\n        yield req\n\n        # Get the required amount of fuel\n        liters_required \u003d FUEL_TANK_SIZE - fuel_tank_level\n        yield fuel_pump.get(liters_required)\n\n        # The \"actual\" refueling process takes some time\n        yield env.timeout(liters_required / REFUELING_SPEED)\n\n        print(\u0027%s finished refueling in %.1f seconds.\u0027 % (name,\n                                                          env.now - start))\n\n\ndef gas_station_control(env, fuel_pump):\n    \"\"\"Periodically check the level of the *fuel_pump* and call the tank\n    truck if the level falls below a threshold.\"\"\"\n    while True:\n        if fuel_pump.level / fuel_pump.capacity * 100 \u003c THRESHOLD:\n            # We need to call the tank truck now!\n            print(\u0027Calling tank truck at %d\u0027 % env.now)\n            # Wait for the tank truck to arrive and refuel the station\n            yield env.process(tank_truck(env, fuel_pump))\n\n        yield env.timeout(10)  # Check every 10 seconds\n\n\ndef tank_truck(env, fuel_pump):\n    \"\"\"Arrives at the gas station after a certain delay and refuels it.\"\"\"\n    yield env.timeout(TANK_TRUCK_TIME)\n    print(\u0027Tank truck arriving at time %d\u0027 % env.now)\n    ammount \u003d fuel_pump.capacity - fuel_pump.level\n    print(\u0027Tank truck refuelling %.1f liters.\u0027 % ammount)\n    yield fuel_pump.put(ammount)\n\n\ndef car_generator(env, gas_station, fuel_pump):\n    \"\"\"Generate new cars that arrive at the gas station.\"\"\"\n    for i in itertools.count():\n        yield env.timeout(random.randint(*T_INTER))\n        env.process(car(\u0027Car %d\u0027 % i, env, gas_station, fuel_pump))\n\n\n# Setup and start the simulation\nprint(\u0027Gas Station refuelling\u0027)\nrandom.seed(RANDOM_SEED)\n\n# Create environment and start processes\nenv \u003d simpy.Environment()\ngas_station \u003d simpy.Resource(env, 2)\nfuel_pump \u003d simpy.Container(env, GAS_STATION_SIZE, init\u003dGAS_STATION_SIZE)\nenv.process(gas_station_control(env, fuel_pump))\nenv.process(car_generator(env, gas_station, fuel_pump))\n\n# Execute!\nenv.run(until\u003dSIM_TIME)"
    },
    {
      "cell_type": "markdown",
      "metadata": {
        "pycharm": {
          "metadata": false
        }
      },
      "source": [
        "\n",
        "### Process communication"
      ]
    },
    {
      "cell_type": "code",
      "execution_count": 7,
      "metadata": {
        "pycharm": {
          "metadata": false,
          "name": "#%%\n",
          "is_executing": false
        }
      },
      "outputs": [
        {
          "name": "stdout",
          "text": [
            "Process communication\n\nOne-to-one pipe communication\n\nat time 6: Consumer A received message: Generator A says hello at 6.\nat time 12: Consumer A received message: Generator A says hello at 12.\nat time 19: Consumer A received message: Generator A says hello at 19.\nat time 26: Consumer A received message: Generator A says hello at 26.\nat time 36: Consumer A received message: Generator A says hello at 36.\nat time 46: Consumer A received message: Generator A says hello at 46.\nat time 52: Consumer A received message: Generator A says hello at 52.\nat time 58: Consumer A received message: Generator A says hello at 58.\nLATE Getting Message: at time 66: Consumer A received message: Generator A says hello at 65\nat time 75: Consumer A received message: Generator A says hello at 75.\nat time 85: Consumer A received message: Generator A says hello at 85.\nat time 95: Consumer A received message: Generator A says hello at 95.\n\nOne-to-many pipe communication\n\nat time 10: Consumer A received message: Generator A says hello at 10.\nat time 10: Consumer B received message: Generator A says hello at 10.\nat time 18: Consumer A received message: Generator A says hello at 18.\nat time 18: Consumer B received message: Generator A says hello at 18.\nat time 27: Consumer A received message: Generator A says hello at 27.\nat time 27: Consumer B received message: Generator A says hello at 27.\nat time 34: Consumer A received message: Generator A says hello at 34.\nat time 34: Consumer B received message: Generator A says hello at 34.\nat time 40: Consumer A received message: Generator A says hello at 40.\nLATE Getting Message: at time 41: Consumer B received message: Generator A says hello at 40\nat time 46: Consumer A received message: Generator A says hello at 46.\nLATE Getting Message: at time 47: Consumer B received message: Generator A says hello at 46\nat time 56: Consumer A received message: Generator A says hello at 56.\nat time 56: Consumer B received message: Generator A says hello at 56.\nat time 65: Consumer A received message: Generator A says hello at 65.\nat time 65: Consumer B received message: Generator A says hello at 65.\nat time 74: Consumer A received message: Generator A says hello at 74.\nat time 74: Consumer B received message: Generator A says hello at 74.\nat time 82: Consumer A received message: Generator A says hello at 82.\nat time 82: Consumer B received message: Generator A says hello at 82.\nat time 92: Consumer A received message: Generator A says hello at 92.\nat time 92: Consumer B received message: Generator A says hello at 92.\nat time 98: Consumer B received message: Generator A says hello at 98.\nat time 98: Consumer A received message: Generator A says hello at 98.\n"
          ],
          "output_type": "stream"
        }
      ],
      "source": "\"\"\"\nProcess communication example\n\nCovers:\n\n- Resources: Store\n\nScenario:\n  This example shows how to interconnect simulation model elements\n  together using :class:`~simpy.resources.store.Store` for one-to-one,\n  and many-to-one asynchronous processes. For one-to-many a simple\n  BroadCastPipe class is constructed from Store.\n\nWhen Useful:\n  When a consumer process does not always wait on a generating process\n  and these processes run asynchronously. This example shows how to\n  create a buffer and also tell is the consumer process was late\n  yielding to the event from a generating process.\n\n  This is also useful when some information needs to be broadcast to\n  many receiving processes\n\n  Finally, using pipes can simplify how processes are interconnected to\n  each other in a simulation model.\n\nExample By:\n  Keith Smith\n\n\"\"\"\nimport random\n\nimport simpy\n\n\nRANDOM_SEED \u003d 42\nSIM_TIME \u003d 100\n\n\nclass BroadcastPipe(object):\n    \"\"\"A Broadcast pipe that allows one process to send messages to many.\n\n    This construct is useful when message consumers are running at\n    different rates than message generators and provides an event\n    buffering to the consuming processes.\n\n    The parameters are used to create a new\n    :class:`~simpy.resources.store.Store` instance each time\n    :meth:`get_output_conn()` is called.\n\n    \"\"\"\n    def __init__(self, env, capacity\u003dsimpy.core.Infinity):\n        self.env \u003d env\n        self.capacity \u003d capacity\n        self.pipes \u003d []\n\n    def put(self, value):\n        \"\"\"Broadcast a *value* to all receivers.\"\"\"\n        if not self.pipes:\n            raise RuntimeError(\u0027There are no output pipes.\u0027)\n        events \u003d [store.put(value) for store in self.pipes]\n        return self.env.all_of(events)  # Condition event for all \"events\"\n\n    def get_output_conn(self):\n        \"\"\"Get a new output connection for this broadcast pipe.\n\n        The return value is a :class:`~simpy.resources.store.Store`.\n\n        \"\"\"\n        pipe \u003d simpy.Store(self.env, capacity\u003dself.capacity)\n        self.pipes.append(pipe)\n        return pipe\n\n\ndef message_generator(name, env, out_pipe):\n    \"\"\"A process which randomly generates messages.\"\"\"\n    while True:\n        # wait for next transmission\n        yield env.timeout(random.randint(6, 10))\n\n        # messages are time stamped to later check if the consumer was\n        # late getting them.  Note, using event.triggered to do this may\n        # result in failure due to FIFO nature of simulation yields.\n        # (i.e. if at the same env.now, message_generator puts a message\n        # in the pipe first and then message_consumer gets from pipe,\n        # the event.triggered will be True in the other order it will be\n        # False\n        msg \u003d (env.now, \u0027%s says hello at %d\u0027 % (name, env.now))\n        out_pipe.put(msg)\n\n\ndef message_consumer(name, env, in_pipe):\n    \"\"\"A process which consumes messages.\"\"\"\n    while True:\n        # Get event for message pipe\n        msg \u003d yield in_pipe.get()\n\n        if msg[0] \u003c env.now:\n            # if message was already put into pipe, then\n            # message_consumer was late getting to it. Depending on what\n            # is being modeled this, may, or may not have some\n            # significance\n            print(\u0027LATE Getting Message: at time %d: %s received message: %s\u0027 %\n                  (env.now, name, msg[1]))\n\n        else:\n            # message_consumer is synchronized with message_generator\n            print(\u0027at time %d: %s received message: %s.\u0027 %\n                  (env.now, name, msg[1]))\n\n        # Process does some other work, which may result in missing messages\n        yield env.timeout(random.randint(4, 8))\n\n\n# Setup and start the simulation\nprint(\u0027Process communication\u0027)\nrandom.seed(RANDOM_SEED)\nenv \u003d simpy.Environment()\n\n# For one-to-one or many-to-one type pipes, use Store\npipe \u003d simpy.Store(env)\nenv.process(message_generator(\u0027Generator A\u0027, env, pipe))\nenv.process(message_consumer(\u0027Consumer A\u0027, env, pipe))\n\nprint(\u0027\\nOne-to-one pipe communication\\n\u0027)\nenv.run(until\u003dSIM_TIME)\n\n# For one-to many use BroadcastPipe\n# (Note: could also be used for one-to-one,many-to-one or many-to-many)\nenv \u003d simpy.Environment()\nbc_pipe \u003d BroadcastPipe(env)\n\nenv.process(message_generator(\u0027Generator A\u0027, env, bc_pipe))\nenv.process(message_consumer(\u0027Consumer A\u0027, env, bc_pipe.get_output_conn()))\nenv.process(message_consumer(\u0027Consumer B\u0027, env, bc_pipe.get_output_conn()))\n\nprint(\u0027\\nOne-to-many pipe communication\\n\u0027)\nenv.run(until\u003dSIM_TIME)"
    },
    {
      "cell_type": "markdown",
      "metadata": {
        "pycharm": {
          "metadata": false
        }
      },
      "source": [
        "\n",
        "### Event Latency"
      ]
    },
    {
      "cell_type": "code",
      "execution_count": 8,
      "metadata": {
        "pycharm": {
          "metadata": false,
          "name": "#%%\n",
          "is_executing": false
        }
      },
      "outputs": [
        {
          "name": "stdout",
          "text": [
            "Event Latency\nReceived this at 15 while Sender sent this at 5\nReceived this at 20 while Sender sent this at 10\nReceived this at 25 while Sender sent this at 15\nReceived this at 30 while Sender sent this at 20\nReceived this at 35 while Sender sent this at 25\nReceived this at 40 while Sender sent this at 30\nReceived this at 45 while Sender sent this at 35\nReceived this at 50 while Sender sent this at 40\nReceived this at 55 while Sender sent this at 45\nReceived this at 60 while Sender sent this at 50\nReceived this at 65 while Sender sent this at 55\nReceived this at 70 while Sender sent this at 60\nReceived this at 75 while Sender sent this at 65\nReceived this at 80 while Sender sent this at 70\nReceived this at 85 while Sender sent this at 75\nReceived this at 90 while Sender sent this at 80\nReceived this at 95 while Sender sent this at 85\n"
          ],
          "output_type": "stream"
        }
      ],
      "source": "\"\"\"\nEvent Latency example\n\nCovers:\n\n- Resources: Store\n\nScenario:\n  This example shows how to separate the time delay of events between\n  processes from the processes themselves.\n\nWhen Useful:\n  When modeling physical things such as cables, RF propagation, etc.  it\n  better encapsulation to keep this propagation mechanism outside of the\n  sending and receiving processes.\n\n  Can also be used to interconnect processes sending messages\n\nExample by:\n  Keith Smith\n\n\"\"\"\nimport simpy\n\n\nSIM_DURATION \u003d 100\n\n\nclass Cable(object):\n    \"\"\"This class represents the propagation through a cable.\"\"\"\n    def __init__(self, env, delay):\n        self.env \u003d env\n        self.delay \u003d delay\n        self.store \u003d simpy.Store(env)\n\n    def latency(self, value):\n        yield self.env.timeout(self.delay)\n        self.store.put(value)\n\n    def put(self, value):\n        self.env.process(self.latency(value))\n\n    def get(self):\n        return self.store.get()\n\n\ndef sender(env, cable):\n    \"\"\"A process which randomly generates messages.\"\"\"\n    while True:\n        # wait for next transmission\n        yield env.timeout(5)\n        cable.put(\u0027Sender sent this at %d\u0027 % env.now)\n\n\ndef receiver(env, cable):\n    \"\"\"A process which consumes messages.\"\"\"\n    while True:\n        # Get event for message pipe\n        msg \u003d yield cable.get()\n        print(\u0027Received this at %d while %s\u0027 % (env.now, msg))\n\n\n# Setup and start the simulation\nprint(\u0027Event Latency\u0027)\nenv \u003d simpy.Environment()\n\ncable \u003d Cable(env, 10)\nenv.process(sender(env, cable))\nenv.process(receiver(env, cable))\n\nenv.run(until\u003dSIM_DURATION)"
    }
  ],
  "metadata": {
    "kernelspec": {
      "display_name": "Python 3",
      "language": "python",
      "name": "python3"
    },
    "language_info": {
      "codemirror_mode": {
        "name": "ipython",
        "version": 3
      },
      "file_extension": ".py",
      "mimetype": "text/x-python",
      "name": "python",
      "nbconvert_exporter": "python",
      "pygments_lexer": "ipython3",
      "version": "3.7.2"
    },
    "stem_cell": {
      "cell_type": "raw",
      "metadata": {
        "pycharm": {
          "metadata": false
        }
      },
      "source": ""
    }
  },
  "nbformat": 4,
  "nbformat_minor": 1
}