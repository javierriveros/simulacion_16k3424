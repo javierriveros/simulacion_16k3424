{
  "cells": [
    {
      "cell_type": "markdown",
      "source": "# TALLER 9\n",
      "metadata": {
        "pycharm": {
          "metadata": false
        }
      }
    },
    {
      "cell_type": "code",
      "metadata": {
        "collapsed": true,
        "pycharm": {
          "is_executing": false,
          "name": "#%%\n"
        }
      },
      "source": "import random\nimport math\nT \u003d int(1e12) \n\n\ndef get_random_number():\n    return random.random()\n\ndef get_exponential(lambda_parameter):\n    random_number \u003d get_random_number()\n    value \u003d - (math.log(1 - random_number) / float(lambda_parameter))\n    return value\n\ndef get_normal():\n    random_number \u003d get_random_number()\n    square_root \u003d math.sqrt(-2 * math.log1p(random_number - 1))\n    sin \u003d math.sin(2 * math.pi * random_number)\n    value \u003d square_root * sin\n    if(value \u003c 0):\n        value \u003d 0\n    return value\n\n\ndef arrival(actual_simulated_time):\n    global time,number_of_clients,number_of_arrivals,arrivals,lambda_parameter, max_service_time, main_times, clients, times\n    time \u003d actual_simulated_time\n    clients.append(number_of_clients)\n    times.append(time)\n    number_of_clients +\u003d 1\n    number_of_arrivals +\u003d 1\n    arrivals.append(time)\n    clients.append(number_of_clients)\n    times.append(time)\n    new_simulated_time \u003d get_exponential(lambda_parameter)\n    if(time + new_simulated_time \u003c max_service_time):\n        main_times[\u0027arrival_times\u0027] \u003d time + new_simulated_time\n    if(number_of_clients \u003d\u003d 1):\n        simulated_service_time \u003d get_normal()\n        main_times[\u0027departure_times\u0027] \u003d time + simulated_service_time\n        services_time.append(simulated_service_time)\n        \n\ndef server(actual_simulated_time):\n    global time, number_of_clients, number_of_departures, departures, main_times, clients, times\n    time \u003d actual_simulated_time\n    clients.append(number_of_clients)\n    times.append(time)\n    number_of_clients -\u003d 1\n    number_of_departures +\u003d 1\n    departures.append(time)\n    clients.append(number_of_clients)\n    times.append(time)\n    if(number_of_clients \u003e 0):\n        simulated_service_time \u003d get_normal()\n        main_times[\u0027departure_times\u0027] \u003d time + simulated_service_time\n        services_time.append(simulated_service_time)\n\n\ndef sample_mean(p_med, xi, j):\n    return p_med + ( (xi - p_med) / (j + 1.0))\n    \n\ndef sample_variance(p_med, aver_act, p_variance, j):\n    p1 \u003d (1 - ( 1.0 / j)) * p_variance\n    p2 \u003d ((aver_act - p_med) ** 2 ) * (j + 1)\n    return p1 + p2\n\n\nlambda_parameter \u003d 3\nmax_service_time \u003d 10\nsimulations \u003d [100, 1000, 10000]\nfor sim in simulations:\n    previous_average_time \u003d 0\n    average_time \u003d 0\n    variance \u003d 0\n    \n    averages \u003d []\n    variances \u003d []\n    tiempo_fila \u003d []\n    for i in range(sim):\n        tiempo_fila.clear()\n        time \u003d 0 \n        number_of_clients \u003d 0\n        number_of_arrivals \u003d 0\n        number_of_departures \u003d 0\n        \n        simulation_time_after_last_client \u003d 0\n        actual_simulated_time \u003d 0\n        \n        mean_system_time \u003d 0\n        mean_queue_time \u003d 0\n        \n        departures \u003d []\n        arrivals \u003d []\n        services_time \u003d []\n        \n        clients \u003d [0] # Eje Y\n        times \u003d [0]   # Eje X\n        \n        main_times \u003d {\n            \u0027arrival_times\u0027: T,\n            \u0027departure_times\u0027: T\n        }\n        \n        actual_simulated_time \u003d get_exponential(lambda_parameter)\n        \n        if actual_simulated_time \u003e max_service_time:\n            simulation_time_after_last_client \u003d 0\n            mean_system_time \u003d 0\n            mean_queue_time \u003d 0\n        else:\n            arrival(actual_simulated_time)\n                \n            while(main_times[\u0027arrival_times\u0027] !\u003d T or main_times[\u0027departure_times\u0027] !\u003d T):\n                if(main_times[\u0027arrival_times\u0027] \u003c main_times[\u0027departure_times\u0027]):\n                    new_simulated_time \u003d main_times[\u0027arrival_times\u0027]\n                    main_times[\u0027arrival_times\u0027] \u003d T\n                    arrival(new_simulated_time)\n                if(main_times[\u0027departure_times\u0027] \u003c main_times[\u0027arrival_times\u0027]):\n                    new_simulated_time \u003d main_times[\u0027departure_times\u0027]\n                    main_times[\u0027departure_times\u0027] \u003d T\n                    server(new_simulated_time)\n                            \n            simulation_time_after_last_client \u003d max(0, time - max_service_time)\n            accumulated_1 \u003d 0\n            accumulated_2 \u003d 0\n            counter \u003d 0\n            while counter \u003c number_of_arrivals:\n                accumulated_1 +\u003d departures[counter] - arrivals[counter]\n                accumulated_2 +\u003d departures[counter] - arrivals[counter] - services_time[counter]\n                counter +\u003d 1\n                            \n            mean_system_time \u003d accumulated_1 / number_of_arrivals\n            mean_queue_time \u003d accumulated_2 / number_of_arrivals\n        if i \u003e\u003d 1:\n            average_time \u003d sample_mean(average_time, mean_queue_time, i)\n        else:\n            average_time \u003d mean_queue_time\n            \n        if i \u003e\u003d 2:\n            variance \u003d sample_variance(\n                previous_average_time,\n                average_time,\n                variance,\n                i)\n            \n        previous_average_time \u003d average_time\n        averages.append(average_time)\n        variances.append(variance)\n        \n    print(\"K\u003d{}\".format(sim))\n    print(\"Media\u003d\",averages[sim-1])\n    print(\"Varianza\u003d\",variances[sim-1])\n    print(\"\")",
      "execution_count": 13,
      "outputs": [
        {
          "name": "stdout",
          "text": [
            "K\u003d100\nMedia\u003d 3.646329894408488\nVarianza\u003d 5.322507275217535\n\n",
            "K\u003d1000\nMedia\u003d 3.7728678216260065\nVarianza\u003d 4.512533708249727\n\n",
            "K\u003d10000\nMedia\u003d 3.8462600660847115\nVarianza\u003d 4.608599005421144\n\n"
          ],
          "output_type": "stream"
        }
      ]
    }
  ],
  "metadata": {
    "language_info": {
      "codemirror_mode": {
        "name": "ipython",
        "version": 2
      },
      "file_extension": ".py",
      "mimetype": "text/x-python",
      "name": "python",
      "nbconvert_exporter": "python",
      "pygments_lexer": "ipython2",
      "version": "2.7.6"
    },
    "kernelspec": {
      "name": "python3",
      "language": "python",
      "display_name": "Python 3"
    },
    "stem_cell": {
      "cell_type": "raw",
      "source": "",
      "metadata": {
        "pycharm": {
          "metadata": false
        }
      }
    }
  },
  "nbformat": 4,
  "nbformat_minor": 0
}