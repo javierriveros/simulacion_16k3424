{
 "cells": [
  {
   "cell_type": "markdown",
   "metadata": {
    "pycharm": {}
   },
   "source": [
    "## 1er Parcial - Simulación Computacional 2019-I\n"
   ]
  },
  {
   "cell_type": "code",
   "execution_count": 11,
   "metadata": {
    "pycharm": {
     "is_executing": false,
     "metadata": false,
     "name": "#%%\n"
    }
   },
   "outputs": [],
   "source": [
    "import math as mt\n",
    "import matplotlib.pyplot as plt\n",
    "import time\n",
    "import sys\n",
    "#Semilla usada para repetir experimentos\n",
    "seed = 21\n",
    "#Tiempo del sistema en segundos (s), usada para el primer generador\n",
    "Xn = time.time()\n",
    "#Tiempo del sistema en milisegundos (ms) usada para el segundo generador\n",
    "Xn_2 = time.time()*1000\n",
    "#Cantidad de puntos a generar\n",
    "points = int(1e6)\n",
    "        \n",
    "def cong_mixto():\n",
    "    global Xn\n",
    "    a = 25214903917\n",
    "    m = 2**48 - 1\n",
    "    Xn = (a*Xn + 1) % m\n",
    "    return Xn/m"
   ]
  },
  {
   "cell_type": "markdown",
   "metadata": {
    "pycharm": {}
   },
   "source": [
    "**1)** Para los siguientes generadores congruenciales mixtos encuentre $u_1,...,u_{100}$, el tamaño del ciclo (si lo tiene) y calcule el estadístico $\\chi^2$\n",
    "\n",
    "**(a)** $x_0=3, x_n = (5x_{n-1}+7) \\mod 200$"
   ]
  },
  {
   "cell_type": "code",
   "execution_count": 22,
   "metadata": {
    "pycharm": {
     "is_executing": false,
     "metadata": false,
     "name": "#%%\n"
    }
   },
   "outputs": [
    {
     "name": "stdout",
     "output_type": "stream",
     "text": [
      "1\t 22\t 0.1100\t\n",
      "2\t 117\t 0.5850\t\n",
      "3\t 192\t 0.9600\t\n",
      "4\t 167\t 0.8350\t\n",
      "5\t 42\t 0.2100\t\n",
      "6\t 17\t 0.0850\t\n",
      "7\t 92\t 0.4600\t\n",
      "8\t 67\t 0.3350\t\n",
      "9\t 142\t 0.7100\t\n",
      "10\t 117\t 0.5850\t\n",
      "11\t 192\t 0.9600\t\n",
      "12\t 167\t 0.8350\t\n",
      "13\t 42\t 0.2100\t\n",
      "14\t 17\t 0.0850\t\n",
      "15\t 92\t 0.4600\t\n",
      "16\t 67\t 0.3350\t\n",
      "17\t 142\t 0.7100\t\n",
      "18\t 117\t 0.5850\t\n",
      "19\t 192\t 0.9600\t\n",
      "20\t 167\t 0.8350\t\n",
      "21\t 42\t 0.2100\t\n",
      "22\t 17\t 0.0850\t\n",
      "23\t 92\t 0.4600\t\n",
      "24\t 67\t 0.3350\t\n",
      "25\t 142\t 0.7100\t\n",
      "26\t 117\t 0.5850\t\n",
      "27\t 192\t 0.9600\t\n",
      "28\t 167\t 0.8350\t\n",
      "29\t 42\t 0.2100\t\n",
      "30\t 17\t 0.0850\t\n",
      "31\t 92\t 0.4600\t\n",
      "32\t 67\t 0.3350\t\n",
      "33\t 142\t 0.7100\t\n",
      "34\t 117\t 0.5850\t\n",
      "35\t 192\t 0.9600\t\n",
      "36\t 167\t 0.8350\t\n",
      "37\t 42\t 0.2100\t\n",
      "38\t 17\t 0.0850\t\n",
      "39\t 92\t 0.4600\t\n",
      "40\t 67\t 0.3350\t\n",
      "41\t 142\t 0.7100\t\n",
      "42\t 117\t 0.5850\t\n",
      "43\t 192\t 0.9600\t\n",
      "44\t 167\t 0.8350\t\n",
      "45\t 42\t 0.2100\t\n",
      "46\t 17\t 0.0850\t\n",
      "47\t 92\t 0.4600\t\n",
      "48\t 67\t 0.3350\t\n",
      "49\t 142\t 0.7100\t\n",
      "50\t 117\t 0.5850\t\n",
      "51\t 192\t 0.9600\t\n",
      "52\t 167\t 0.8350\t\n",
      "53\t 42\t 0.2100\t\n",
      "54\t 17\t 0.0850\t\n",
      "55\t 92\t 0.4600\t\n",
      "56\t 67\t 0.3350\t\n",
      "57\t 142\t 0.7100\t\n",
      "58\t 117\t 0.5850\t\n",
      "59\t 192\t 0.9600\t\n",
      "60\t 167\t 0.8350\t\n",
      "61\t 42\t 0.2100\t\n",
      "62\t 17\t 0.0850\t\n",
      "63\t 92\t 0.4600\t\n",
      "64\t 67\t 0.3350\t\n",
      "65\t 142\t 0.7100\t\n",
      "66\t 117\t 0.5850\t\n",
      "67\t 192\t 0.9600\t\n",
      "68\t 167\t 0.8350\t\n",
      "69\t 42\t 0.2100\t\n",
      "70\t 17\t 0.0850\t\n",
      "71\t 92\t 0.4600\t\n",
      "72\t 67\t 0.3350\t\n",
      "73\t 142\t 0.7100\t\n",
      "74\t 117\t 0.5850\t\n",
      "75\t 192\t 0.9600\t\n",
      "76\t 167\t 0.8350\t\n",
      "77\t 42\t 0.2100\t\n",
      "78\t 17\t 0.0850\t\n",
      "79\t 92\t 0.4600\t\n",
      "80\t 67\t 0.3350\t\n",
      "81\t 142\t 0.7100\t\n",
      "82\t 117\t 0.5850\t\n",
      "83\t 192\t 0.9600\t\n",
      "84\t 167\t 0.8350\t\n",
      "85\t 42\t 0.2100\t\n",
      "86\t 17\t 0.0850\t\n",
      "87\t 92\t 0.4600\t\n",
      "88\t 67\t 0.3350\t\n",
      "89\t 142\t 0.7100\t\n",
      "90\t 117\t 0.5850\t\n",
      "91\t 192\t 0.9600\t\n",
      "92\t 167\t 0.8350\t\n",
      "93\t 42\t 0.2100\t\n",
      "94\t 17\t 0.0850\t\n",
      "95\t 92\t 0.4600\t\n",
      "96\t 67\t 0.3350\t\n",
      "97\t 142\t 0.7100\t\n",
      "98\t 117\t 0.5850\t\n",
      "99\t 192\t 0.9600\t\n",
      "100\t 167\t 0.8350\t\n"
     ]
    }
   ],
   "source": [
    "def GNCongruMix(x0, a, m, c, lim):\n",
    "    xn = x0\n",
    "    list = []\n",
    "    for i in range(lim):\n",
    "        xn = (a * xn + c) % m\n",
    "        un = xn / m\n",
    "        list.append(un)\n",
    "        #print(\"u_{} = {}\".format(i+1, un))\n",
    "        print(\"%d\\t %d\\t %.4f\\t\"%(i+1,xn,un))\n",
    "\n",
    "    return list\n",
    "\n",
    "\n",
    "x0 = 3\n",
    "a = 5\n",
    "m = 200\n",
    "c = 7\n",
    "lim = 100\n",
    "list = GNCongruMix(x0, a, m, c, lim)\n",
    "#for i in range(len(list)):\n",
    " #   print(\"u_{} = {}\".format(i+1, list[i]))"
   ]
  },
  {
   "cell_type": "code",
   "execution_count": 23,
   "metadata": {
    "pycharm": {
     "is_executing": false,
     "metadata": false,
     "name": "#%%\n"
    }
   },
   "outputs": [
    {
     "name": "stdout",
     "output_type": "stream",
     "text": [
      "El tamaño del ciclo es\n"
     ]
    },
    {
     "data": {
      "text/plain": [
       "'8'"
      ]
     },
     "execution_count": 23,
     "metadata": {},
     "output_type": "execute_result"
    }
   ],
   "source": [
    "def ciclos(lista):\n",
    "    xf=0\n",
    "    xi=0\n",
    "    for i in range(len(lista)):\n",
    "        for j in range(i+1, len(lista)):\n",
    "            if lista[i]==lista[j]:\n",
    "                return str(j-i)\n",
    "    return \"No esta repetido en este momento\"\n",
    "print(\"El tamaño del ciclo es\")\n",
    "ciclos(list)\n",
    "\n"
   ]
  },
  {
   "cell_type": "markdown",
   "metadata": {
    "pycharm": {}
   },
   "source": [
    "**(b)** $x_0=123, x_n = (13x_{n-1}+3) \\mod 16$"
   ]
  },
  {
   "cell_type": "code",
   "execution_count": 24,
   "metadata": {
    "pycharm": {
     "is_executing": false,
     "metadata": false,
     "name": "#%%\n"
    }
   },
   "outputs": [
    {
     "name": "stdout",
     "output_type": "stream",
     "text": [
      "1\t 2\t 0.1250\t\n",
      "2\t 13\t 0.8125\t\n",
      "3\t 12\t 0.7500\t\n",
      "4\t 15\t 0.9375\t\n",
      "5\t 6\t 0.3750\t\n",
      "6\t 1\t 0.0625\t\n",
      "7\t 0\t 0.0000\t\n",
      "8\t 3\t 0.1875\t\n",
      "9\t 10\t 0.6250\t\n",
      "10\t 5\t 0.3125\t\n",
      "11\t 4\t 0.2500\t\n",
      "12\t 7\t 0.4375\t\n",
      "13\t 14\t 0.8750\t\n",
      "14\t 9\t 0.5625\t\n",
      "15\t 8\t 0.5000\t\n",
      "16\t 11\t 0.6875\t\n",
      "17\t 2\t 0.1250\t\n",
      "18\t 13\t 0.8125\t\n",
      "19\t 12\t 0.7500\t\n",
      "20\t 15\t 0.9375\t\n",
      "21\t 6\t 0.3750\t\n",
      "22\t 1\t 0.0625\t\n",
      "23\t 0\t 0.0000\t\n",
      "24\t 3\t 0.1875\t\n",
      "25\t 10\t 0.6250\t\n",
      "26\t 5\t 0.3125\t\n",
      "27\t 4\t 0.2500\t\n",
      "28\t 7\t 0.4375\t\n",
      "29\t 14\t 0.8750\t\n",
      "30\t 9\t 0.5625\t\n",
      "31\t 8\t 0.5000\t\n",
      "32\t 11\t 0.6875\t\n",
      "33\t 2\t 0.1250\t\n",
      "34\t 13\t 0.8125\t\n",
      "35\t 12\t 0.7500\t\n",
      "36\t 15\t 0.9375\t\n",
      "37\t 6\t 0.3750\t\n",
      "38\t 1\t 0.0625\t\n",
      "39\t 0\t 0.0000\t\n",
      "40\t 3\t 0.1875\t\n",
      "41\t 10\t 0.6250\t\n",
      "42\t 5\t 0.3125\t\n",
      "43\t 4\t 0.2500\t\n",
      "44\t 7\t 0.4375\t\n",
      "45\t 14\t 0.8750\t\n",
      "46\t 9\t 0.5625\t\n",
      "47\t 8\t 0.5000\t\n",
      "48\t 11\t 0.6875\t\n",
      "49\t 2\t 0.1250\t\n",
      "50\t 13\t 0.8125\t\n",
      "51\t 12\t 0.7500\t\n",
      "52\t 15\t 0.9375\t\n",
      "53\t 6\t 0.3750\t\n",
      "54\t 1\t 0.0625\t\n",
      "55\t 0\t 0.0000\t\n",
      "56\t 3\t 0.1875\t\n",
      "57\t 10\t 0.6250\t\n",
      "58\t 5\t 0.3125\t\n",
      "59\t 4\t 0.2500\t\n",
      "60\t 7\t 0.4375\t\n",
      "61\t 14\t 0.8750\t\n",
      "62\t 9\t 0.5625\t\n",
      "63\t 8\t 0.5000\t\n",
      "64\t 11\t 0.6875\t\n",
      "65\t 2\t 0.1250\t\n",
      "66\t 13\t 0.8125\t\n",
      "67\t 12\t 0.7500\t\n",
      "68\t 15\t 0.9375\t\n",
      "69\t 6\t 0.3750\t\n",
      "70\t 1\t 0.0625\t\n",
      "71\t 0\t 0.0000\t\n",
      "72\t 3\t 0.1875\t\n",
      "73\t 10\t 0.6250\t\n",
      "74\t 5\t 0.3125\t\n",
      "75\t 4\t 0.2500\t\n",
      "76\t 7\t 0.4375\t\n",
      "77\t 14\t 0.8750\t\n",
      "78\t 9\t 0.5625\t\n",
      "79\t 8\t 0.5000\t\n",
      "80\t 11\t 0.6875\t\n",
      "81\t 2\t 0.1250\t\n",
      "82\t 13\t 0.8125\t\n",
      "83\t 12\t 0.7500\t\n",
      "84\t 15\t 0.9375\t\n",
      "85\t 6\t 0.3750\t\n",
      "86\t 1\t 0.0625\t\n",
      "87\t 0\t 0.0000\t\n",
      "88\t 3\t 0.1875\t\n",
      "89\t 10\t 0.6250\t\n",
      "90\t 5\t 0.3125\t\n",
      "91\t 4\t 0.2500\t\n",
      "92\t 7\t 0.4375\t\n",
      "93\t 14\t 0.8750\t\n",
      "94\t 9\t 0.5625\t\n",
      "95\t 8\t 0.5000\t\n",
      "96\t 11\t 0.6875\t\n",
      "97\t 2\t 0.1250\t\n",
      "98\t 13\t 0.8125\t\n",
      "99\t 12\t 0.7500\t\n",
      "100\t 15\t 0.9375\t\n"
     ]
    }
   ],
   "source": [
    "x0 = 123\n",
    "a = 13\n",
    "m = 16\n",
    "c = 3\n",
    "lim = 100\n",
    "list_a = GNCongruMix(x0, a, m, c, lim)\n",
    "#for i in range(len(list)):\n",
    " #   print(\"u_{} = {}\".format(i+1, list[i]))"
   ]
  },
  {
   "cell_type": "code",
   "execution_count": 25,
   "metadata": {
    "pycharm": {
     "is_executing": false,
     "metadata": false,
     "name": "#%%\n"
    }
   },
   "outputs": [
    {
     "name": "stdout",
     "output_type": "stream",
     "text": [
      "El tamaño del ciclo es\n"
     ]
    },
    {
     "data": {
      "text/plain": [
       "'16'"
      ]
     },
     "execution_count": 25,
     "metadata": {},
     "output_type": "execute_result"
    }
   ],
   "source": [
    "print(\"El tamaño del ciclo es\")\n",
    "ciclos(list_a)"
   ]
  },
  {
   "cell_type": "markdown",
   "metadata": {
    "pycharm": {}
   },
   "source": [
    "**(c)** $x_0=7, x_n = (5x_{n-1}+3) \\mod 33$"
   ]
  },
  {
   "cell_type": "code",
   "execution_count": 26,
   "metadata": {
    "pycharm": {
     "is_executing": false,
     "metadata": false,
     "name": "#%%\n"
    }
   },
   "outputs": [
    {
     "name": "stdout",
     "output_type": "stream",
     "text": [
      "1\t 5\t 0.1515\t\n",
      "2\t 28\t 0.8485\t\n",
      "3\t 11\t 0.3333\t\n",
      "4\t 25\t 0.7576\t\n",
      "5\t 29\t 0.8788\t\n",
      "6\t 16\t 0.4848\t\n",
      "7\t 17\t 0.5152\t\n",
      "8\t 22\t 0.6667\t\n",
      "9\t 14\t 0.4242\t\n",
      "10\t 7\t 0.2121\t\n",
      "11\t 5\t 0.1515\t\n",
      "12\t 28\t 0.8485\t\n",
      "13\t 11\t 0.3333\t\n",
      "14\t 25\t 0.7576\t\n",
      "15\t 29\t 0.8788\t\n",
      "16\t 16\t 0.4848\t\n",
      "17\t 17\t 0.5152\t\n",
      "18\t 22\t 0.6667\t\n",
      "19\t 14\t 0.4242\t\n",
      "20\t 7\t 0.2121\t\n",
      "21\t 5\t 0.1515\t\n",
      "22\t 28\t 0.8485\t\n",
      "23\t 11\t 0.3333\t\n",
      "24\t 25\t 0.7576\t\n",
      "25\t 29\t 0.8788\t\n",
      "26\t 16\t 0.4848\t\n",
      "27\t 17\t 0.5152\t\n",
      "28\t 22\t 0.6667\t\n",
      "29\t 14\t 0.4242\t\n",
      "30\t 7\t 0.2121\t\n",
      "31\t 5\t 0.1515\t\n",
      "32\t 28\t 0.8485\t\n",
      "33\t 11\t 0.3333\t\n",
      "34\t 25\t 0.7576\t\n",
      "35\t 29\t 0.8788\t\n",
      "36\t 16\t 0.4848\t\n",
      "37\t 17\t 0.5152\t\n",
      "38\t 22\t 0.6667\t\n",
      "39\t 14\t 0.4242\t\n",
      "40\t 7\t 0.2121\t\n",
      "41\t 5\t 0.1515\t\n",
      "42\t 28\t 0.8485\t\n",
      "43\t 11\t 0.3333\t\n",
      "44\t 25\t 0.7576\t\n",
      "45\t 29\t 0.8788\t\n",
      "46\t 16\t 0.4848\t\n",
      "47\t 17\t 0.5152\t\n",
      "48\t 22\t 0.6667\t\n",
      "49\t 14\t 0.4242\t\n",
      "50\t 7\t 0.2121\t\n",
      "51\t 5\t 0.1515\t\n",
      "52\t 28\t 0.8485\t\n",
      "53\t 11\t 0.3333\t\n",
      "54\t 25\t 0.7576\t\n",
      "55\t 29\t 0.8788\t\n",
      "56\t 16\t 0.4848\t\n",
      "57\t 17\t 0.5152\t\n",
      "58\t 22\t 0.6667\t\n",
      "59\t 14\t 0.4242\t\n",
      "60\t 7\t 0.2121\t\n",
      "61\t 5\t 0.1515\t\n",
      "62\t 28\t 0.8485\t\n",
      "63\t 11\t 0.3333\t\n",
      "64\t 25\t 0.7576\t\n",
      "65\t 29\t 0.8788\t\n",
      "66\t 16\t 0.4848\t\n",
      "67\t 17\t 0.5152\t\n",
      "68\t 22\t 0.6667\t\n",
      "69\t 14\t 0.4242\t\n",
      "70\t 7\t 0.2121\t\n",
      "71\t 5\t 0.1515\t\n",
      "72\t 28\t 0.8485\t\n",
      "73\t 11\t 0.3333\t\n",
      "74\t 25\t 0.7576\t\n",
      "75\t 29\t 0.8788\t\n",
      "76\t 16\t 0.4848\t\n",
      "77\t 17\t 0.5152\t\n",
      "78\t 22\t 0.6667\t\n",
      "79\t 14\t 0.4242\t\n",
      "80\t 7\t 0.2121\t\n",
      "81\t 5\t 0.1515\t\n",
      "82\t 28\t 0.8485\t\n",
      "83\t 11\t 0.3333\t\n",
      "84\t 25\t 0.7576\t\n",
      "85\t 29\t 0.8788\t\n",
      "86\t 16\t 0.4848\t\n",
      "87\t 17\t 0.5152\t\n",
      "88\t 22\t 0.6667\t\n",
      "89\t 14\t 0.4242\t\n",
      "90\t 7\t 0.2121\t\n",
      "91\t 5\t 0.1515\t\n",
      "92\t 28\t 0.8485\t\n",
      "93\t 11\t 0.3333\t\n",
      "94\t 25\t 0.7576\t\n",
      "95\t 29\t 0.8788\t\n",
      "96\t 16\t 0.4848\t\n",
      "97\t 17\t 0.5152\t\n",
      "98\t 22\t 0.6667\t\n",
      "99\t 14\t 0.4242\t\n",
      "100\t 7\t 0.2121\t\n"
     ]
    }
   ],
   "source": [
    "x0 = 7\n",
    "a = 5\n",
    "m = 33\n",
    "c = 3\n",
    "lim = 100\n",
    "list_c = GNCongruMix(x0, a, m, c, lim)\n",
    "#for i in range(len(list)):\n",
    " #   print(\"u_{} = {}\".format(i+1, list[i]))"
   ]
  },
  {
   "cell_type": "code",
   "execution_count": 27,
   "metadata": {
    "pycharm": {
     "is_executing": false,
     "metadata": false,
     "name": "#%%\n"
    }
   },
   "outputs": [
    {
     "name": "stdout",
     "output_type": "stream",
     "text": [
      "El tamaño del ciclo es\n"
     ]
    },
    {
     "data": {
      "text/plain": [
       "'10'"
      ]
     },
     "execution_count": 27,
     "metadata": {},
     "output_type": "execute_result"
    }
   ],
   "source": [
    "print(\"El tamaño del ciclo es\")\n",
    "ciclos(list_c)"
   ]
  },
  {
   "cell_type": "markdown",
   "metadata": {
    "pycharm": {}
   },
   "source": [
    "**2)** Para las siguientes integrales, use simulación con el generado congruencial mixto $x_0=6789, x_n = (25214903917 x_{n-1}+11) \\mod 2^{48}-1$ para aproximar el valor de las integrales para $N=100, 1000, 10000$, y compare su estimación con el valor real calculando el error relativo porcentual:\n",
    "\n",
    "**(a)** $\\int_{0}^{1}e ^{sin(x)}dx$\n"
   ]
  },
  {
   "cell_type": "code",
   "execution_count": 55,
   "metadata": {
    "pycharm": {
     "is_executing": false,
     "metadata": false,
     "name": "#%%\n"
    }
   },
   "outputs": [],
   "source": [
    "from random import random\n",
    "from sympy import *\n",
    "import numpy as np\n",
    "import math\n",
    "\n",
    "def GNCongruMix_int(x0, a, m, c, lim):\n",
    "    xn = x0\n",
    "    list = []\n",
    "    for i in range(lim):\n",
    "        xn = (a * xn + c) % m\n",
    "        un = xn / m\n",
    "        list.append(un)\n",
    "        #print(\"u_{} = {}\".format(i+1, un))\n",
    "        #print(\"%d\\t %d\\t %.4f\\t\"%(i+1,xn,un))\n",
    "\n",
    "    return list\n",
    "x0 = 6789\n",
    "a = 25214903917\n",
    "m = (math.pow(2,48))-1\n",
    "#print(m)\n",
    "c = 11\n",
    "lim = 10000\n",
    "list_int = GNCongruMix_int(x0, a, m, c, lim)\n",
    "\n",
    "def evaluate_form(expression,x):\n",
    "    j = symbols(\"x\")\n",
    "    return (sympify(expression).subs(j,x).subs(\"e\",np.exp(1)))\n",
    "\n",
    "def montecarlo(expression, a ,b ,n):\n",
    "    suma = 0.0\n",
    "    global list_int\n",
    "    for i in range(n):\n",
    "        u = list_int[i]\n",
    "        x = a + (b - a) * u\n",
    "        suma += (b-a) * evaluate_form(expression, x)\n",
    "    return suma/n\n"
   ]
  },
  {
   "cell_type": "code",
   "execution_count": 56,
   "metadata": {
    "pycharm": {
     "is_executing": false,
     "metadata": false,
     "name": "#%%\n"
    }
   },
   "outputs": [
    {
     "name": "stdout",
     "output_type": "stream",
     "text": [
      "Valor de la integral de e^(sin(x)) k = 100 = 1.56731000295127\n",
      "Valor de la integral de e^(sin(x)) = 1.631869688\n",
      "Error es es 3.956178947587974%\n"
     ]
    }
   ],
   "source": [
    "intec = montecarlo(\"e^(sin(x))\", 0, 1, 100)\n",
    "print(\"Valor de la integral de e^(sin(x)) k = 100 = {}\".format(intec) )\n",
    "real = 1.631869688\n",
    "print(\"Valor de la integral de e^(sin(x)) = {}\".format(real))\n",
    "error = ((real - intec) / real)*100\n",
    "print(\"Error es es {}%\".format(mt.fabs( error) ))\n"
   ]
  },
  {
   "cell_type": "markdown",
   "metadata": {
    "pycharm": {
     "metadata": false
    }
   },
   "source": []
  },
  {
   "cell_type": "code",
   "execution_count": 57,
   "metadata": {
    "pycharm": {
     "is_executing": false,
     "metadata": false,
     "name": "#%%\n"
    }
   },
   "outputs": [
    {
     "name": "stdout",
     "output_type": "stream",
     "text": [
      "Valor de la integral de e^(sin(x)) k = 1000 = 1.65638048587884\n",
      "Valor de la integral de e^(sin(x)) = 1.631869688\n",
      "Error es 1.5020070572475028%\n"
     ]
    }
   ],
   "source": [
    "intec = montecarlo(\"e^(sin(x))\", 0, 1, 1000)\n",
    "print(\"Valor de la integral de e^(sin(x)) k = 1000 = {}\".format(intec) )\n",
    "real = 1.631869688\n",
    "print(\"Valor de la integral de e^(sin(x)) = {}\".format(real))\n",
    "error = ((real - intec) / real)*100\n",
    "print(\"Error es {}%\".format(mt.fabs( error) ))\n"
   ]
  },
  {
   "cell_type": "markdown",
   "metadata": {
    "pycharm": {
     "metadata": false
    }
   },
   "source": []
  },
  {
   "cell_type": "code",
   "execution_count": 58,
   "metadata": {
    "pycharm": {
     "is_executing": false,
     "metadata": false,
     "name": "#%%\n"
    }
   },
   "outputs": [
    {
     "name": "stdout",
     "output_type": "stream",
     "text": [
      "Valor de la integral de e^(sin(x)) k = 10000 = 1.63173497343791\n",
      "Valor de la integral de e^(sin(x)) = 1.631869688\n",
      "Error es 0.008255227919020123%\n"
     ]
    }
   ],
   "source": [
    "intec = montecarlo(\"e^(sin(x))\", 0, 1, 10000)\n",
    "print(\"Valor de la integral de e^(sin(x)) k = 10000 = {}\".format(intec) )\n",
    "real = 1.631869688\n",
    "print(\"Valor de la integral de e^(sin(x)) = {}\".format(real))\n",
    "error = ((real - intec) / real)*100\n",
    "print(\"Error es {}%\".format(mt.fabs( error) ))\n"
   ]
  },
  {
   "cell_type": "markdown",
   "metadata": {
    "pycharm": {}
   },
   "source": [
    "\n",
    "**(b)** $\\int_{-3}^{3}e^{sin(x)-x^{3}}dx$\n"
   ]
  },
  {
   "cell_type": "code",
   "execution_count": 69,
   "metadata": {
    "pycharm": {
     "is_executing": false,
     "metadata": false,
     "name": "#%%\n"
    }
   },
   "outputs": [
    {
     "name": "stdout",
     "output_type": "stream",
     "text": [
      "Valor de la integral de e^(sin(x)) k = 100 = 29136362804.0842\n",
      "Valor de la integral de e^(sin(x)) = 16914271130.0\n",
      "Error es es 72.25905024311949%\n"
     ]
    }
   ],
   "source": [
    "intec = montecarlo(\"e^(sin(x)-(x^(3)))\", -3, 3, 100)\n",
    "print(\"Valor de la integral de e^(sin(x)) k = 100 = {}\".format(intec) )\n",
    "real = 16914271130.0\n",
    "print(\"Valor de la integral de e^(sin(x)) = {}\".format(real))\n",
    "error = ((real - intec) / real)*100\n",
    "print(\"Error es es {}%\".format(mt.fabs( error) ))\n"
   ]
  },
  {
   "cell_type": "markdown",
   "metadata": {
    "pycharm": {
     "metadata": false
    }
   },
   "source": []
  },
  {
   "cell_type": "code",
   "execution_count": 72,
   "metadata": {
    "pycharm": {
     "is_executing": false,
     "metadata": false,
     "name": "#%%\n"
    }
   },
   "outputs": [
    {
     "name": "stdout",
     "output_type": "stream",
     "text": [
      "Valor de la integral de e^(sin(x)) k = 1000 = 18344019249.5588\n",
      "Valor de la integral de e^(sin(x)) = 16914271130.0\n",
      "Error es 8.452910022371283%\n"
     ]
    }
   ],
   "source": [
    "intec = montecarlo(\"e^(sin(x)-(x^(3)))\", -3, 3, 1000)\n",
    "print(\"Valor de la integral de e^(sin(x)) k = 1000 = {}\".format(intec) )\n",
    "real = 16914271130.0\n",
    "print(\"Valor de la integral de e^(sin(x)) = {}\".format(real))\n",
    "error = ((real - intec) / real)*100\n",
    "print(\"Error es {}%\".format(mt.fabs( error) ))\n"
   ]
  },
  {
   "cell_type": "markdown",
   "metadata": {
    "pycharm": {
     "metadata": false
    }
   },
   "source": []
  },
  {
   "cell_type": "code",
   "execution_count": 74,
   "metadata": {
    "pycharm": {
     "is_executing": false,
     "metadata": false,
     "name": "#%%\n"
    }
   },
   "outputs": [
    {
     "name": "stdout",
     "output_type": "stream",
     "text": [
      "Valor de la integral de e^(sin(x)) k = 10000 = 14076213584.6724\n",
      "Valor de la integral de e^(sin(x)) = 16914271130.0\n",
      "Error es 16.779070901221584%\n"
     ]
    }
   ],
   "source": [
    "intec = montecarlo(\"e^(sin(x)-(x^(3)))\", -3, 3, 10000)\n",
    "print(\"Valor de la integral de e^(sin(x)) k = 10000 = {}\".format(intec) )\n",
    "real = 16914271130.0\n",
    "print(\"Valor de la integral de e^(sin(x)) = {}\".format(real))\n",
    "error = ((real - intec) / real)*100\n",
    "print(\"Error es {}%\".format(mt.fabs( error) ))\n",
    "\n"
   ]
  },
  {
   "cell_type": "markdown",
   "metadata": {
    "pycharm": {}
   },
   "source": [
    "**(c)** $\\int_{0}^{1}(\\sin(1+x^{2}))^{3/2}dx$\n"
   ]
  },
  {
   "cell_type": "code",
   "execution_count": 65,
   "metadata": {
    "pycharm": {
     "is_executing": false,
     "metadata": false,
     "name": "#%%\n"
    }
   },
   "outputs": [
    {
     "name": "stdout",
     "output_type": "stream",
     "text": [
      "Valor de la integral de e^(sin(x)) k = 100 = 0.884154591145307\n",
      "Valor de la integral de e^(sin(x)) = 0.8962821564\n",
      "Error es es 1.353096808643879%\n"
     ]
    }
   ],
   "source": [
    "intec = montecarlo(\"(sin(1+x^(2)))^(3/2)\", 0, 1, 100)\n",
    "print(\"Valor de la integral de e^(sin(x)) k = 100 = {}\".format(intec) )\n",
    "real = 0.8962821564\n",
    "print(\"Valor de la integral de e^(sin(x)) = {}\".format(real))\n",
    "error = ((real - intec) / real)*100\n",
    "print(\"Error es es {}%\".format(mt.fabs( error) ))\n"
   ]
  },
  {
   "cell_type": "markdown",
   "metadata": {
    "pycharm": {
     "metadata": false
    }
   },
   "source": []
  },
  {
   "cell_type": "code",
   "execution_count": 66,
   "metadata": {
    "pycharm": {
     "is_executing": false,
     "metadata": false,
     "name": "#%%\n"
    }
   },
   "outputs": [
    {
     "name": "stdout",
     "output_type": "stream",
     "text": [
      "Valor de la integral de e^(sin(x)) k = 1000 = 0.899281922187967\n",
      "Valor de la integral de e^(sin(x)) = 0.8962821564\n",
      "Error es 0.33468989274716343%\n"
     ]
    }
   ],
   "source": [
    "intec = montecarlo(\"(sin(1+x^(2)))^(3/2)\", 0, 1, 1000)\n",
    "print(\"Valor de la integral de e^(sin(x)) k = 1000 = {}\".format(intec) )\n",
    "real = 0.8962821564\n",
    "print(\"Valor de la integral de e^(sin(x)) = {}\".format(real))\n",
    "error = ((real - intec) / real)*100\n",
    "print(\"Error es {}%\".format(mt.fabs( error) ))\n"
   ]
  },
  {
   "cell_type": "markdown",
   "metadata": {
    "pycharm": {
     "metadata": false
    }
   },
   "source": []
  },
  {
   "cell_type": "code",
   "execution_count": 67,
   "metadata": {
    "pycharm": {
     "is_executing": false,
     "metadata": false,
     "name": "#%%\n"
    }
   },
   "outputs": [
    {
     "name": "stdout",
     "output_type": "stream",
     "text": [
      "Valor de la integral de e^(sin(x)) k = 10000 = 0.895935062431638\n",
      "Valor de la integral de e^(sin(x)) = 0.8962821564\n",
      "Error es 0.038725971044181955%\n"
     ]
    }
   ],
   "source": [
    "intec = montecarlo(\"(sin(1+x^(2)))^(3/2)\", 0, 1, 10000)\n",
    "print(\"Valor de la integral de e^(sin(x)) k = 10000 = {}\".format(intec) )\n",
    "real = 0.8962821564\n",
    "print(\"Valor de la integral de e^(sin(x)) = {}\".format(real))\n",
    "error = ((real - intec) / real)*100\n",
    "print(\"Error es {}%\".format(mt.fabs( error) ))\n",
    "\n",
    "\n",
    "\n"
   ]
  },
  {
   "cell_type": "markdown",
   "metadata": {
    "pycharm": {}
   },
   "source": [
    "**3)** Dados los siguientes valores de la distribución de probabilidad discreta de la variable aleatoria $X$ de un dado de 8 lados: $X = {1,2,3,4,5,6,7,8}$, $p(X) = {0.11,0.3,0.12,0.2,0.05,0.07,0.05,0.10}$, ¿Qué valores retornaría el generador de variables aleatorias por el método de la inversión si los números aleatorios generados son: $U = {0.1573, 0.9454, 0.8211, 0.6996, 0.0318, 0.1708, 0.6865, 0.9102, 0.2579, 0.6344}$?\n"
   ]
  },
  {
   "cell_type": "code",
   "execution_count": 28,
   "metadata": {
    "pycharm": {
     "is_executing": false,
     "metadata": false,
     "name": "#%%\n"
    }
   },
   "outputs": [
    {
     "name": "stdout",
     "output_type": "stream",
     "text": [
      "n\t numero\t variable\n",
      "----------------------------\n",
      "1\t 0.1573\t 2\n",
      "2\t 0.9454\t 8\n",
      "3\t 0.8211\t 6\n",
      "4\t 0.6996\t 4\n",
      "5\t 0.0318\t 1\n",
      "6\t 0.1708\t 2\n",
      "7\t 0.6865\t 4\n",
      "8\t 0.9102\t 8\n",
      "9\t 0.2579\t 2\n",
      "10\t 0.6344\t 4\n"
     ]
    }
   ],
   "source": [
    "def dist_acumulada(px):\n",
    "    i = 0\n",
    "    px_acu=[]\n",
    "    aux=0\n",
    "    for i in range(len(px)):\n",
    "        aux += px[i]\n",
    "        px_acu.append(aux)\n",
    "    return px_acu\n",
    "\n",
    "def transformada_inversa():\n",
    "    x=[1,2,3,4,5,6,7,8]\n",
    "    px=[0.11,0.3,0.12,0.2,0.05,0.07,0.05,0.10]\n",
    "    num_aleatorios = [0.1573, 0.9454, 0.8211, 0.6996, 0.0318, 0.1708, 0.6865, 0.9102, 0.2579, 0.6344]\n",
    "    alea = []\n",
    "    px_acu=dist_acumulada(px)\n",
    "    i = j= 0\n",
    "    \n",
    "    for i in range(len(num_aleatorios)):\n",
    "        for j in range(len(px)):\n",
    "            if num_aleatorios[i] < px_acu[j]:\n",
    "                alea.append(x[j])\n",
    "                break \n",
    "    i = 0\n",
    "    print(\"n\\t numero\\t variable\")\n",
    "    print (\"----------------------------\")\n",
    "    for i in range(len(num_aleatorios)):\n",
    "        print(\"%d\\t %.4f\\t %d\"%(i+1,num_aleatorios[i],alea[i]))\n",
    "\n",
    "transformada_inversa()"
   ]
  },
  {
   "cell_type": "markdown",
   "metadata": {
    "pycharm": {}
   },
   "source": [
    "**4)** Responda las siguientes preguntas:\n",
    "\n",
    "**(a)** Nombre dos distribuciones de probabilidad discreta.\n",
    "Bernoulli\n",
    "Binomial\n"
   ]
  },
  {
   "cell_type": "markdown",
   "metadata": {
    "pycharm": {}
   },
   "source": [
    "**(b)** ¿Cuáles son los parámetros de la distribución de probabilidad normal?\n",
    "media, varianza"
   ]
  },
  {
   "cell_type": "markdown",
   "metadata": {
    "pycharm": {}
   },
   "source": [
    "**(c)** ¿Cuál es el valor esperado de una distribución de probabilidad uniforme continua que esta definida en el intervalo de 2 a 12? \n",
    "7"
   ]
  },
  {
   "cell_type": "markdown",
   "metadata": {
    "pycharm": {}
   },
   "source": [
    "**5)** Utilizando el metodo de Monte Carlo, y tomando como base el ejemplo del calculo del área del circulo visto en clase y del taller 3 con sus propios generadores congruenciales:\n",
    "\n",
    "**(a)** Implemente el metodo de Monte Carlo para calcular y mostrar el área estimada de una elipse con un semieje mayor $a = 13$ y semieje menor $b = 6$ centrado en el origen $x, y = (0, 0)$ generando 1000 coordenadas aleatorias $(X, Y)$ en el rango de\n",
    "$X = [−a, a]$ y $Y = [−b, b]$.<br>\n",
    "**(b)** Calcule el area real de la elipse.<br>\n",
    "**(c)** Calcule la diferencia entre el área real y el área estimada de la elipse con el método de Monte Carlo<br>\n",
    "**(d)** Grafique los puntos aleatorios generados que caen dentro de la elipse en rojo y los que caen fuera de la elipse en azul."
   ]
  },
  {
   "cell_type": "code",
   "execution_count": 13,
   "metadata": {
    "pycharm": {
     "is_executing": false,
     "metadata": false,
     "name": "#%%\n"
    }
   },
   "outputs": [
    {
     "name": "stdout",
     "output_type": "stream",
     "text": [
      "---------------------------------------------------------------\n",
      "El área aproximada de la elipse es: 240.552\n",
      "El área real es: 245.04422698000388\n",
      "La diferencia es: 4.492226980003892\n"
     ]
    },
    {
     "data": {
      "image/png": "[encoded data removed]",
      "text/plain": [
       "<Figure size 432x288 with 1 Axes>"
      ]
     },
     "metadata": {
      "needs_background": "light"
     },
     "output_type": "display_data"
    }
   ],
   "source": [
    "import matplotlib.pyplot as plt\n",
    "import math as mt\n",
    "def area_elipse(a, b):\n",
    "    p = 1000\n",
    "    count = 0\n",
    "    \n",
    "    \n",
    "    elipse_X = []\n",
    "    elipse_Y = []\n",
    "    out_X = []\n",
    "    out_Y = []\n",
    "    \n",
    "    for _ in range(0, p):\n",
    "        x = uniforme(-a,a)\n",
    "        y = uniforme(-b,b)\n",
    "        condition = (x/a)**2 + (y/b)**2\n",
    "        if(condition <= 1):\n",
    "            count = count + 1\n",
    "            elipse_X.append(x)\n",
    "            elipse_Y.append(y)\n",
    "        else:\n",
    "            out_X.append(x)\n",
    "            out_Y.append(y)\n",
    "    print(\"---------------------------------------------------------------\")      \n",
    "    print(\"El área aproximada de la elipse es:\", 4*(count/p)*a*b)\n",
    "    print(\"El área real es:\", mt.pi*a*b)\n",
    "    print(\"La diferencia es:\", mt.fabs(mt.pi*a*b - 4*(count/p)*a*b))\n",
    "    \n",
    "    \n",
    "    plt.plot(elipse_X, elipse_Y, 'r.', alpha=0.7)\n",
    "    plt.plot(out_X, out_Y, 'b.', alpha=0.7)\n",
    "    plt.title('Elipse centrada en el origen')\n",
    "    plt.show()\n",
    "    \n",
    "\n",
    "def uniforme(a, b):\n",
    "    U = cong_mixto()\n",
    "    X = a + (b-a)*U\n",
    "    return X\n",
    "    \n",
    "area_elipse(13, 6)\n",
    "\n"
   ]
  }
 ],
 "metadata": {
  "kernelspec": {
   "display_name": "Python 3",
   "language": "python",
   "name": "python3"
  },
  "language_info": {
   "codemirror_mode": {
    "name": "ipython",
    "version": 3
   },
   "file_extension": ".py",
   "mimetype": "text/x-python",
   "name": "python",
   "nbconvert_exporter": "python",
   "pygments_lexer": "ipython3",
   "version": "3.7.2"
  }
 },
 "nbformat": 4,
 "nbformat_minor": 2
}
