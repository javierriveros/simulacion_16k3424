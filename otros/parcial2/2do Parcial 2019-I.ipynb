{
 "cells": [
  {
   "cell_type": "markdown",
   "metadata": {
    "pycharm": {}
   },
   "source": [
    "## 2do Parcial - Simulación Computacional 2019-I"
   ]
  },
  {
   "cell_type": "markdown",
   "metadata": {
    "pycharm": {}
   },
   "source": [
    "## 1. \n",
    "Se tiene un sistema de línea de espera con un servidor y capacidad infinita (Modelo de Colas G/G/1) (Ver [Presentación](https://docs.google.com/presentation/d/17sB_GJVIu0vJYJXovaJNdLuBMENwHMW2L9Sa58P89Uw) ), en el cual tanto los tiempos de llegada entre clientes, así como los tiempos de atención del servidor se comportan como  variables aleatorias generadas de distribuciones de probabilidad exponenciales, en donde en promedio llegan A clientes por minuto al sistema y el servidor atiende en promedio B clientes por minuto. La simulación inicia en el tiempo $t=0$ y se deja de permitir el ingreso de mas clientes en el sistema en el tiempo $T=100$.\n",
    "\n",
    "Para analizar el sistema Ud. debe usar la implementación de acuerdo con el Modelo de Colas G/G/1 visto en clase (diapositivas 42 y 43 [Presentación](https://docs.google.com/presentation/d/17sB_GJVIu0vJYJXovaJNdLuBMENwHMW2L9Sa58P89Uw) ). \n",
    "\n",
    "Para la generación de las variables aleatorias con distribución exponencial debe usar el método de la inversión para variables aleatorias continuas usando generadores congruenciales mixtos. _Ayuda: El método de inversión para variables aleatorias continuas debe usar la función inversa $F^{-1}(p)$ de la distribución de probabilidad acumulada de la distribución exponencial en donde el valor $p$ proviene del generador congruencial mixto_.\n",
    "\n",
    "Para la generación de las variables aleatorias de los tiempos entre las llegadas de clientes (variable aleatoria $X$) debe generar variables aleatorias continuas de una distribución exponencial con $\\lambda = A$ a partir de un generador congruencial Borland C/C++ (i.e. $a = 22695477$, $c = 1$, $m=2^{32}$) y semilla $X_0 = 987654321$.\n",
    "\n",
    "Para la generación de las variables aleatorias de los tiempos de atención del servidor (variable aleatoria $Y$) debe generar variables aleatorias continuas de una distribución exponencial con $\\lambda = B$ a partir de un generador congruencial RANDU (i.e. $a = 65539$, $c = 0$, $m=2^{31}$) y semilla $X_0 = 123456789$.\n",
    "\n",
    "Con su implementación para $A=3$ y $B=7$ por favor responda lo siguiente:\n",
    "\n",
    "1. Tiempo promedio de los clientes en el sistema.\n",
    "2. Tiempo promedio de los clientes en la cola.\n",
    "3. Tiempo transcurrido desde $T$ hasta que el último cliente abandona el sistema.\n",
    "4. Número máximo de clientes en el sistema durante la simulación.\n",
    "\n",
    "\n"
   ]
  },
  {
   "cell_type": "code",
   "execution_count": 16,
   "metadata": {
    "pycharm": {
     "is_executing": false,
     "metadata": false,
     "name": "#%%\n"
    }
   },
   "outputs": [
    {
     "name": "stdout",
     "output_type": "stream",
     "text": [
      "Tiempo promedio de los clientes en el sistema =  72.62544708127432\n",
      "Tiempo promedio de los clientes en la cola 72.29961646597414\n",
      "136.63840189192564\n",
      "# Clientes atendidos: 726\n"
     ]
    }
   ],
   "source": [
    "\n",
    "import math as mt\n",
    "\n",
    "s_entrada = 987654321\n",
    "m_entrada = 2**32\n",
    "\n",
    "s_salida = 123456789\n",
    "m_salida = 2**31\n",
    "\n",
    "def random_entrada ():\n",
    "    global s_entrada, m_entrada\n",
    "    s_entrada = (22695477*s_entrada + 1) % m_entrada\n",
    "    return s_entrada / m_entrada\n",
    "\n",
    "def random_salida ():\n",
    "    global s_salida, m_salida\n",
    "    s_salida = (65539*s_salida) % m_salida\n",
    "    return s_salida / m_salida\n",
    "\n",
    "def arrives(rate):\n",
    "    return -mt.log(1-random_entrada())/rate\n",
    "\n",
    "def serves(rate):\n",
    "    return -mt.log(1-random_salida())/rate\n",
    "\n",
    "T = int(1e2)\n",
    "\n",
    "t = t_suc = N_LL = N_S = n = 0\n",
    "T_LL = T_S = mt.inf\n",
    "\n",
    "LL = []\n",
    "S = []\n",
    "Serv = []\n",
    "VA = []\n",
    "\n",
    "X = 0\n",
    "\n",
    "A = 7\n",
    "B = 3\n",
    "\n",
    "def Llegada(t_suc):\n",
    "    global t, n, N_LL, LL, Serv, T_S, T_LL, VA, A, B\n",
    "    \n",
    "    t = t_suc\n",
    "    n = n + 1\n",
    "    N_LL = N_LL + 1\n",
    "    LL.append(t)\n",
    "    X = arrives(A)\n",
    "    \n",
    "    if ((t + X) < T):\n",
    "        T_LL = t + X\n",
    "    if(n == 1):\n",
    "        Y = serves(B)\n",
    "        T_S = t + Y\n",
    "        Serv.append(Y)\n",
    "\n",
    "def Servidor(t_suc):\n",
    "    global t, n, S, N_S, Serv, T_S, A, B\n",
    "    \n",
    "    t = t_suc\n",
    "    n = n - 1\n",
    "    N_S = N_S + 1\n",
    "    S.append(t)\n",
    "    \n",
    "    if(n > 0):\n",
    "        Y = serves(B)\n",
    "        T_S = t + Y\n",
    "        Serv.append(Y)\n",
    "\n",
    "        \n",
    "        \n",
    "X = arrives(A)\n",
    "\n",
    "if(X > T):\n",
    "    T_p = t_med_sistema = t_med_cola = 0\n",
    "    sys.exit(0)\n",
    "else:\n",
    "    Llegada(X)\n",
    "    while(T_LL != mt.inf or T_S != mt.inf):\n",
    "        if(T_LL < T_S):\n",
    "            t_suc = T_LL\n",
    "            T_LL = mt.inf\n",
    "            Llegada(t_suc)\n",
    "        if(T_S < T_LL):\n",
    "            t_suc = T_S\n",
    "            T_S = mt.inf\n",
    "            Servidor(t_suc)\n",
    "            \n",
    "T_p = max(0, t-T)\n",
    "cum_1 = cum_2 = 0\n",
    "ind = 0\n",
    "    \n",
    "for ind in range(N_LL):\n",
    "    cum_1 = cum_1 + S[ind] - LL[ind]\n",
    "    cum_2 = cum_2 + S[ind] - LL[ind] - Serv[ind]\n",
    "    ind = ind + 1\n",
    "    \n",
    "t_med_sistema = cum_1/N_LL\n",
    "t_med_cola = cum_2/N_LL\n",
    "\n",
    "print(\"Tiempo promedio de los clientes en el sistema = \", t_med_sistema)\n",
    "print(\"Tiempo promedio de los clientes en la cola\", t_med_cola)\n",
    "print(T_p)\n",
    "print(\"# Clientes atendidos:\", N_S)\n",
    "\n",
    "\n",
    "\n",
    "\n"
   ]
  },
  {
   "cell_type": "markdown",
   "metadata": {
    "pycharm": {}
   },
   "source": [
    "## 2.\n",
    "Usando el ejemplo del modelo de simulación basada en agentes del comportamiento de hormigas para buscar comida y llevarla al nido de NetLogo en su versión online \"Sample Models/Biology/Ants\" (http://www.netlogoweb.org/launch#http://www.netlogoweb.org/assets/modelslib/Sample%20Models/Biology/Ants.nlogo), modifique el código de tal forma que:\n"
   ]
  },
  {
   "cell_type": "code",
   "execution_count": null,
   "metadata": {
    "pycharm": {
     "metadata": false,
     "name": "#%%\n"
    }
   },
   "outputs": [],
   "source": [
    "patches-own [\n",
    "  chemical             ;; amount of chemical on this patch\n",
    "  food                 ;; amount of food on this patch (0, 1, or 2)\n",
    "  nest?                ;; true on nest patches, false elsewhere\n",
    "  nest-scent           ;; number that is higher closer to the nest\n",
    "  food-source-number   ;; number (1, 2, or 3) to identify the food sources\n",
    "]\n",
    "\n",
    ";;;;;;;;;;;;;;;;;;;;;;;;\n",
    ";;; Setup procedures ;;;\n",
    ";;;;;;;;;;;;;;;;;;;;;;;;\n",
    "\n",
    "to setup\n",
    "  clear-all\n",
    "  set-default-shape turtles \"bug\"\n",
    "  create-turtles population\n",
    "  [ set size 2         ;; easier to see\n",
    "    set color red  ]   ;; red = not carrying food\n",
    "  setup-patches\n",
    "  reset-ticks\n",
    "end\n",
    "\n",
    "to setup-patches\n",
    "  ask patches\n",
    "  [ setup-nest\n",
    "    setup-food\n",
    "    recolor-patch ]\n",
    "end\n",
    "\n",
    "to setup-nest  ;; patch procedure\n",
    "  ;; set nest? variable to true inside the nest, false elsewhere\n",
    "  set nest? (distancexy 0 0) < 5\n",
    "  ;; spread a nest-scent over the whole world -- stronger near the nest\n",
    "  set nest-scent 200 - distancexy 0 0\n",
    "end\n",
    "\n",
    "to setup-food  ;; patch procedure\n",
    "  ;; setup food source one on the right\n",
    "  if (distancexy (0.6 * max-pxcor) 0) < 5\n",
    "  [ set food-source-number 1 ]\n",
    "  ;; setup food source two on the lower-left\n",
    "  if (distancexy (-0.6 * max-pxcor) (-0.6 * max-pycor)) < 5\n",
    "  [ set food-source-number 2 ]\n",
    "  ;; setup food source three on the upper-left\n",
    "  if (distancexy (-0.8 * max-pxcor) (0.8 * max-pycor)) < 5\n",
    "  [ set food-source-number 3 ]\n",
    "  ;; set \"food\" at sources to either 1 or 2, randomly\n",
    "  if food-source-number > 0\n",
    "  [ set food one-of [1 2] ]\n",
    "end\n",
    "\n",
    "to recolor-patch  ;; patch procedure\n",
    "  ;; give color to nest and food sources\n",
    "  ifelse nest?\n",
    "  [ set pcolor violet ]\n",
    "  [ ifelse food > 0\n",
    "    [ if food-source-number = 1 [ set pcolor cyan ]\n",
    "      if food-source-number = 2 [ set pcolor sky  ]\n",
    "      if food-source-number = 3 [ set pcolor blue ] ]\n",
    "    ;; scale color to show chemical concentration\n",
    "    [ set pcolor scale-color green chemical 0.1 5 ] ]\n",
    "end\n",
    "\n",
    ";;;;;;;;;;;;;;;;;;;;;\n",
    ";;; Go procedures ;;;\n",
    ";;;;;;;;;;;;;;;;;;;;;\n",
    "\n",
    "to go  ;; forever button\n",
    "  ask turtles\n",
    "  [ if who >= ticks [ stop ] ;; delay initial departure\n",
    "    ifelse color = red\n",
    "    [ look-for-food  ]       ;; not carrying food? look for it\n",
    "    [ return-to-nest ]       ;; carrying food? take it back to nest\n",
    "    wiggle\n",
    "    fd 1 ]\n",
    "  diffuse chemical (diffusion-rate / 100)\n",
    "  ask patches\n",
    "  [ set chemical chemical * (100 - evaporation-rate) / 100  ;; slowly evaporate chemical\n",
    "    recolor-patch ]\n",
    "  tick\n",
    "end\n",
    "\n",
    "to return-to-nest  ;; turtle procedure\n",
    "  ifelse nest?\n",
    "  [ ;; drop food and head out again\n",
    "    set color red\n",
    "    rt 180 ]\n",
    "  [ set chemical chemical + 15  ;; drop some chemical\n",
    "    uphill-nest-scent ]         ;; head toward the greatest value of nest-scent\n",
    "end\n",
    "\n",
    "to look-for-food  ;; turtle procedure\n",
    "  if food > 0\n",
    "  [ set color orange + 1     ;; pick up food\n",
    "    set food food - 1        ;; and reduce the food source\n",
    "    rt 180                   ;; and turn around\n",
    "    stop ]\n",
    "  ;; go in the direction where the chemical smell is strongest\n",
    "  if (chemical >= 0.025) and (chemical < 4)\n",
    "  [ uphill-chemical ]\n",
    "end\n",
    "\n",
    ";; sniff left and right, and go where the strongest smell is\n",
    "to uphill-chemical  ;; turtle procedure\n",
    "  let scent-ahead chemical-scent-at-angle   0\n",
    "  let scent-right chemical-scent-at-angle  45\n",
    "  let scent-left  chemical-scent-at-angle -45\n",
    "  if (scent-right > scent-ahead) or (scent-left > scent-ahead)\n",
    "  [ ifelse scent-right > scent-left\n",
    "    [ rt 45 ]\n",
    "    [ lt 45 ] ]\n",
    "end\n",
    "\n",
    ";; sniff left and right, and go where the strongest smell is\n",
    "to uphill-nest-scent  ;; turtle procedure\n",
    "  let scent-ahead nest-scent-at-angle   0\n",
    "  let scent-right nest-scent-at-angle  45\n",
    "  let scent-left  nest-scent-at-angle -45\n",
    "  if (scent-right > scent-ahead) or (scent-left > scent-ahead)\n",
    "  [ ifelse scent-right > scent-left\n",
    "    [ rt 45 ]\n",
    "    [ lt 45 ] ]\n",
    "end\n",
    "\n",
    "to wiggle  ;; turtle procedure\n",
    "  rt random 40\n",
    "  lt random 40\n",
    "  if not can-move? 1 [ rt 180 ]\n",
    "end\n",
    "\n",
    "to-report nest-scent-at-angle [angle]\n",
    "  let p patch-right-and-ahead angle 1\n",
    "  if p = nobody [ report 0 ]\n",
    "  report [nest-scent] of p\n",
    "end\n",
    "\n",
    "to-report chemical-scent-at-angle [angle]\n",
    "  let p patch-right-and-ahead angle 1\n",
    "  if p = nobody [ report 0 ]\n",
    "  report [chemical] of p\n",
    "end\n",
    "\n",
    "\n",
    "; Copyright 1997 Uri Wilensky.\n",
    "; See Info tab for full copyright and license.\n",
    "\n"
   ]
  },
  {
   "cell_type": "markdown",
   "metadata": {
    "pycharm": {
     "metadata": false,
     "name": "#%% md\n"
    }
   },
   "source": [
    "1. La feromona dejada por las hormigas al encontrar comida en su rastro sea de 15."
   ]
  },
  {
   "cell_type": "code",
   "execution_count": null,
   "metadata": {
    "pycharm": {
     "metadata": false,
     "name": "#%%\n"
    }
   },
   "outputs": [],
   "source": [
    "[ set chemical chemical + 15  ;; drop some chemical"
   ]
  },
  {
   "cell_type": "markdown",
   "metadata": {
    "pycharm": {
     "metadata": false,
     "name": "#%% md\n"
    }
   },
   "source": [
    "2. El intervalo de la cantidad de la feromona para que una hormiga siga la dirección del rastro sea entre 0.025 y 4."
   ]
  },
  {
   "cell_type": "code",
   "execution_count": null,
   "metadata": {
    "pycharm": {
     "metadata": false,
     "name": "#%%\n"
    }
   },
   "outputs": [],
   "source": [
    "if (chemical >= 0.025) and (chemical < 4)"
   ]
  },
  {
   "cell_type": "markdown",
   "metadata": {
    "pycharm": {
     "metadata": false,
     "name": "#%% md\n"
    }
   },
   "source": [
    "\n",
    "3. ¿Qué cambio en relación al modelo original respecto al comportamiento de las hormigas y su objetivo de encontrar comida y llevarla al nido?"
   ]
  },
  {
   "cell_type": "markdown",
   "metadata": {
    "pycharm": {
     "metadata": false,
     "name": "#%% md\n"
    }
   },
   "source": [
    "las hormigas demoraron 1200ticks aprox consumir las 3 fuentes de comida para llevarlas a los nidos por la buena cantidad de feromona apenas encontraban una fuente la terminaban con los siguientes tiempos:\n",
    "\n",
    "* PRIMERA FUENTE = 200 ticks aprox\n",
    "* SEGUNDA FUENTE = 700 ticks aprox \n",
    "* TERCERA FUENTE = 1200 ticks aprox\n",
    "\n",
    "<img src=\"antorig.png\" height=\"200\" width=\"200\">"
   ]
  },
  {
   "cell_type": "markdown",
   "metadata": {
    "pycharm": {
     "metadata": false,
     "name": "#%% md\n"
    }
   },
   "source": [
    "Para el cambio de parametros, la feromona es mas baja por lo que el rastro no dura mucho, cosa que hace que se borren los \"caminos\". aqui duro mucho mas en terminar las fuentes, obteniendo los sgtes resultados:\n",
    "\n",
    "* PRIMERA FUENTE = 260 ticks aprox\n",
    "* SEGUNDA FUENTE = 2200 ticks aprox \n",
    "* TERCERA FUENTE = 4000 ticks aprox\n",
    "\n",
    "<img src=\"antmod.png\" height=\"200\" width=\"200\">"
   ]
  },
  {
   "cell_type": "markdown",
   "metadata": {
    "pycharm": {}
   },
   "source": [
    "## 3.\n",
    "Tomando en cuenta la ecuación para actualizar la feromona en  (Ver Diap. 17 [Presentación](http://mat.uab.es/~alseda/MasterOpt/ACO_Intro.pdf) ), en el \n",
    "\n",
    "\\begin{align*}\n",
    "\\tau _{i,j}= (1-\\rho )\\tau _{i,j}+\\sum_{k=1}^{m}\\Delta \\tau_{i,j}^{k}\n",
    "\\end{align*}\n",
    "\n",
    "donde \n",
    "\n",
    "$\\tau _{i,j}$ es la cantidad de feromona en un arco (vertice) dado entre los nodos $i,j$\n",
    "\n",
    "$\\rho$ es la tasa de evaporación de la feromona\n",
    "\n",
    "$m$ es el número de hormigas\n",
    "\n",
    "$\\Delta \\tau_{i,j}^{k}$ es la cantidad de feromona depositada en el arco ($i,j$) por la $k$-ésima hormiga \n",
    "\n",
    "\\begin{align*}\n",
    "\\Delta \\tau_{i,j}^{k}=\n",
    "\\begin{cases}\n",
    "1/L_k & \\text{ si la hormiga }k\\text{ viaja en el arco } i,j \\\\ \n",
    "0 & \\text{ si no }\n",
    "\\end{cases}\n",
    "\\end{align*}\n",
    "\n",
    "donde $L_k$ es la longitud (distancia) de la trayectoria de la $k$-ésima hormiga \n",
    "\n",
    "Implemente una función para la actualización de la feromona que reciba por parametros los valores $\\tau _{i,j}$ y $\\rho$, y el un arreglo de tamaño $m$ para cada uno de los $\\Delta \\tau_{i,j}^{k}$\n"
   ]
  },
  {
   "cell_type": "code",
   "execution_count": 19,
   "metadata": {
    "pycharm": {
     "is_executing": false,
     "metadata": false,
     "name": "#%%\n"
    }
   },
   "outputs": [],
   "source": [
    "Txy=0\n",
    "Lk=0\n",
    "def sum(Txy):\n",
    "    if():\n",
    "        return 1/Lk\n",
    "    else:\n",
    "        return 0\n",
    "\n",
    "\n",
    "def update_pheromone (p) :\n",
    "    global Txy\n",
    "    Txy = [(1-p)*Txy] + sum(Txy)\n",
    "    return 0\n"
   ]
  },
  {
   "cell_type": "markdown",
   "metadata": {
    "pycharm": {}
   },
   "source": [
    "## 4.\n",
    "\n",
    "Escriba el código en NetLogo que permita recibir por parámetro la longitud de lado para dibujar un hexagono, y  presente la captura de pantalla del resultado obtenido."
   ]
  },
  {
   "cell_type": "code",
   "execution_count": null,
   "metadata": {
    "pycharm": {
     "metadata": false,
     "name": "#%%\n"
    }
   },
   "outputs": [],
   "source": [
    "to hexagono[lado]\n",
    "  ca\n",
    "  crt 1\n",
    "  let n 6\n",
    "  let ang 360 / n\n",
    "  ask turtles [repeat n [pd fd lado rt ang]]\n",
    "end"
   ]
  },
  {
   "cell_type": "markdown",
   "metadata": {
    "pycharm": {}
   },
   "source": [
    "Screen\n",
    "\n",
    "<img src=\"netl.png\" height=\"200\" width=\"200\">"
   ]
  },
  {
   "cell_type": "markdown",
   "metadata": {
    "pycharm": {
     "metadata": false
    }
   },
   "source": [
    "## 5.\n",
    "Aplicando las reglas del juego de la vida de Conway para el siguiente entorno, ¿Cuál sería el estado del sistema luego de 5 iteraciones?\n",
    "<img src=\"9x9grid.jpg\" height=\"200\" width=\"200\">\n",
    "\n",
    "En la 5ta iteracion\n",
    "\n",
    "<img src=\"lifegame.png\" height=\"200\" width=\"200\">\n"
   ]
  }
 ],
 "metadata": {
  "kernelspec": {
   "display_name": "Python 3",
   "language": "python",
   "name": "python3"
  },
  "language_info": {
   "codemirror_mode": {
    "name": "ipython",
    "version": 3
   },
   "file_extension": ".py",
   "mimetype": "text/x-python",
   "name": "python",
   "nbconvert_exporter": "python",
   "pygments_lexer": "ipython3",
   "version": "3.7.2"
  }
 },
 "nbformat": 4,
 "nbformat_minor": 2
}
