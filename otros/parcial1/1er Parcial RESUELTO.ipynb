{
 "cells": [
  {
   "cell_type": "markdown",
   "metadata": {},
   "source": [
    "## 1er Parcial - Simulación Computacional 2019-I"
   ]
  },
  {
   "cell_type": "code",
   "execution_count": 2,
   "metadata": {},
   "outputs": [],
   "source": [
    "import numpy as np\n",
    "import scipy as sp\n",
    "from sympy import *\n",
    "import math\n",
    "import time\n",
    "from random import random\n",
    "\n",
    "def genran(a,b,m,xant):\n",
    "    xsig = (a*xant + b) % m\n",
    "    usig = xsig / m\n",
    "    return [xsig,usig]\n",
    "\n",
    "def genranN(a,b,m,x0,N):\n",
    "    xant = x0\n",
    "    I=[]\n",
    "    X=[]\n",
    "    U=[]\n",
    "    for t in range(1, N+1):\n",
    "        [xi,ui] = genran(a,b,m,xant)\n",
    "        I.append(t)\n",
    "        X.append(xi)\n",
    "        U.append(ui)\n",
    "        xant = xi\n",
    "    return [I,X,U]\n",
    "\n",
    "def showValues(I,X,U):\n",
    "    print(\"i\\tXi\\tUi\")\n",
    "    for t in range(0, len(X)):\n",
    "        print(\"%d\\t%d\\t%2.4f\" % (I[t],X[t],U[t]), sep=' ', end='\\n')\n",
    "\n",
    "def tam_ciclo(values):\n",
    "    tam = 1\n",
    "    max_len = int(len(values) / 2)\n",
    "    for ii in range(2, max_len):\n",
    "        if (values[0:ii] == values[ii:2*ii]).any() :\n",
    "            return ii\n",
    "    \n",
    "    return tam\n",
    "        \n",
    "def error_relativo_porcentual(vlr_real, vlr_medido):\n",
    "    return abs((vlr_real-vlr_medido)/vlr_real)*100\n",
    "\n",
    "def genvardiscret(U,X,P):\n",
    "    V = []\n",
    "    for t in range(0, len(U)):\n",
    "        for t2 in range(0, len(X)):\n",
    "            if U[t]<=P[t2]:\n",
    "                V.append(X[t2])\n",
    "                break\n",
    "    return V"
   ]
  },
  {
   "cell_type": "markdown",
   "metadata": {},
   "source": [
    "**1)** Para los siguientes generadores congruenciales mixtos encuentre $u_1,...,u_{100}$, el tamaño del ciclo (si lo tiene) y calcule el estadístico $\\chi^2$\n",
    "\n",
    "**(a)** $x_0=3, x_n = (5x_{n-1}+7) \\mod 200$"
   ]
  },
  {
   "cell_type": "code",
   "execution_count": 196,
   "metadata": {},
   "outputs": [
    {
     "name": "stdout",
     "output_type": "stream",
     "text": [
      "i\tXi\tUi\n",
      "1\t22\t0.1100\n",
      "2\t117\t0.5850\n",
      "3\t192\t0.9600\n",
      "4\t167\t0.8350\n",
      "5\t42\t0.2100\n",
      "6\t17\t0.0850\n",
      "7\t92\t0.4600\n",
      "8\t67\t0.3350\n",
      "9\t142\t0.7100\n",
      "10\t117\t0.5850\n",
      "11\t192\t0.9600\n",
      "12\t167\t0.8350\n",
      "13\t42\t0.2100\n",
      "14\t17\t0.0850\n",
      "15\t92\t0.4600\n",
      "16\t67\t0.3350\n",
      "17\t142\t0.7100\n",
      "18\t117\t0.5850\n",
      "19\t192\t0.9600\n",
      "20\t167\t0.8350\n",
      "21\t42\t0.2100\n",
      "22\t17\t0.0850\n",
      "23\t92\t0.4600\n",
      "24\t67\t0.3350\n",
      "25\t142\t0.7100\n",
      "26\t117\t0.5850\n",
      "27\t192\t0.9600\n",
      "28\t167\t0.8350\n",
      "29\t42\t0.2100\n",
      "30\t17\t0.0850\n",
      "31\t92\t0.4600\n",
      "32\t67\t0.3350\n",
      "33\t142\t0.7100\n",
      "34\t117\t0.5850\n",
      "35\t192\t0.9600\n",
      "36\t167\t0.8350\n",
      "37\t42\t0.2100\n",
      "38\t17\t0.0850\n",
      "39\t92\t0.4600\n",
      "40\t67\t0.3350\n",
      "41\t142\t0.7100\n",
      "42\t117\t0.5850\n",
      "43\t192\t0.9600\n",
      "44\t167\t0.8350\n",
      "45\t42\t0.2100\n",
      "46\t17\t0.0850\n",
      "47\t92\t0.4600\n",
      "48\t67\t0.3350\n",
      "49\t142\t0.7100\n",
      "50\t117\t0.5850\n",
      "51\t192\t0.9600\n",
      "52\t167\t0.8350\n",
      "53\t42\t0.2100\n",
      "54\t17\t0.0850\n",
      "55\t92\t0.4600\n",
      "56\t67\t0.3350\n",
      "57\t142\t0.7100\n",
      "58\t117\t0.5850\n",
      "59\t192\t0.9600\n",
      "60\t167\t0.8350\n",
      "61\t42\t0.2100\n",
      "62\t17\t0.0850\n",
      "63\t92\t0.4600\n",
      "64\t67\t0.3350\n",
      "65\t142\t0.7100\n",
      "66\t117\t0.5850\n",
      "67\t192\t0.9600\n",
      "68\t167\t0.8350\n",
      "69\t42\t0.2100\n",
      "70\t17\t0.0850\n",
      "71\t92\t0.4600\n",
      "72\t67\t0.3350\n",
      "73\t142\t0.7100\n",
      "74\t117\t0.5850\n",
      "75\t192\t0.9600\n",
      "76\t167\t0.8350\n",
      "77\t42\t0.2100\n",
      "78\t17\t0.0850\n",
      "79\t92\t0.4600\n",
      "80\t67\t0.3350\n",
      "81\t142\t0.7100\n",
      "82\t117\t0.5850\n",
      "83\t192\t0.9600\n",
      "84\t167\t0.8350\n",
      "85\t42\t0.2100\n",
      "86\t17\t0.0850\n",
      "87\t92\t0.4600\n",
      "88\t67\t0.3350\n",
      "89\t142\t0.7100\n",
      "90\t117\t0.5850\n",
      "91\t192\t0.9600\n",
      "92\t167\t0.8350\n",
      "93\t42\t0.2100\n",
      "94\t17\t0.0850\n",
      "95\t92\t0.4600\n",
      "96\t67\t0.3350\n",
      "97\t142\t0.7100\n",
      "98\t117\t0.5850\n",
      "99\t192\t0.9600\n",
      "100\t167\t0.8350\n",
      "El tamaño del ciclo es: 8\n"
     ]
    }
   ],
   "source": [
    "N = 100\n",
    "\n",
    "a = 5.0\n",
    "b = 7.0\n",
    "m = 200.0\n",
    "x0 = 3.0\n",
    "\n",
    "[I,X,U] = genranN(a,b,m,x0,N)\n",
    "showValues(I,X,U)\n",
    "print(\"El tamaño del ciclo es: \"+str(tam_ciclo((np.array(X)).astype(int))))"
   ]
  },
  {
   "cell_type": "code",
   "execution_count": 197,
   "metadata": {},
   "outputs": [
    {
     "data": {
      "image/png": "[encoded data removed]",
      "text/plain": [
       "<Figure size 432x288 with 1 Axes>"
      ]
     },
     "metadata": {
      "needs_background": "light"
     },
     "output_type": "display_data"
    },
    {
     "name": "stdout",
     "output_type": "stream",
     "text": [
      "Estadístico chi2 = 25.199999999999996\n",
      "25.2\n"
     ]
    }
   ],
   "source": [
    "import matplotlib.pyplot as plt\n",
    "from scipy import stats\n",
    "\n",
    "k=10\n",
    "count, bins, ignored = plt.hist(U, k, normed=False)\n",
    "plt.plot(bins, np.ones_like(bins)*(N/k), linewidth=2, color='r')\n",
    "plt.show()\n",
    "\n",
    "chiest=0\n",
    "for i in range(0,k):\n",
    "    chiest = chiest + ((count[i]-(N/k))**2)/(N/k)\n",
    "print(\"Estadístico chi2 = \"+str(chiest))\n",
    "\n",
    "chisq, pvalue = stats.chisquare(count, f_exp=np.ones_like(count)*(N/k))\n",
    "print(chisq)"
   ]
  },
  {
   "cell_type": "markdown",
   "metadata": {},
   "source": [
    "**(b)** $x_0=123, x_n = (13x_{n-1}+3) \\mod 16$"
   ]
  },
  {
   "cell_type": "code",
   "execution_count": 198,
   "metadata": {},
   "outputs": [
    {
     "name": "stdout",
     "output_type": "stream",
     "text": [
      "i\tXi\tUi\n",
      "1\t2\t0.1250\n",
      "2\t13\t0.8125\n",
      "3\t12\t0.7500\n",
      "4\t15\t0.9375\n",
      "5\t6\t0.3750\n",
      "6\t1\t0.0625\n",
      "7\t0\t0.0000\n",
      "8\t3\t0.1875\n",
      "9\t10\t0.6250\n",
      "10\t5\t0.3125\n",
      "11\t4\t0.2500\n",
      "12\t7\t0.4375\n",
      "13\t14\t0.8750\n",
      "14\t9\t0.5625\n",
      "15\t8\t0.5000\n",
      "16\t11\t0.6875\n",
      "17\t2\t0.1250\n",
      "18\t13\t0.8125\n",
      "19\t12\t0.7500\n",
      "20\t15\t0.9375\n",
      "21\t6\t0.3750\n",
      "22\t1\t0.0625\n",
      "23\t0\t0.0000\n",
      "24\t3\t0.1875\n",
      "25\t10\t0.6250\n",
      "26\t5\t0.3125\n",
      "27\t4\t0.2500\n",
      "28\t7\t0.4375\n",
      "29\t14\t0.8750\n",
      "30\t9\t0.5625\n",
      "31\t8\t0.5000\n",
      "32\t11\t0.6875\n",
      "33\t2\t0.1250\n",
      "34\t13\t0.8125\n",
      "35\t12\t0.7500\n",
      "36\t15\t0.9375\n",
      "37\t6\t0.3750\n",
      "38\t1\t0.0625\n",
      "39\t0\t0.0000\n",
      "40\t3\t0.1875\n",
      "41\t10\t0.6250\n",
      "42\t5\t0.3125\n",
      "43\t4\t0.2500\n",
      "44\t7\t0.4375\n",
      "45\t14\t0.8750\n",
      "46\t9\t0.5625\n",
      "47\t8\t0.5000\n",
      "48\t11\t0.6875\n",
      "49\t2\t0.1250\n",
      "50\t13\t0.8125\n",
      "51\t12\t0.7500\n",
      "52\t15\t0.9375\n",
      "53\t6\t0.3750\n",
      "54\t1\t0.0625\n",
      "55\t0\t0.0000\n",
      "56\t3\t0.1875\n",
      "57\t10\t0.6250\n",
      "58\t5\t0.3125\n",
      "59\t4\t0.2500\n",
      "60\t7\t0.4375\n",
      "61\t14\t0.8750\n",
      "62\t9\t0.5625\n",
      "63\t8\t0.5000\n",
      "64\t11\t0.6875\n",
      "65\t2\t0.1250\n",
      "66\t13\t0.8125\n",
      "67\t12\t0.7500\n",
      "68\t15\t0.9375\n",
      "69\t6\t0.3750\n",
      "70\t1\t0.0625\n",
      "71\t0\t0.0000\n",
      "72\t3\t0.1875\n",
      "73\t10\t0.6250\n",
      "74\t5\t0.3125\n",
      "75\t4\t0.2500\n",
      "76\t7\t0.4375\n",
      "77\t14\t0.8750\n",
      "78\t9\t0.5625\n",
      "79\t8\t0.5000\n",
      "80\t11\t0.6875\n",
      "81\t2\t0.1250\n",
      "82\t13\t0.8125\n",
      "83\t12\t0.7500\n",
      "84\t15\t0.9375\n",
      "85\t6\t0.3750\n",
      "86\t1\t0.0625\n",
      "87\t0\t0.0000\n",
      "88\t3\t0.1875\n",
      "89\t10\t0.6250\n",
      "90\t5\t0.3125\n",
      "91\t4\t0.2500\n",
      "92\t7\t0.4375\n",
      "93\t14\t0.8750\n",
      "94\t9\t0.5625\n",
      "95\t8\t0.5000\n",
      "96\t11\t0.6875\n",
      "97\t2\t0.1250\n",
      "98\t13\t0.8125\n",
      "99\t12\t0.7500\n",
      "100\t15\t0.9375\n",
      "El tamaño del ciclo es: 16\n"
     ]
    }
   ],
   "source": [
    "a = 13.0\n",
    "b = 3.0\n",
    "m = 16.0\n",
    "x0 = 123.0\n",
    "\n",
    "[I,X,U] = genranN(a,b,m,x0,N)\n",
    "showValues(I,X,U)\n",
    "print(\"El tamaño del ciclo es: \"+str(tam_ciclo((np.array(X)).astype(int))))"
   ]
  },
  {
   "cell_type": "code",
   "execution_count": 200,
   "metadata": {},
   "outputs": [
    {
     "data": {
      "image/png": "[encoded data removed]",
      "text/plain": [
       "<Figure size 432x288 with 1 Axes>"
      ]
     },
     "metadata": {
      "needs_background": "light"
     },
     "output_type": "display_data"
    },
    {
     "name": "stdout",
     "output_type": "stream",
     "text": [
      "Estadístico chi2 = 9.8\n",
      "9.8\n"
     ]
    }
   ],
   "source": [
    "import matplotlib.pyplot as plt\n",
    "from scipy import stats\n",
    "\n",
    "k=10\n",
    "count, bins, ignored = plt.hist(U, k, normed=False)\n",
    "plt.plot(bins, np.ones_like(bins)*(N/k), linewidth=2, color='r')\n",
    "plt.show()\n",
    "\n",
    "chiest=0\n",
    "for i in range(0,k):\n",
    "    chiest = chiest + ((count[i]-(N/k))**2)/(N/k)\n",
    "print(\"Estadístico chi2 = \"+str(chiest))\n",
    "\n",
    "chisq, pvalue = stats.chisquare(count, f_exp=np.ones_like(count)*(N/k))\n",
    "print(chisq)"
   ]
  },
  {
   "cell_type": "markdown",
   "metadata": {},
   "source": [
    "**(c)** $x_0=7, x_n = (5x_{n-1}+3) \\mod 33$"
   ]
  },
  {
   "cell_type": "code",
   "execution_count": 201,
   "metadata": {},
   "outputs": [
    {
     "name": "stdout",
     "output_type": "stream",
     "text": [
      "i\tXi\tUi\n",
      "1\t5\t0.1515\n",
      "2\t28\t0.8485\n",
      "3\t11\t0.3333\n",
      "4\t25\t0.7576\n",
      "5\t29\t0.8788\n",
      "6\t16\t0.4848\n",
      "7\t17\t0.5152\n",
      "8\t22\t0.6667\n",
      "9\t14\t0.4242\n",
      "10\t7\t0.2121\n",
      "11\t5\t0.1515\n",
      "12\t28\t0.8485\n",
      "13\t11\t0.3333\n",
      "14\t25\t0.7576\n",
      "15\t29\t0.8788\n",
      "16\t16\t0.4848\n",
      "17\t17\t0.5152\n",
      "18\t22\t0.6667\n",
      "19\t14\t0.4242\n",
      "20\t7\t0.2121\n",
      "21\t5\t0.1515\n",
      "22\t28\t0.8485\n",
      "23\t11\t0.3333\n",
      "24\t25\t0.7576\n",
      "25\t29\t0.8788\n",
      "26\t16\t0.4848\n",
      "27\t17\t0.5152\n",
      "28\t22\t0.6667\n",
      "29\t14\t0.4242\n",
      "30\t7\t0.2121\n",
      "31\t5\t0.1515\n",
      "32\t28\t0.8485\n",
      "33\t11\t0.3333\n",
      "34\t25\t0.7576\n",
      "35\t29\t0.8788\n",
      "36\t16\t0.4848\n",
      "37\t17\t0.5152\n",
      "38\t22\t0.6667\n",
      "39\t14\t0.4242\n",
      "40\t7\t0.2121\n",
      "41\t5\t0.1515\n",
      "42\t28\t0.8485\n",
      "43\t11\t0.3333\n",
      "44\t25\t0.7576\n",
      "45\t29\t0.8788\n",
      "46\t16\t0.4848\n",
      "47\t17\t0.5152\n",
      "48\t22\t0.6667\n",
      "49\t14\t0.4242\n",
      "50\t7\t0.2121\n",
      "51\t5\t0.1515\n",
      "52\t28\t0.8485\n",
      "53\t11\t0.3333\n",
      "54\t25\t0.7576\n",
      "55\t29\t0.8788\n",
      "56\t16\t0.4848\n",
      "57\t17\t0.5152\n",
      "58\t22\t0.6667\n",
      "59\t14\t0.4242\n",
      "60\t7\t0.2121\n",
      "61\t5\t0.1515\n",
      "62\t28\t0.8485\n",
      "63\t11\t0.3333\n",
      "64\t25\t0.7576\n",
      "65\t29\t0.8788\n",
      "66\t16\t0.4848\n",
      "67\t17\t0.5152\n",
      "68\t22\t0.6667\n",
      "69\t14\t0.4242\n",
      "70\t7\t0.2121\n",
      "71\t5\t0.1515\n",
      "72\t28\t0.8485\n",
      "73\t11\t0.3333\n",
      "74\t25\t0.7576\n",
      "75\t29\t0.8788\n",
      "76\t16\t0.4848\n",
      "77\t17\t0.5152\n",
      "78\t22\t0.6667\n",
      "79\t14\t0.4242\n",
      "80\t7\t0.2121\n",
      "81\t5\t0.1515\n",
      "82\t28\t0.8485\n",
      "83\t11\t0.3333\n",
      "84\t25\t0.7576\n",
      "85\t29\t0.8788\n",
      "86\t16\t0.4848\n",
      "87\t17\t0.5152\n",
      "88\t22\t0.6667\n",
      "89\t14\t0.4242\n",
      "90\t7\t0.2121\n",
      "91\t5\t0.1515\n",
      "92\t28\t0.8485\n",
      "93\t11\t0.3333\n",
      "94\t25\t0.7576\n",
      "95\t29\t0.8788\n",
      "96\t16\t0.4848\n",
      "97\t17\t0.5152\n",
      "98\t22\t0.6667\n",
      "99\t14\t0.4242\n",
      "100\t7\t0.2121\n",
      "El tamaño del ciclo es: 10\n"
     ]
    }
   ],
   "source": [
    "a = 5.0\n",
    "b = 3.0\n",
    "m = 33.0\n",
    "x0 = 7.0\n",
    "\n",
    "[I,X,U] = genranN(a,b,m,x0,N)\n",
    "showValues(I,X,U)\n",
    "print(\"El tamaño del ciclo es: \"+str(tam_ciclo((np.array(X)).astype(int))))"
   ]
  },
  {
   "cell_type": "code",
   "execution_count": 202,
   "metadata": {},
   "outputs": [
    {
     "data": {
      "image/png": "[encoded data removed]",
      "text/plain": [
       "<Figure size 432x288 with 1 Axes>"
      ]
     },
     "metadata": {
      "needs_background": "light"
     },
     "output_type": "display_data"
    },
    {
     "name": "stdout",
     "output_type": "stream",
     "text": [
      "Estadístico chi2 = 40.0\n",
      "40.0\n"
     ]
    }
   ],
   "source": [
    "import matplotlib.pyplot as plt\n",
    "from scipy import stats\n",
    "\n",
    "k=10\n",
    "count, bins, ignored = plt.hist(U, k, normed=False)\n",
    "plt.plot(bins, np.ones_like(bins)*(N/k), linewidth=2, color='r')\n",
    "plt.show()\n",
    "\n",
    "chiest=0\n",
    "for i in range(0,k):\n",
    "    chiest = chiest + ((count[i]-(N/k))**2)/(N/k)\n",
    "print(\"Estadístico chi2 = \"+str(chiest))\n",
    "\n",
    "chisq, pvalue = stats.chisquare(count, f_exp=np.ones_like(count)*(N/k))\n",
    "print(chisq)"
   ]
  },
  {
   "cell_type": "markdown",
   "metadata": {},
   "source": [
    "**2)** Para las siguientes integrales, use simulación con el generado congruencial mixto $x_0=6789, x_n = (25214903917 x_{n-1}+11) \\mod 2^{48}-1$ para aproximar el valor de las integrales para $N=100, 1000, 10000$, y compare su estimación con el valor real calculando el error relativo porcentual:\n",
    "\n",
    "**(a)** $\\int_{0}^{1}e ^{sin(x)}dx$"
   ]
  },
  {
   "cell_type": "code",
   "execution_count": 3,
   "metadata": {},
   "outputs": [
    {
     "data": {
      "image/png": "[encoded data removed]",
      "text/latex": [
       "$$\\int_{0}^{1} e^{\\sin{\\left (x \\right )}}\\, dx$$"
      ],
      "text/plain": [
       "  1           \n",
       "  /           \n",
       " |            \n",
       " |   sin(x)   \n",
       " |  e       dx\n",
       " |            \n",
       "/             \n",
       "0             "
      ]
     },
     "execution_count": 3,
     "metadata": {},
     "output_type": "execute_result"
    }
   ],
   "source": [
    "init_printing(use_unicode=False, wrap_line=False, no_global=True)\n",
    "x = Symbol('x')\n",
    "e = integrate(exp(sin(x)), (x,0,1))\n",
    "e"
   ]
  },
  {
   "cell_type": "code",
   "execution_count": 4,
   "metadata": {},
   "outputs": [
    {
     "data": {
      "image/png": "[encoded data removed]",
      "text/latex": [
       "$$1.63186960841805$$"
      ],
      "text/plain": [
       "1.63186960841805"
      ]
     },
     "execution_count": 4,
     "metadata": {},
     "output_type": "execute_result"
    }
   ],
   "source": [
    "e.n()"
   ]
  },
  {
   "cell_type": "code",
   "execution_count": 18,
   "metadata": {},
   "outputs": [
    {
     "name": "stdout",
     "output_type": "stream",
     "text": [
      "Valor real=1.63186960841805\n",
      "N=100\tAprox. MC=1.5655187208990082\t error relativo porc.=4.06594296362711\n",
      "N=1000\tAprox. MC=1.6255006882031207\t error relativo porc.=0.390283646565654\n",
      "N=10000\tAprox. MC=1.6354946577524685\t error relativo porc.=0.222140869326647\n"
     ]
    }
   ],
   "source": [
    "#a\n",
    "def integralA(n):\n",
    "    suma = 0\n",
    "    xo = 6789\n",
    "    xx=0\n",
    "    yi=0\n",
    "    [Ii,xi, ui] = genranN(25214903917, 11, (2**48)-1, xo, n)\n",
    "    for i in range(n):\n",
    "        xx = ui[i]\n",
    "        yi = math.exp(math.sin(xx))\n",
    "        suma+=yi\n",
    "    return suma/n\n",
    "    #print(\"Aproximación de MonteCarlo : \",suma/n)\n",
    "\n",
    "vlr_real = e.n()\n",
    "print(\"Valor real=\"+str(vlr_real))\n",
    "\n",
    "arr=[100,1000,10000]\n",
    "for i in range(0,len(arr)):\n",
    "    n=arr[i]\n",
    "    vlr_medido=integralA(n)\n",
    "    print(\"N=\"+str(n)+\"\\t\"+\"Aprox. MC=\"+str(vlr_medido)+\"\\t error relativo porc.=\"+str(error_relativo_porcentual(vlr_real, vlr_medido)))"
   ]
  },
  {
   "cell_type": "markdown",
   "metadata": {},
   "source": [
    "**(b)** $\\int_{-3}^{3}e^{sin(x)-x^{3}}dx$"
   ]
  },
  {
   "cell_type": "code",
   "execution_count": 33,
   "metadata": {},
   "outputs": [
    {
     "data": {
      "image/png": "[encoded data removed]",
      "text/latex": [
       "$$\\int_{-3}^{3} e^{- x^{3} + \\sin{\\left (x \\right )}}\\, dx$$"
      ],
      "text/plain": [
       "  3                  \n",
       "  /                  \n",
       " |                   \n",
       " |      3            \n",
       " |   - x  + sin(x)   \n",
       " |  e              dx\n",
       " |                   \n",
       "/                    \n",
       "-3                   "
      ]
     },
     "execution_count": 33,
     "metadata": {},
     "output_type": "execute_result"
    }
   ],
   "source": [
    "e = Integral(exp(sin(x)-x**3), (x,-3,3))\n",
    "e"
   ]
  },
  {
   "cell_type": "code",
   "execution_count": 34,
   "metadata": {},
   "outputs": [
    {
     "data": {
      "image/png": "[encoded data removed]",
      "text/latex": [
       "$$16914271133.3059$$"
      ],
      "text/plain": [
       "16914271133.3059"
      ]
     },
     "execution_count": 34,
     "metadata": {},
     "output_type": "execute_result"
    }
   ],
   "source": [
    "e.n()"
   ]
  },
  {
   "cell_type": "code",
   "execution_count": 35,
   "metadata": {},
   "outputs": [
    {
     "name": "stdout",
     "output_type": "stream",
     "text": [
      "Valor real=16914271133.3059\n",
      "N=100\tAprox. MC=18078980568.25854\t error relativo porc.=6.88595698728737\n",
      "N=1000\tAprox. MC=24099669464.842575\t error relativo porc.=42.4812767568084\n",
      "N=10000\tAprox. MC=20676235342.698166\t error relativo porc.=22.2413616273689\n"
     ]
    }
   ],
   "source": [
    "#b\n",
    "def integralB(n):\n",
    "    a = -3\n",
    "    b = 3\n",
    "    suma = 0\n",
    "    xo = 6789\n",
    "    [Ii,xi, ui] = genranN(25214903917, 11, (2**48)-1, xo, n)\n",
    "    for i in range(n):\n",
    "        xx = ui[i]*(b-a)+a\n",
    "        y = (b-a)*math.exp(math.sin(xx)-(xx**3))\n",
    "        suma+=y\n",
    "    return suma/n\n",
    "    #print(\"Aproximación de MonteCarlo : \",suma/n)\n",
    "\n",
    "vlr_real = e.n()\n",
    "print(\"Valor real=\"+str(vlr_real))\n",
    "arr=[100,1000,10000]\n",
    "for i in range(0,len(arr)):\n",
    "    n=arr[i]\n",
    "    vlr_medido=integralB(n)\n",
    "    print(\"N=\"+str(n)+\"\\t\"+\"Aprox. MC=\"+str(vlr_medido)+\"\\t error relativo porc.=\"+str(error_relativo_porcentual(vlr_real, vlr_medido)))"
   ]
  },
  {
   "cell_type": "markdown",
   "metadata": {},
   "source": [
    "**(c)** $\\int_{0}^{1}(\\sin(1+x^{2}))^{3/2}dx$"
   ]
  },
  {
   "cell_type": "code",
   "execution_count": 24,
   "metadata": {},
   "outputs": [
    {
     "data": {
      "image/png": "[encoded data removed]",
      "text/latex": [
       "$$\\int_{0}^{1} \\sin^{1.5}{\\left (x^{2} + 1 \\right )}\\, dx$$"
      ],
      "text/plain": [
       "  1                  \n",
       "  /                  \n",
       " |                   \n",
       " |     1.5/ 2    \\   \n",
       " |  sin   \\x  + 1/ dx\n",
       " |                   \n",
       "/                    \n",
       "0                    "
      ]
     },
     "execution_count": 24,
     "metadata": {},
     "output_type": "execute_result"
    }
   ],
   "source": [
    "e = Integral(sin(1+x**2)**(3/2), (x,0,1))\n",
    "e"
   ]
  },
  {
   "cell_type": "code",
   "execution_count": 25,
   "metadata": {},
   "outputs": [
    {
     "data": {
      "image/png": "[encoded data removed]",
      "text/latex": [
       "$$0.896282156377612$$"
      ],
      "text/plain": [
       "0.896282156377612"
      ]
     },
     "execution_count": 25,
     "metadata": {},
     "output_type": "execute_result"
    }
   ],
   "source": [
    "e.n()"
   ]
  },
  {
   "cell_type": "code",
   "execution_count": 26,
   "metadata": {},
   "outputs": [
    {
     "name": "stdout",
     "output_type": "stream",
     "text": [
      "Valor real=0.896282156377612\n",
      "N=100\tAprox. MC=0.8803745810129968\t error relativo porc.=1.77484012723259\n",
      "N=1000\tAprox. MC=0.8934084491806973\t error relativo porc.=0.320625282615156\n",
      "N=10000\tAprox. MC=0.8968568735719155\t error relativo porc.=0.0641223514507979\n"
     ]
    }
   ],
   "source": [
    "#c\n",
    "def integralC(n):\n",
    "    suma = 0\n",
    "    xo = 6789\n",
    "    [Ii,xi, ui] = genranN(25214903917, 11, (2**48)-1, xo, n)\n",
    "    for i in range(n):\n",
    "        xx = ui[i]\n",
    "        y = (math.sqrt(((math.sin(1+xx**2))**3)))\n",
    "        suma+=y\n",
    "    return suma/n\n",
    "    #print(\"Aproximación de MonteCarlo : \",suma/n)\n",
    "\n",
    "vlr_real = e.n()\n",
    "print(\"Valor real=\"+str(vlr_real))\n",
    "arr=[100,1000,10000]\n",
    "for i in range(0,len(arr)):\n",
    "    n=arr[i]\n",
    "    vlr_medido=integralC(n)\n",
    "    print(\"N=\"+str(n)+\"\\t\"+\"Aprox. MC=\"+str(vlr_medido)+\"\\t error relativo porc.=\"+str(error_relativo_porcentual(vlr_real, vlr_medido)))"
   ]
  },
  {
   "cell_type": "markdown",
   "metadata": {},
   "source": [
    "**3)** Dados los siguientes valores de la distribución de probabilidad discreta de la variable aleatoria $X$ de un dado de 8 lados: $X = {1,2,3,4,5,6,7,8}$, $p(X) = {0.11,0.3,0.12,0.2,0.05,0.07,0.05,0.10}$, ¿Qué valores retornaría el generador de variables aleatorias por el método de la inversión si los números aleatorios generados son: $U = {0.1573, 0.9454, 0.8211, 0.6996, 0.0318, 0.1708, 0.6865, 0.9102, 0.2579, 0.6344}$?"
   ]
  },
  {
   "cell_type": "code",
   "execution_count": 213,
   "metadata": {},
   "outputs": [
    {
     "name": "stdout",
     "output_type": "stream",
     "text": [
      "[0.1573, 0.9454, 0.8211, 0.6996, 0.0318, 0.1708, 0.6865, 0.9102, 0.2579, 0.6344]\n",
      "[1, 2, 3, 4, 5, 6, 7, 8]\n",
      "[0.11 0.41 0.53 0.73 0.78 0.85 0.9  1.  ]\n",
      "[2, 8, 6, 4, 1, 2, 4, 8, 2, 4]\n"
     ]
    }
   ],
   "source": [
    "U = [0.1573, 0.9454, 0.8211, 0.6996, 0.0318, 0.1708, 0.6865, 0.9102, 0.2579, 0.6344]\n",
    "X = [1,2,3,4,5,6,7,8]\n",
    "p = [0.11,0.3,0.12,0.2,0.05,0.07,0.05,0.10]\n",
    "P = np.cumsum(p)\n",
    "print(U)\n",
    "print(X)\n",
    "print(P)\n",
    "V=genvardiscret(U,X,P)\n",
    "print(V)"
   ]
  },
  {
   "cell_type": "markdown",
   "metadata": {},
   "source": [
    "**4)** Responda las siguientes preguntas:\n",
    "\n",
    "**(a)** Nombre dos distribuciones de probabilidad discreta.\n",
    "\n",
    "_Rta:_\n",
    "    Bernoulli, Binomial, Poisson\n",
    "    \n",
    "**(b)** ¿Cuáles son los parámetros de la distribución de probabilidad normal?\n",
    "\n",
    "_Rta:_\n",
    "    $\\mu$ y $\\sigma$\n",
    "\n",
    "**(c)** ¿Cuál es el valor esperado de una distribución de probabilidad uniforme continua que esta definida en el intervalo de 2 a 12? \n",
    "\n",
    "_Rta:_\n",
    "    (2+12)/2 = 14/2 = 7"
   ]
  },
  {
   "cell_type": "markdown",
   "metadata": {},
   "source": [
    "**5)** Utilizando el metodo de Monte Carlo, y tomando como base el ejemplo del calculo del área del circulo visto en clase y del taller 3 con sus propios generadores congruenciales:\n",
    "\n",
    "**(a)** Implemente el metodo de Monte Carlo para calcular y mostrar el área estimada de una elipse con un semieje mayor $a = 13$ y semieje menor $b = 6$ centrado en el origen $x, y = (0, 0)$ generando 1000 coordenadas aleatorias $(X, Y)$ en el rango de\n",
    "$X = [−a, a]$ y $Y = [−b, b]$.<br>\n",
    "**(b)** Calcule el area real de la elipse.<br>\n",
    "**(c)** Calcule la diferencia entre el área real y el área estimada de la elipse con el método de Monte Carlo<br>\n",
    "**(d)** Grafique los puntos aleatorios generados que caen dentro de la elipse en rojo y los que caen fuera de la elipse en azul."
   ]
  },
  {
   "cell_type": "markdown",
   "metadata": {},
   "source": [
    "_Rta.:_\n",
    "\n",
    "La ecuación de la elipse es:\n",
    "\n",
    "$\\frac{(x-x_0)^2}{a^2} + \\frac{(y-y_0)^2}{b^2} = 1$\n",
    "\n",
    "La formula para calcular el área de la elipse es: $Area = \\pi \\cdot  a \\cdot  b$\n",
    "<center>\n",
    "<a href=\"https://www.google.com.co/search?rlz=1C5CHFA_enCO801CO801&ei=zLm6W-CfHoGb5wK45LWgDQ&q=ellipse+area&oq=ellipse+area&gs_l=psy-ab.3...0.0.0.5609.0.0.0.0.0.0.0.0..0.0....0...1..64.psy-ab..0.0.0....0.lP8_dbePDHE\">https://www.google.com.co/search?rlz=1C5CHFA_enCO801CO801&ei=zLm6W-CfHoGb5wK45LWgDQ&q=ellipse+area&oq=ellipse+area&gs_l=psy-ab.3...0.0.0.5609.0.0.0.0.0.0.0.0..0.0....0...1..64.psy-ab..0.0.0....0.lP8_dbePDHE</a>\n",
    "</center>"
   ]
  },
  {
   "cell_type": "code",
   "execution_count": 214,
   "metadata": {},
   "outputs": [],
   "source": [
    "a=13\n",
    "b=6\n",
    "N = 1000"
   ]
  },
  {
   "cell_type": "code",
   "execution_count": 215,
   "metadata": {},
   "outputs": [
    {
     "name": "stdout",
     "output_type": "stream",
     "text": [
      "a) Area estimada elipse con MC:  245.232\n"
     ]
    }
   ],
   "source": [
    "nElipse = 0\n",
    "nNElipse = 0\n",
    "X=[]\n",
    "Y=[]\n",
    "Xr=[]\n",
    "Yr=[]\n",
    "Xb=[]\n",
    "Yb=[]\n",
    "for i in range(1, N+1):\n",
    "    Ux = np.random.rand()\n",
    "    Uy = np.random.rand()\n",
    "    X.append(2*a*Ux-a)\n",
    "    Y.append(2*b*Uy-b)\n",
    "    I = (X[i-1]**2)/(a**2) + (Y[i-1]**2)/(b**2)\n",
    "    if I <= 1:\n",
    "        nElipse = nElipse + 1\n",
    "        Xr.append(X[i-1])\n",
    "        Yr.append(Y[i-1])\n",
    "    else:\n",
    "        nNElipse = nNElipse +1\n",
    "        Xb.append(X[i-1])\n",
    "        Yb.append(Y[i-1])\n",
    "\n",
    "AreaElipseMC = (float(nElipse)/ float(N))*((4*b*a))\n",
    "print(\"a) Area estimada elipse con MC: \", AreaElipseMC)"
   ]
  },
  {
   "cell_type": "code",
   "execution_count": 216,
   "metadata": {},
   "outputs": [
    {
     "name": "stdout",
     "output_type": "stream",
     "text": [
      "b) Calcule el área real de la elipse. 245.04422698000388\n"
     ]
    }
   ],
   "source": [
    "AreaElipseReal = np.pi*a*b\n",
    "\n",
    "print(\"b) Calcule el área real de la elipse.\",AreaElipseReal)"
   ]
  },
  {
   "cell_type": "code",
   "execution_count": 217,
   "metadata": {},
   "outputs": [
    {
     "name": "stderr",
     "output_type": "stream",
     "text": [
      "/Users/angelcruz-roa/anaconda3/lib/python3.6/site-packages/matplotlib/cbook/__init__.py:1725: UserWarning: Saw kwargs ['lw', 'linewidth'] which are all aliases for 'linewidth'.  Kept value from 'linewidth'\n",
      "  seen=seen, canon=canonical, used=seen[-1]))\n"
     ]
    },
    {
     "name": "stdout",
     "output_type": "stream",
     "text": [
      "\n",
      "c) Calcule la diferencia entre el área real y el área estimada con el método de Monte Carlo\n",
      "\n",
      "Area Real = 245.04422698000388 Area Estimada= 245.232 Error = 0.18777301999611495\n",
      "\n",
      "d) Grafique los puntos aleatorios generados que caen dentro del círculo en rojo y los que caen fuera del círculo en azul \n"
     ]
    },
    {
     "data": {
      "image/png": "[encoded data removed]",
      "text/plain": [
       "<Figure size 432x288 with 1 Axes>"
      ]
     },
     "metadata": {
      "needs_background": "light"
     },
     "output_type": "display_data"
    }
   ],
   "source": [
    "%matplotlib inline\n",
    "import matplotlib.pyplot as plt\n",
    "\n",
    "x = np.arange(-float(a),float(a),float(a)/100.0)\n",
    "#x.append(1)\n",
    "y1=[]\n",
    "y2=[]\n",
    "for i in x:\n",
    "    n = np.sqrt((1-((i**2)/a**2))*b**2)\n",
    "    y1.append(n)\n",
    "    y2.append(-n)\n",
    "    \n",
    "plt.plot(x,y1,color=\"black\",lw=3)\n",
    "plt.plot(x,y2,color=\"black\",lw=3)\n",
    "plt.ylim(-(b), b)\n",
    "plt.xlim(-(a), a)\n",
    "plt.grid(True) \n",
    "\n",
    "plt.plot(Xr, Yr, color=\"red\",linewidth=0, marker='o', lw=1 )\n",
    "plt.plot(Xb, Yb, color=\"blue\",linewidth=0, marker='o', lw=1 )\n",
    "titulo = \"Area Real = \"+str(AreaElipseReal)+\" Area Estimada= \"+str(AreaElipseMC)+\" Error = \"+str(np.abs(AreaElipseReal-AreaElipseMC))\n",
    "print(\"\\nc) Calcule la diferencia entre el área real y el área estimada con el método de Monte Carlo\\n\")\n",
    "print(titulo)\n",
    "print(\"\\nd) Grafique los puntos aleatorios generados que caen dentro del círculo en rojo y los que caen fuera del círculo en azul \")\n",
    "plt.title(titulo)\n",
    "plt.show()"
   ]
  },
  {
   "cell_type": "code",
   "execution_count": null,
   "metadata": {},
   "outputs": [],
   "source": []
  }
 ],
 "metadata": {
  "kernelspec": {
   "display_name": "Python 3",
   "language": "python",
   "name": "python3"
  },
  "language_info": {
   "codemirror_mode": {
    "name": "ipython",
    "version": 3
   },
   "file_extension": ".py",
   "mimetype": "text/x-python",
   "name": "python",
   "nbconvert_exporter": "python",
   "pygments_lexer": "ipython3",
   "version": "3.6.8"
  }
 },
 "nbformat": 4,
 "nbformat_minor": 2
}
