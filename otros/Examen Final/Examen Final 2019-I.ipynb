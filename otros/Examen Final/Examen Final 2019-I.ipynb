{
  "cells": [
    {
      "cell_type": "markdown",
      "metadata": {
        "pycharm": {}
      },
      "source": [
        "## 1.\n",
        "Si $x_0\u003d3$ y\n",
        "$$x_n \u003d (5x_{n-1}+7) \\mod 200$$\n",
        "\n",
        "**a)** encuentre $x_1,...,x_{100}$"
      ]
    },
    {
      "cell_type": "markdown",
      "metadata": {
        "pycharm": {}
      },
      "source": [
        "**b)** el tamaño del ciclo (si lo tiene)"
      ]
    },
    {
      "cell_type": "markdown",
      "metadata": {
        "pycharm": {}
      },
      "source": "**c)** calcule el estadístico $\\chi^2$"
    },
    {
      "cell_type": "code",
      "execution_count": 26,
      "outputs": [],
      "source": "%matplotlib inline\nimport matplotlib.pyplot as plt\nimport numpy as np\nimport math\nimport random\nfrom sympy import *\nfrom datetime import datetime\nimport time",
      "metadata": {
        "pycharm": {
          "metadata": false,
          "name": "#%%\n",
          "is_executing": false
        }
      }
    },
    {
      "cell_type": "code",
      "execution_count": 32,
      "outputs": [
        {
          "name": "stdout",
          "text": [
            "1\t 22\t 0.1100\t\n2\t 117\t 0.5850\t\n3\t 192\t 0.9600\t\n4\t 167\t 0.8350\t\n5\t 42\t 0.2100\t\n6\t 17\t 0.0850\t\n7\t 92\t 0.4600\t\n8\t 67\t 0.3350\t\n9\t 142\t 0.7100\t\n10\t 117\t 0.5850\t\n11\t 192\t 0.9600\t\n12\t 167\t 0.8350\t\n13\t 42\t 0.2100\t\n14\t 17\t 0.0850\t\n15\t 92\t 0.4600\t\n16\t 67\t 0.3350\t\n17\t 142\t 0.7100\t\n18\t 117\t 0.5850\t\n19\t 192\t 0.9600\t\n20\t 167\t 0.8350\t\n21\t 42\t 0.2100\t\n22\t 17\t 0.0850\t\n23\t 92\t 0.4600\t\n24\t 67\t 0.3350\t\n25\t 142\t 0.7100\t\n26\t 117\t 0.5850\t\n27\t 192\t 0.9600\t\n28\t 167\t 0.8350\t\n29\t 42\t 0.2100\t\n30\t 17\t 0.0850\t\n31\t 92\t 0.4600\t\n32\t 67\t 0.3350\t\n33\t 142\t 0.7100\t\n34\t 117\t 0.5850\t\n35\t 192\t 0.9600\t\n36\t 167\t 0.8350\t\n37\t 42\t 0.2100\t\n38\t 17\t 0.0850\t\n39\t 92\t 0.4600\t\n40\t 67\t 0.3350\t\n41\t 142\t 0.7100\t\n42\t 117\t 0.5850\t\n43\t 192\t 0.9600\t\n44\t 167\t 0.8350\t\n45\t 42\t 0.2100\t\n46\t 17\t 0.0850\t\n47\t 92\t 0.4600\t\n48\t 67\t 0.3350\t\n49\t 142\t 0.7100\t\n50\t 117\t 0.5850\t\n51\t 192\t 0.9600\t\n52\t 167\t 0.8350\t\n53\t 42\t 0.2100\t\n54\t 17\t 0.0850\t\n55\t 92\t 0.4600\t\n56\t 67\t 0.3350\t\n57\t 142\t 0.7100\t\n58\t 117\t 0.5850\t\n59\t 192\t 0.9600\t\n60\t 167\t 0.8350\t\n61\t 42\t 0.2100\t\n62\t 17\t 0.0850\t\n63\t 92\t 0.4600\t\n64\t 67\t 0.3350\t\n65\t 142\t 0.7100\t\n66\t 117\t 0.5850\t\n67\t 192\t 0.9600\t\n68\t 167\t 0.8350\t\n69\t 42\t 0.2100\t\n70\t 17\t 0.0850\t\n71\t 92\t 0.4600\t\n72\t 67\t 0.3350\t\n73\t 142\t 0.7100\t\n74\t 117\t 0.5850\t\n75\t 192\t 0.9600\t\n76\t 167\t 0.8350\t\n77\t 42\t 0.2100\t\n78\t 17\t 0.0850\t\n79\t 92\t 0.4600\t\n80\t 67\t 0.3350\t\n81\t 142\t 0.7100\t\n82\t 117\t 0.5850\t\n83\t 192\t 0.9600\t\n84\t 167\t 0.8350\t\n85\t 42\t 0.2100\t\n86\t 17\t 0.0850\t\n87\t 92\t 0.4600\t\n88\t 67\t 0.3350\t\n89\t 142\t 0.7100\t\n90\t 117\t 0.5850\t\n91\t 192\t 0.9600\t\n92\t 167\t 0.8350\t\n93\t 42\t 0.2100\t\n94\t 17\t 0.0850\t\n95\t 92\t 0.4600\t\n96\t 67\t 0.3350\t\n97\t 142\t 0.7100\t\n98\t 117\t 0.5850\t\n99\t 192\t 0.9600\t\n100\t 167\t 0.8350\t\nEl tamaño del ciclo es\n"
          ],
          "output_type": "stream"
        },
        {
          "data": {
            "text/plain": "\u00278\u0027"
          },
          "metadata": {},
          "output_type": "execute_result",
          "execution_count": 32
        }
      ],
      "source": "def GNCongruMix(x0, a, m, c, lim):\n    xn \u003d x0\n    list \u003d []\n    for i in range(lim):\n        xn \u003d (a * xn + c) % m\n        un \u003d xn / m\n        list.append(un)\n        #print(\"u_{} \u003d {}\".format(i+1, un))\n        print(\"%d\\t %d\\t %.4f\\t\"%(i+1,xn,un))\n\n    return list\n\n\nx0 \u003d 3\na \u003d 5\nm \u003d 200\nc \u003d 7\nlim \u003d 100\nlist \u003d GNCongruMix(x0, a, m, c, lim)\n#for i in range(len(list)):\n #   print(\"u_{} \u003d {}\".format(i+1, list[i]))\n\ndef ciclos(lista):\n    xf\u003d0\n    xi\u003d0\n    for i in range(len(lista)):\n        for j in range(i+1, len(lista)):\n            if lista[i]\u003d\u003dlista[j]:\n                return str(j-i)\n    return \"No esta repetido en este momento\"\nprint(\"El tamaño del ciclo es\")\nciclos(list)",
      "metadata": {
        "pycharm": {
          "metadata": false,
          "name": "#%%\n",
          "is_executing": false
        }
      }
    },
    {
      "cell_type": "markdown",
      "source": "## 2.\n\nDada la función $f(x) \u003d -4x^6 + 5x^2 - x + 1$:\n\n**a)** Calcule el área bajo la curva usando el método de Monte Carlo generando 1.000 y 1.000.000 puntos $(x,y)$ aleatorios. Para ello use sus propios generadores congruenciales de numeros pseudoaleatorios uniformes $U(0,1)$, tal que genere puntos $(x,y)$ para el rango $x \u003d [-1,1]$ y $y \u003d[0,max(f(x))]$.\u003cbr\u003e\n**b)** Grafique la función y los puntos $(x,y)$ aleatorios generados.\u003cbr\u003e\n**c)** Calcule el error en comparación con el valor de la solución analítica.\n",
      "metadata": {
        "pycharm": {
          "metadata": false,
          "name": "#%% md\n"
        }
      }
    },
    {
      "cell_type": "code",
      "execution_count": 33,
      "outputs": [
        {
          "data": {
            "text/plain": "\u003cFigure size 432x288 with 1 Axes\u003e",
            "image/png": "[encoded data removed]"
          },
          "metadata": {
            "needs_background": "light"
          },
          "output_type": "display_data"
        },
        {
          "name": "stdout",
          "text": [
            "Montecarlo\u003d 4.192308899562366\nIntegral\u003d 4.190476190476191\nError\u003d -0.001832709086174944\n"
          ],
          "output_type": "stream"
        }
      ],
      "source": "def funcion(x):\n    return -4*math.pow(x,6)+5*math.pow(x,2)- x + 1\n\nx_limite_min \u003d -1.0\nx_limite_max \u003d 1.0\ncant_pasos \u003d 100000 \ny_limite_min \u003d 0\ny_limite_max \u003d y_limite_min\nfor i in range(cant_pasos):\n    x \u003d x_limite_min + (x_limite_max - x_limite_min) * float(i) / cant_pasos\n    y \u003d funcion(x)\n    if y \u003c y_limite_min: y_limite_min \u003d y\n    if y \u003e y_limite_max: y_limite_max \u003d y\n\naux_area \u003d (x_limite_max - x_limite_min) * (y_limite_max - y_limite_min)\ncant_puntos \u003d 1000000\ncont \u003d 0\nx_adentro\u003d[]\ny_adentro\u003d[]\nx_afuera\u003d[]\ny_afuera\u003d[]\nfor j in range(cant_puntos):\n    x \u003d x_limite_min + (x_limite_max - x_limite_min) * random.random()\n    y \u003d y_limite_min + (y_limite_max - y_limite_min) * random.random()\n    if x\u003e\u003d-1 and x\u003c\u003d1 and y \u003c\u003d funcion(x):\n        cont +\u003d 1\n        x_adentro.append(x)\n        y_adentro.append(y)\n    else:\n        x_afuera.append(x)\n        y_afuera.append(y)\n\narea_montecarlo \u003d aux_area * float(cont) / cant_puntos\n\n\ninit_printing() \nx \u003d Symbol(\u0027x\u0027)\nintegral\u003dIntegral((-4*x**6+5*x**2 - x + 1), (x, -1, 1))\nEq(integral, integral.doit())\nanalitica\u003dfloat(integral.doit())\nerror \u003d analitica - area_montecarlo\n\n\nxx \u003d np.arange(x_limite_min,x_limite_max,(x_limite_max-x_limite_min)/1000)\nyy\u003d[]\n\nfor xi in xx:\n    yy.append(funcion(xi))\nplt.plot(xx,yy,color\u003d\"blue\")\nplt.plot(x_adentro, y_adentro, color\u003d\"blue\",linewidth\u003d0, marker\u003d\u0027o\u0027 )\nplt.plot(x_afuera, y_afuera, color\u003d\"white\",linewidth\u003d0, marker\u003d\u0027o\u0027 )\nplt.ylim(y_limite_min, y_limite_max)\nplt.xlim(x_limite_min, x_limite_max)\nplt.grid(True) \nplt.show()\n\nprint(\"Montecarlo\u003d {}\".format(area_montecarlo))\nprint(\"Integral\u003d {}\".format(analitica))\nprint(\"Error\u003d {}\".format(error))",
      "metadata": {
        "pycharm": {
          "metadata": false,
          "name": "#%%\n",
          "is_executing": false
        }
      }
    },
    {
      "cell_type": "markdown",
      "metadata": {
        "pycharm": {}
      },
      "source": "## 3. Trans Inversa\nEscriba un programa para generar $n$ valores a partir de la funcion de masa de probabilidad $p_1 \u003d 1/4$ para $x_1$, y $p_2 \u003d 3/4$ para $x_2$ \u003cbr\u003e\n**a)** Sea $n \u003d 100$, ejecute el programa y determine la proporcion de valores que sean iguales a 2.\u003cbr\u003e\n**b)** Repita (a) con $n \u003d 1000$.\u003cbr\u003e\n**c)** Repita (a) con $n \u003d 10000$.\n"
    },
    {
      "cell_type": "code",
      "execution_count": 34,
      "outputs": [
        {
          "name": "stdout",
          "text": [
            "n:100\u003d 72\nn:1000\u003d 733\nn:10000\u003d 7438\n"
          ],
          "output_type": "stream"
        }
      ],
      "source": "prob\u003d[1/4,3/4]\ndef ge_Congruencial_mixto(n):\n    a\u003d25214903917\n    c\u003d11 \n    m\u003d(2**48)-1\n    xn\u003ddatetime.now().microsecond\n    numeros\u003d[]\n    for i in range (n):\n        xn\u003d(a*xn+c)%(m)\n        numeros.append(xn/m)\n    return numeros\n\ndef prob_acumulada(prob):\n    aux\u003d0\n    p_acu\u003d[0]\n    for i in range(len(prob)):\n        aux\u003daux+prob[i]\n        p_acu.append(aux)\n    return p_acu\n    \ndef trans_inversa(prob,n):    \n    Ui\u003dge_Congruencial_mixto(n)\n    p_acu\u003dprob_acumulada(prob)\n    cont\u003d0\n    for i in range(len(Ui)):\n        for j in range(1,len(p_acu)):\n            if(Ui[i]\u003e\u003dp_acu[j-1] and Ui[i]\u003c\u003dp_acu[j]):\n                if(j\u003d\u003d2):\n                    cont+\u003d1\n    return cont\n\n\nprint(\"n:100\u003d {}\".format(trans_inversa(prob,100)))\nprint(\"n:1000\u003d {}\".format(trans_inversa(prob,1000)))\nprint(\"n:10000\u003d {}\".format(trans_inversa(prob,10000)))",
      "metadata": {
        "pycharm": {
          "metadata": false,
          "name": "#%%\n",
          "is_executing": false
        }
      }
    },
    {
      "cell_type": "markdown",
      "metadata": {
        "pycharm": {}
      },
      "source": "## 4. \nSe tiene un sistema de línea de espera con un servidor y capacidad infinita (Modelo de Colas G/G/1) (Ver [Presentación](https://docs.google.com/presentation/d/17sB_GJVIu0vJYJXovaJNdLuBMENwHMW2L9Sa58P89Uw) ), en el cual tanto los tiempos de llegada entre clientes, así como los tiempos de atención del servidor se comportan como  variables aleatorias generadas de distribuciones de probabilidad exponenciales, en donde en promedio llegan A clientes por minuto al sistema y el servidor atiende en promedio B clientes por minuto. La simulación inicia en el tiempo $t\u003d0$ y se deja de permitir el ingreso de mas clientes en el sistema en el tiempo $T\u003d100$.\n\nPara analizar el sistema Ud. debe usar la implementación de acuerdo con el Modelo de Colas G/G/1 visto en clase (diapositivas 42 y 43 [Presentación](https://docs.google.com/presentation/d/17sB_GJVIu0vJYJXovaJNdLuBMENwHMW2L9Sa58P89Uw) ). \n\nPara la generación de las variables aleatorias con distribución exponencial debe usar el método de la inversión para variables aleatorias continuas usando generadores congruenciales mixtos. _Ayuda: El método de inversión para variables aleatorias continuas debe usar la función inversa $F^{-1}(p)$ de la distribución de probabilidad acumulada de la distribución exponencial en donde el valor $p$ proviene del generador congruencial mixto_.\n\nPara la generación de las variables aleatorias de los tiempos entre las llegadas de clientes (variable aleatoria $X$) debe generar variables aleatorias continuas de una distribución exponencial con $\\lambda \u003d A$ a partir de un generador congruencial _Numerical Recipes_ (i.e. $a \u003d 1664525$, $c \u003d 1013904223$, $m\u003d2^{32}$) y semilla $X_0 \u003d 987654321$.\n\nPara la generación de las variables aleatorias de los tiempos de atención del servidor (variable aleatoria $Y$) debe generar variables aleatorias continuas de una distribución exponencial con $\\lambda \u003d B$ a partir de un generador congruencial Turbo Pascal (i.e. $a \u003d 134775813$, $c \u003d 1$, $m\u003d2^{32}$) y semilla $X_0 \u003d 123456789$.\n\nCon su implementación para $A\u003d2.5$ y $B\u003d6$ por favor responda lo siguiente:\n\n**a)** Tiempo promedio de los clientes en el sistema.\n\n**b)** Tiempo promedio de los clientes en la cola.\n\n**c)** Tiempo transcurrido desde $T$ hasta que el último cliente abandona el sistema.\n\n**d)** Número máximo de clientes en el sistema durante la simulación.\n\n**e)** Total de clientes que pasaron por el sistema\n\n**f)** Grafique el número de clientes en el sistema (eje Y) con respecto al tiempo (eje X).\n"
    },
    {
      "cell_type": "code",
      "execution_count": 35,
      "outputs": [
        {
          "name": "stdout",
          "text": [
            "Tiempo promedio de los clientes en el sistema:  35.838427721639675\nTiempo promedio de los clientes en la cola:  35.49956185471476\nTiempo transcurrido desde  T  hasta que el último cliente abandona el sistema:  65.40776831503743\nNúmero máximo de clientes en el sistema durante la simulación:  193\n"
          ],
          "output_type": "stream"
        }
      ],
      "source": "\nA\u003d2.5+2.5\nB\u003d3\nXa\u003d987654321\nXa2\u003d123456789\n\n\ndef generarU():\n    global Xa\n    a\u003d1664525\n    c\u003d1013904223\n    m\u003d2**32\n    Xo\u003dXa\n    Xn\u003d(a*Xo+c)%m\n    ui\u003dXn/m\n    Xa\u003dXn\n    return ui\n\n\ndef generarU2():\n    global Xa2\n    a\u003d134775813\n    c\u003d1\n    m\u003d2**32\n    Xo\u003dXa2\n    Xn\u003d(a*Xo+c)%m\n    ui\u003dXn/m\n    Xa2\u003dXn\n    return ui\n\ndef exponencial(lamda):\n    if lamda\u003d\u003dA:\n        U\u003dgenerarU()\n        return (-1/lamda) * math.log(1-U)\n    if lamda\u003d\u003dB:\n        U\u003dgenerarU2()\n        return (-1/lamda) * math.log(1-U)\n\nt\u003d0\ntsuc\u003d0\nNll\u003d0\nNs\u003d0\nn\u003d0\nTsuc_tLL\u003d2**16\nTsuc_ts\u003d2**16\nM\u003d2**16\nLL\u003dnp.zeros(1000)\nS\u003dnp.zeros(1000)\nServ\u003dnp.zeros(1000)\nT\u003d100\nnmax\u003d0\n\ndef llegada(tsuc):\n    global n,Nll,Tsuc_tLL,Tsuc_ts,t,Ns,nmax\n    t\u003dtsuc\n    n\u003dn+1\n    if n\u003enmax:\n        nmax\u003dn\n    Nll\u003dNll+1\n    LL[Nll]\u003dt\n    X\u003dexponencial(A)\n    if t+X\u003cT:\n        Tsuc_tLL\u003dt+X\n    if n\u003d\u003d1:\n        Y\u003dexponencial(B)\n        Tsuc_ts\u003dt+Y\n        Serv[Ns+1]\u003dY\n\ndef servidor(tsuc):\n    global t,n,Tsuc_tLL,Tsuc_ts,Ns\n    t\u003dtsuc\n    n\u003dn-1\n    Ns\u003dNs+1\n    S[Ns]\u003dt\n    if n\u003e0:\n        Y\u003d exponencial(B) \n        Tsuc_ts\u003dt+Y\n        Serv[Ns]\u003dY\n        \nX\u003dexponencial(A)\n\nif(X\u003eT):\n    Tp\u003d0\n    t_med_sistema\u003d0\n    t_med_cola\u003d0\nelse:\n    llegada(X)\n    while(Tsuc_tLL!\u003dM or Tsuc_ts!\u003dM):\n        if Tsuc_tLL\u003cTsuc_ts:\n            tsuc\u003dTsuc_tLL\n            Tsuc_tLL\u003dM\n            llegada(tsuc)\n        if Tsuc_ts\u003cTsuc_tLL:\n            tsuc\u003dTsuc_ts\n            Tsuc_ts\u003dM\n            servidor(tsuc)\n    Tp\u003dmax(0,t-T)\n    acumulado1\u003d0\n    acumulado2\u003d0\n    ind\u003d0\n    while(ind\u003cNll):\n        acumulado1\u003dacumulado1+S[ind]-LL[ind]\n        acumulado2\u003dacumulado2+S[ind]-LL[ind]-Serv[ind]\n        ind\u003dind+1\n    t_med_sistema\u003dacumulado1/Nll\n    t_med_cola\u003dacumulado2/Nll\n\nprint(\"Tiempo promedio de los clientes en el sistema: \",t_med_sistema)\nprint(\"Tiempo promedio de los clientes en la cola: \",t_med_cola)\nprint(\"Tiempo transcurrido desde  T  hasta que el último cliente abandona el sistema: \",Tp)\nprint(\"Número máximo de clientes en el sistema durante la simulación: \",nmax)\n",
      "metadata": {
        "pycharm": {
          "metadata": false,
          "name": "#%%\n",
          "is_executing": false
        }
      }
    },
    {
      "cell_type": "markdown",
      "metadata": {
        "pycharm": {}
      },
      "source": "## 5.\nUse su implementación del juego de la vida de Conway en NetLogo inicializando una reticula de 11 filas y 11 columnas con el siguiente patrón:\n\n\u003cimg src\u003d\"conway0.png\" height\u003d\"200\" width\u003d\"200\"\u003e"
    },
    {
      "cell_type": "markdown",
      "metadata": {
        "pycharm": {}
      },
      "source": "**a)** Copie el código utilizado en NetLogo del juego de la vida de Conway.\nADJUNTO NETLOGO"
    },
    {
      "cell_type": "markdown",
      "metadata": {
        "pycharm": {}
      },
      "source": "**b)** Ilustre el patrón de la reticula en cada iteración hasta la numero 3.\n#### Primera\n\u003cimg src\u003d\"unitera.png\" height\u003d\"200\" width\u003d\"200\"\u003e\n\n#### Segunda\n\u003cimg src\u003d\"doitera.png\" height\u003d\"200\" width\u003d\"200\"\u003e\n\n#### En la 3ra iteracion\n\u003cimg src\u003d\"parcial5.png\" height\u003d\"200\" width\u003d\"200\"\u003e\n\n#### En la 5ta iteracion\n\u003cimg src\u003d\"parcial5.png\" height\u003d\"200\" width\u003d\"200\"\u003e\n\n"
    }
  ],
  "metadata": {
    "kernelspec": {
      "display_name": "Python 3",
      "language": "python",
      "name": "python3"
    },
    "language_info": {
      "codemirror_mode": {
        "name": "ipython",
        "version": 3
      },
      "file_extension": ".py",
      "mimetype": "text/x-python",
      "name": "python",
      "nbconvert_exporter": "python",
      "pygments_lexer": "ipython3",
      "version": "3.6.8"
    }
  },
  "nbformat": 4,
  "nbformat_minor": 2
}