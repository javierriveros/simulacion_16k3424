{
 "cells": [
  {
   "cell_type": "code",
   "execution_count": 29,
   "metadata": {},
   "outputs": [],
   "source": [
    "import numpy as np\n",
    "import scipy as sp\n",
    "\n",
    "def genran(a,b,m,xant):\n",
    "    xsig = (a*xant + b) % m\n",
    "    usig = xsig / m\n",
    "    return [xsig,usig]\n",
    "\n",
    "def genranN(a,b,m,x0,N):\n",
    "    xant = x0\n",
    "    I=[]\n",
    "    X=[]\n",
    "    U=[]\n",
    "    for t in range(1, N+1):\n",
    "        [xi,ui] = genran(a,b,m,xant)\n",
    "        I.append(t)\n",
    "        X.append(xi)\n",
    "        U.append(ui)\n",
    "        xant = xi\n",
    "    return [I,X,U]\n",
    "\n",
    "def genvardiscret(U,X,P):\n",
    "    V = []\n",
    "    for t in range(0, len(U)):\n",
    "        for t2 in range(0, len(X)):\n",
    "            if U[t]<=P[t2]:\n",
    "                V.append(X[t2])\n",
    "                break\n",
    "    return V\n",
    "\n",
    "def tam_ciclo(values):\n",
    "    tam = 1\n",
    "    max_len = int(len(values) / 2)\n",
    "    for ii in range(2, max_len):\n",
    "        if (values[0:ii] == values[ii:2*ii]).any() :\n",
    "            return ii\n",
    "    \n",
    "    return tam\n",
    "\n",
    "def showValues(I,X,U):\n",
    "    print(\"i\\tXi\\tUi\")\n",
    "    for t in range(0, len(X)):\n",
    "        print(\"%d\\t%d\\t%2.4f\" % (I[t],X[t],U[t]), sep=' ', end='\\n')"
   ]
  },
  {
   "cell_type": "markdown",
   "metadata": {},
   "source": [
    "## 1.\n",
    "Si $x_0=3$ y\n",
    "$$x_n = (5x_{n-1}+7) \\mod 200$$\n",
    "\n",
    "**a)** encuentre $x_1,...,x_{100}$"
   ]
  },
  {
   "cell_type": "code",
   "execution_count": 30,
   "metadata": {},
   "outputs": [
    {
     "name": "stdout",
     "output_type": "stream",
     "text": [
      "i\tXi\tUi\n",
      "1\t22\t0.1100\n",
      "2\t117\t0.5850\n",
      "3\t192\t0.9600\n",
      "4\t167\t0.8350\n",
      "5\t42\t0.2100\n",
      "6\t17\t0.0850\n",
      "7\t92\t0.4600\n",
      "8\t67\t0.3350\n",
      "9\t142\t0.7100\n",
      "10\t117\t0.5850\n",
      "11\t192\t0.9600\n",
      "12\t167\t0.8350\n",
      "13\t42\t0.2100\n",
      "14\t17\t0.0850\n",
      "15\t92\t0.4600\n",
      "16\t67\t0.3350\n",
      "17\t142\t0.7100\n",
      "18\t117\t0.5850\n",
      "19\t192\t0.9600\n",
      "20\t167\t0.8350\n",
      "21\t42\t0.2100\n",
      "22\t17\t0.0850\n",
      "23\t92\t0.4600\n",
      "24\t67\t0.3350\n",
      "25\t142\t0.7100\n",
      "26\t117\t0.5850\n",
      "27\t192\t0.9600\n",
      "28\t167\t0.8350\n",
      "29\t42\t0.2100\n",
      "30\t17\t0.0850\n",
      "31\t92\t0.4600\n",
      "32\t67\t0.3350\n",
      "33\t142\t0.7100\n",
      "34\t117\t0.5850\n",
      "35\t192\t0.9600\n",
      "36\t167\t0.8350\n",
      "37\t42\t0.2100\n",
      "38\t17\t0.0850\n",
      "39\t92\t0.4600\n",
      "40\t67\t0.3350\n",
      "41\t142\t0.7100\n",
      "42\t117\t0.5850\n",
      "43\t192\t0.9600\n",
      "44\t167\t0.8350\n",
      "45\t42\t0.2100\n",
      "46\t17\t0.0850\n",
      "47\t92\t0.4600\n",
      "48\t67\t0.3350\n",
      "49\t142\t0.7100\n",
      "50\t117\t0.5850\n",
      "51\t192\t0.9600\n",
      "52\t167\t0.8350\n",
      "53\t42\t0.2100\n",
      "54\t17\t0.0850\n",
      "55\t92\t0.4600\n",
      "56\t67\t0.3350\n",
      "57\t142\t0.7100\n",
      "58\t117\t0.5850\n",
      "59\t192\t0.9600\n",
      "60\t167\t0.8350\n",
      "61\t42\t0.2100\n",
      "62\t17\t0.0850\n",
      "63\t92\t0.4600\n",
      "64\t67\t0.3350\n",
      "65\t142\t0.7100\n",
      "66\t117\t0.5850\n",
      "67\t192\t0.9600\n",
      "68\t167\t0.8350\n",
      "69\t42\t0.2100\n",
      "70\t17\t0.0850\n",
      "71\t92\t0.4600\n",
      "72\t67\t0.3350\n",
      "73\t142\t0.7100\n",
      "74\t117\t0.5850\n",
      "75\t192\t0.9600\n",
      "76\t167\t0.8350\n",
      "77\t42\t0.2100\n",
      "78\t17\t0.0850\n",
      "79\t92\t0.4600\n",
      "80\t67\t0.3350\n",
      "81\t142\t0.7100\n",
      "82\t117\t0.5850\n",
      "83\t192\t0.9600\n",
      "84\t167\t0.8350\n",
      "85\t42\t0.2100\n",
      "86\t17\t0.0850\n",
      "87\t92\t0.4600\n",
      "88\t67\t0.3350\n",
      "89\t142\t0.7100\n",
      "90\t117\t0.5850\n",
      "91\t192\t0.9600\n",
      "92\t167\t0.8350\n",
      "93\t42\t0.2100\n",
      "94\t17\t0.0850\n",
      "95\t92\t0.4600\n",
      "96\t67\t0.3350\n",
      "97\t142\t0.7100\n",
      "98\t117\t0.5850\n",
      "99\t192\t0.9600\n",
      "100\t167\t0.8350\n"
     ]
    }
   ],
   "source": [
    "a = 5.0\n",
    "b = 7.0\n",
    "m = 200.0\n",
    "x0 = 3.0\n",
    "N = 100\n",
    "[I,X,U] = genranN(a,b,m,x0,N)\n",
    "showValues(I,X,U)"
   ]
  },
  {
   "cell_type": "markdown",
   "metadata": {},
   "source": [
    "**b)** el tamaño del ciclo (si lo tiene)"
   ]
  },
  {
   "cell_type": "code",
   "execution_count": 31,
   "metadata": {},
   "outputs": [
    {
     "name": "stdout",
     "output_type": "stream",
     "text": [
      "El tamaño del ciclo es: 8\n"
     ]
    }
   ],
   "source": [
    "print(\"El tamaño del ciclo es: \"+str(tam_ciclo((np.array(X)).astype(int))))"
   ]
  },
  {
   "cell_type": "markdown",
   "metadata": {},
   "source": [
    "**c)** calcule el estadístico $\\chi^2$"
   ]
  },
  {
   "cell_type": "code",
   "execution_count": 32,
   "metadata": {},
   "outputs": [
    {
     "data": {
      "image/png": "[encoded data removed]",
      "text/plain": [
       "<Figure size 432x288 with 1 Axes>"
      ]
     },
     "metadata": {
      "needs_background": "light"
     },
     "output_type": "display_data"
    },
    {
     "name": "stdout",
     "output_type": "stream",
     "text": [
      "Estadístico chi2 = 25.199999999999996\n",
      "25.2\n"
     ]
    }
   ],
   "source": [
    "import matplotlib.pyplot as plt\n",
    "from scipy import stats\n",
    "\n",
    "k=10\n",
    "count, bins, ignored = plt.hist(U, k, normed=False)\n",
    "plt.plot(bins, np.ones_like(bins)*(N/k), linewidth=2, color='r')\n",
    "plt.show()\n",
    "\n",
    "chiest=0\n",
    "for i in range(0,k):\n",
    "    chiest = chiest + ((count[i]-(N/k))**2)/(N/k)\n",
    "print(\"Estadístico chi2 = \"+str(chiest))\n",
    "\n",
    "chisq, pvalue = stats.chisquare(count, f_exp=np.ones_like(count)*(N/k))\n",
    "print(chisq)"
   ]
  },
  {
   "cell_type": "markdown",
   "metadata": {},
   "source": [
    "## 2.\n",
    "\n",
    "Dada la función $f(x) = -4x^6 + 5x^2 - x + 1$:\n",
    "\n",
    "1. Calcule el área bajo la curva usando el método de Monte Carlo generando 1.000 y 1.000.000 puntos $(x,y)$ aleatorios. Para ello use sus propios generadores congruenciales de numeros pseudoaleatorios uniformes $U(0,1)$, tal que genere puntos $(x,y)$ para el rango $x = [-1,1]$ y $y =[0,max(f(x))]$.\n",
    "2. Grafique la función y los puntos $(x,y)$ aleatorios generados.\n",
    "3. Calcule el error en comparación con el valor de la solución analítica."
   ]
  },
  {
   "cell_type": "markdown",
   "metadata": {},
   "source": [
    "_Rta:_\n",
    "\n",
    "Para 1000"
   ]
  },
  {
   "cell_type": "code",
   "execution_count": 33,
   "metadata": {},
   "outputs": [
    {
     "name": "stdout",
     "output_type": "stream",
     "text": [
      "Area bajo la curva = 4.260537179224978\n"
     ]
    }
   ],
   "source": [
    "# Metodo de monte carlo para calcular el area bajo la curva de la funcion\n",
    "%matplotlib inline \n",
    "\n",
    "import math\n",
    "import random\n",
    "import numpy as np\n",
    "import matplotlib.pyplot as plt\n",
    "\n",
    "def f(x):\n",
    "    return -4*math.pow(x,6)+5*math.pow(x,2)- x + 1\n",
    "\n",
    "xmin = -1.0\n",
    "xmax = 1.0\n",
    "\n",
    "# Encuentra el ymax\n",
    "numPasos = 1000 \n",
    "ymin = 0\n",
    "ymax = ymin\n",
    "for i in range(numPasos):\n",
    "    x = xmin + (xmax - xmin) * float(i) / numPasos\n",
    "    y = f(x)\n",
    "    if y < ymin: ymin = y\n",
    "    if y > ymax: ymax = y\n",
    "\n",
    "# Monte Carlo\n",
    "rectArea = (xmax - xmin) * (ymax - ymin)\n",
    "numPuntos = 1000\n",
    "ct = 0\n",
    "\n",
    "Xr=[]\n",
    "Yr=[]\n",
    "Xb=[]\n",
    "Yb=[]\n",
    "\n",
    "for j in range(numPuntos):\n",
    "    x = xmin + (xmax - xmin) * random.random()\n",
    "    y = ymin + (ymax - ymin) * random.random()\n",
    "    ##if f(x) > 0 and y > 0 and y <= f(x):\n",
    "    if x>=-1 and x<=1 and y <= f(x):\n",
    "        ct += 1\n",
    "        Xr.append(x)\n",
    "        Yr.append(y)\n",
    "    else:\n",
    "        Xb.append(x)\n",
    "        Yb.append(y)\n",
    "\n",
    "MCArea = rectArea * float(ct) / numPuntos\n",
    "print(\"Area bajo la curva = \" + str(MCArea))"
   ]
  },
  {
   "cell_type": "code",
   "execution_count": 34,
   "metadata": {},
   "outputs": [
    {
     "name": "stderr",
     "output_type": "stream",
     "text": [
      "/Users/angelcruz-roa/anaconda3/lib/python3.6/site-packages/matplotlib/cbook/__init__.py:1725: UserWarning: Saw kwargs ['lw', 'linewidth'] which are all aliases for 'linewidth'.  Kept value from 'linewidth'\n",
      "  seen=seen, canon=canonical, used=seen[-1]))\n"
     ]
    },
    {
     "data": {
      "image/png": "[encoded data removed]",
      "text/plain": [
       "<Figure size 432x288 with 1 Axes>"
      ]
     },
     "metadata": {
      "needs_background": "light"
     },
     "output_type": "display_data"
    }
   ],
   "source": [
    "# Graficar\n",
    "xx = np.arange(xmin,xmax,(xmax-xmin)/numPasos)\n",
    "yy=[]\n",
    "\n",
    "for xi in xx:\n",
    "    yy.append(f(xi))\n",
    "plt.plot(xx,yy,color=\"black\")\n",
    "plt.plot(Xr, Yr, color=\"red\",linewidth=0, marker='o', lw=1 )\n",
    "plt.plot(Xb, Yb, color=\"blue\",linewidth=0, marker='o', lw=1 )\n",
    "\n",
    "plt.ylim(ymin, ymax)\n",
    "plt.xlim(xmin, xmax)\n",
    "plt.grid(True) \n",
    "plt.show()"
   ]
  },
  {
   "cell_type": "markdown",
   "metadata": {},
   "source": [
    "Solución analítica"
   ]
  },
  {
   "cell_type": "code",
   "execution_count": 35,
   "metadata": {},
   "outputs": [
    {
     "data": {
      "image/png": "[encoded data removed]",
      "text/latex": [
       "$$\\int_{-1}^{1} \\left(- 4 x^{6} + 5 x^{2} - x + 1\\right)\\, dx = \\frac{88}{21}$$"
      ],
      "text/plain": [
       "1                                 \n",
       "⌠                                 \n",
       "⎮  ⎛     6      2        ⎞      88\n",
       "⎮  ⎝- 4⋅x  + 5⋅x  - x + 1⎠ dx = ──\n",
       "⌡                               21\n",
       "-1                                "
      ]
     },
     "execution_count": 35,
     "metadata": {},
     "output_type": "execute_result"
    }
   ],
   "source": [
    "from sympy import *\n",
    "from sympy import init_printing\n",
    "init_printing() \n",
    "\n",
    "x = Symbol('x')\n",
    "\n",
    "aa=Integral((-4*x**6+5*x**2 - x + 1), (x, -1, 1))\n",
    "\n",
    "Eq(aa, aa.doit())"
   ]
  },
  {
   "cell_type": "code",
   "execution_count": 36,
   "metadata": {},
   "outputs": [
    {
     "name": "stdout",
     "output_type": "stream",
     "text": [
      "Area estimada usando MC:  4.260537179224978\n",
      "Area calculada a partir de la integral:  4.190476190476191\n",
      "Error:  -0.07006098874878752\n"
     ]
    }
   ],
   "source": [
    "Err = 88/21 - MCArea\n",
    "print(\"Area estimada usando MC: \", MCArea)\n",
    "print(\"Area calculada a partir de la integral: \", 88/21)\n",
    "print(\"Error: \",Err)"
   ]
  },
  {
   "cell_type": "markdown",
   "metadata": {},
   "source": [
    "Para 1000000"
   ]
  },
  {
   "cell_type": "code",
   "execution_count": 37,
   "metadata": {},
   "outputs": [
    {
     "name": "stdout",
     "output_type": "stream",
     "text": [
      "Area bajo la curva = 4.191638659924438\n"
     ]
    }
   ],
   "source": [
    "# Metodo de monte carlo para calcular el area bajo la curva de la funcion\n",
    "%matplotlib inline \n",
    "\n",
    "import math\n",
    "import random\n",
    "import numpy as np\n",
    "import matplotlib.pyplot as plt\n",
    "\n",
    "def f(x):\n",
    "    return -4*math.pow(x,6)+5*math.pow(x,2)- x + 1\n",
    "\n",
    "xmin = -1.0\n",
    "xmax = 1.0\n",
    "\n",
    "# Encuentra el ymax\n",
    "numPasos = 1000 \n",
    "ymin = 0\n",
    "ymax = ymin\n",
    "for i in range(numPasos):\n",
    "    x = xmin + (xmax - xmin) * float(i) / numPasos\n",
    "    y = f(x)\n",
    "    if y < ymin: ymin = y\n",
    "    if y > ymax: ymax = y\n",
    "\n",
    "# Monte Carlo\n",
    "rectArea = (xmax - xmin) * (ymax - ymin)\n",
    "numPuntos = 1000000\n",
    "ct = 0\n",
    "\n",
    "Xr=[]\n",
    "Yr=[]\n",
    "Xb=[]\n",
    "Yb=[]\n",
    "\n",
    "for j in range(numPuntos):\n",
    "    x = xmin + (xmax - xmin) * random.random()\n",
    "    y = ymin + (ymax - ymin) * random.random()\n",
    "    ##if f(x) > 0 and y > 0 and y <= f(x):\n",
    "    if x>=-1 and x<=1 and y <= f(x):\n",
    "        ct += 1\n",
    "        Xr.append(x)\n",
    "        Yr.append(y)\n",
    "    else:\n",
    "        Xb.append(x)\n",
    "        Yb.append(y)\n",
    "\n",
    "MCArea = rectArea * float(ct) / numPuntos\n",
    "print(\"Area bajo la curva = \" + str(MCArea))"
   ]
  },
  {
   "cell_type": "code",
   "execution_count": 38,
   "metadata": {},
   "outputs": [
    {
     "name": "stderr",
     "output_type": "stream",
     "text": [
      "/Users/angelcruz-roa/anaconda3/lib/python3.6/site-packages/matplotlib/cbook/__init__.py:1725: UserWarning: Saw kwargs ['lw', 'linewidth'] which are all aliases for 'linewidth'.  Kept value from 'linewidth'\n",
      "  seen=seen, canon=canonical, used=seen[-1]))\n"
     ]
    },
    {
     "data": {
      "image/png": "[encoded data removed]",
      "text/plain": [
       "<Figure size 432x288 with 1 Axes>"
      ]
     },
     "metadata": {
      "needs_background": "light"
     },
     "output_type": "display_data"
    }
   ],
   "source": [
    "# Graficar\n",
    "xx = np.arange(xmin,xmax,(xmax-xmin)/numPasos)\n",
    "yy=[]\n",
    "\n",
    "for xi in xx:\n",
    "    yy.append(f(xi))\n",
    "plt.plot(xx,yy,color=\"black\")\n",
    "plt.plot(Xr, Yr, color=\"red\",linewidth=0, marker='o', lw=1 )\n",
    "plt.plot(Xb, Yb, color=\"blue\",linewidth=0, marker='o', lw=1 )\n",
    "\n",
    "plt.ylim(ymin, ymax)\n",
    "plt.xlim(xmin, xmax)\n",
    "plt.grid(True) \n",
    "plt.show()"
   ]
  },
  {
   "cell_type": "markdown",
   "metadata": {},
   "source": [
    "Solución analítica"
   ]
  },
  {
   "cell_type": "code",
   "execution_count": 39,
   "metadata": {},
   "outputs": [
    {
     "data": {
      "image/png": "[encoded data removed]",
      "text/latex": [
       "$$\\int_{-1}^{1} \\left(- 4 x^{6} + 5 x^{2} - x + 1\\right)\\, dx = \\frac{88}{21}$$"
      ],
      "text/plain": [
       "1                                 \n",
       "⌠                                 \n",
       "⎮  ⎛     6      2        ⎞      88\n",
       "⎮  ⎝- 4⋅x  + 5⋅x  - x + 1⎠ dx = ──\n",
       "⌡                               21\n",
       "-1                                "
      ]
     },
     "execution_count": 39,
     "metadata": {},
     "output_type": "execute_result"
    }
   ],
   "source": [
    "from sympy import *\n",
    "from sympy import init_printing\n",
    "init_printing() \n",
    "\n",
    "x = Symbol('x')\n",
    "\n",
    "aa=Integral((-4*x**6+5*x**2 - x + 1), (x, -1, 1))\n",
    "\n",
    "Eq(aa, aa.doit())"
   ]
  },
  {
   "cell_type": "code",
   "execution_count": 40,
   "metadata": {},
   "outputs": [
    {
     "name": "stdout",
     "output_type": "stream",
     "text": [
      "Area estimada usando MC:  4.191638659924438\n",
      "Area calculada a partir de la integral:  4.190476190476191\n",
      "Error:  -0.001162469448247272\n"
     ]
    }
   ],
   "source": [
    "Err = 88/21 - MCArea\n",
    "print(\"Area estimada usando MC: \", MCArea)\n",
    "print(\"Area calculada a partir de la integral: \", 88/21)\n",
    "print(\"Error: \",Err)"
   ]
  },
  {
   "cell_type": "markdown",
   "metadata": {},
   "source": [
    "## 3.\n",
    "Escriba un programa para generar $n$ valores a partir de la funcion de masa de probabilidad $p_1 = 1/4$ para $x_1$, y $p_2 = 3/4$ para $x_2$ <br>\n",
    "(a) Sea $n = 100$, ejecute el programa y determine la proporcion de valores que sean iguales a 2.<br>\n",
    "(b) Repita (a) con $n = 1000$.<br>\n",
    "(c) Repita (a) con $n = 10000$."
   ]
  },
  {
   "cell_type": "markdown",
   "metadata": {},
   "source": [
    "_Rta:_\n",
    "\n",
    "(a) Sea $n = 100$, ejecute el programa y determine la proporcion de valores que sean iguales a 2."
   ]
  },
  {
   "cell_type": "code",
   "execution_count": 41,
   "metadata": {},
   "outputs": [
    {
     "name": "stdout",
     "output_type": "stream",
     "text": [
      "[0.25 0.75]\n",
      "Proporcion X=2:  0.73\n"
     ]
    }
   ],
   "source": [
    "from datetime import datetime\n",
    "\n",
    "Xo = datetime.now().microsecond\n",
    "\n",
    "X=[1,2]\n",
    "p=[1/4,3/4]\n",
    "\n",
    "X=np.array(X)\n",
    "p=np.array(p)\n",
    "P=p.cumsum()\n",
    "\n",
    "N=100\n",
    "[II,XX,U] = genranN(25214903917,11,(2**48)-1, Xo,N)\n",
    "V=genvardiscret(U,X,P)\n",
    "print(p)\n",
    "print(\"Proporcion X=2: \",V.count(2)/N)"
   ]
  },
  {
   "cell_type": "markdown",
   "metadata": {},
   "source": [
    "(b) Repita (a) con $n = 1000$."
   ]
  },
  {
   "cell_type": "code",
   "execution_count": 42,
   "metadata": {},
   "outputs": [
    {
     "name": "stdout",
     "output_type": "stream",
     "text": [
      "[0.25 0.75]\n",
      "Proporcion X=2:  0.757\n"
     ]
    }
   ],
   "source": [
    "N=1000\n",
    "[II,XX,U] = genranN(25214903917,11,(2**48)-1, Xo,N)\n",
    "V=genvardiscret(U,X,P)\n",
    "print(p)\n",
    "print(\"Proporcion X=2: \",V.count(2)/N)"
   ]
  },
  {
   "cell_type": "markdown",
   "metadata": {},
   "source": [
    "(c) Repita (a) con $n = 10000$."
   ]
  },
  {
   "cell_type": "code",
   "execution_count": 43,
   "metadata": {},
   "outputs": [
    {
     "name": "stdout",
     "output_type": "stream",
     "text": [
      "[0.25 0.75]\n",
      "Proporcion X=2:  0.7537\n"
     ]
    }
   ],
   "source": [
    "N=10000\n",
    "[II,XX,U] = genranN(25214903917,11,(2**48)-1, Xo,N)\n",
    "V=genvardiscret(U,X,P)\n",
    "print(p)\n",
    "print(\"Proporcion X=2: \",V.count(2)/N)"
   ]
  },
  {
   "cell_type": "markdown",
   "metadata": {},
   "source": [
    "## 4. \n",
    "Se tiene un sistema de línea de espera con un servidor y capacidad infinita (Modelo de Colas G/G/1) (Ver [Presentación](https://docs.google.com/presentation/d/17sB_GJVIu0vJYJXovaJNdLuBMENwHMW2L9Sa58P89Uw) ), en el cual tanto los tiempos de llegada entre clientes, así como los tiempos de atención del servidor se comportan como  variables aleatorias generadas de distribuciones de probabilidad exponenciales, en donde en promedio llegan A clientes por minuto al sistema y el servidor atiende en promedio B clientes por minuto. La simulación inicia en el tiempo $t=0$ y se deja de permitir el ingreso de mas clientes en el sistema en el tiempo $T=100$.\n",
    "\n",
    "Para analizar el sistema Ud. debe usar la implementación de acuerdo con el Modelo de Colas G/G/1 visto en clase (diapositivas 42 y 43 [Presentación](https://docs.google.com/presentation/d/17sB_GJVIu0vJYJXovaJNdLuBMENwHMW2L9Sa58P89Uw) ). \n",
    "\n",
    "Para la generación de las variables aleatorias con distribución exponencial debe usar el método de la inversión para variables aleatorias continuas usando generadores congruenciales mixtos. _Ayuda: El método de inversión para variables aleatorias continuas debe usar la función inversa $F^{-1}(p)$ de la distribución de probabilidad acumulada de la distribución exponencial en donde el valor $p$ proviene del generador congruencial mixto_.\n",
    "\n",
    "Para la generación de las variables aleatorias de los tiempos entre las llegadas de clientes (variable aleatoria $X$) debe generar variables aleatorias continuas de una distribución exponencial con $\\lambda = A$ a partir de un generador congruencial _Numerical Recipes_ (i.e. $a = 1664525$, $c = 1013904223$, $m=2^{32}$) y semilla $X_0 = 987654321$.\n",
    "\n",
    "Para la generación de las variables aleatorias de los tiempos de atención del servidor (variable aleatoria $Y$) debe generar variables aleatorias continuas de una distribución exponencial con $\\lambda = B$ a partir de un generador congruencial Turbo Pascal (i.e. $a = 134775813$, $c = 1$, $m=2^{32}$) y semilla $X_0 = 123456789$.\n",
    "\n",
    "Con su implementación para $A=2.5$ y $B=6$ por favor responda lo siguiente:\n",
    "\n",
    "**a)** Tiempo promedio de los clientes en el sistema.\n",
    "\n",
    "**b)** Tiempo promedio de los clientes en la cola.\n",
    "\n",
    "**c)** Tiempo transcurrido desde $T$ hasta que el último cliente abandona el sistema.\n",
    "\n",
    "**d)** Número máximo de clientes en el sistema durante la simulación.\n",
    "\n",
    "**e)** Total de clientes que pasaron por el sistema\n",
    "\n",
    "**f)** Grafique el número de clientes en el sistema (eje Y) con respecto al tiempo (eje X)."
   ]
  },
  {
   "cell_type": "code",
   "execution_count": 44,
   "metadata": {},
   "outputs": [],
   "source": [
    "%matplotlib inline \n",
    "\n",
    "import numpy as np\n",
    "import math\n",
    "import matplotlib.pyplot as plt\n",
    "\n",
    "Xant1 = 987654321\n",
    "Xant2 = 123456789\n",
    "\n",
    "M = 99999.0\n",
    "T = 100.0\n",
    "at = []\n",
    "an = []\n",
    "LLt = []\n",
    "St = []\n",
    "\n",
    "def gencongru1(): # Numerical Recipes\n",
    "    global Xant1\n",
    "    a = 1664525\n",
    "    c = 1013904223\n",
    "    m = 2**32\n",
    "    Xnext = (a * Xant1 + c) % m\n",
    "    Xant1 = Xnext\n",
    "    U = Xnext / m\n",
    "    return U\n",
    "\n",
    "def gencongru2(): # Turbo pascal\n",
    "    global Xant2\n",
    "    a = 134775813\n",
    "    c = 1\n",
    "    m = 2**32\n",
    "    Xnext = (a * Xant2 + c) % m\n",
    "    Xant2 = Xnext\n",
    "    U = Xnext / m\n",
    "    return U\n",
    "\n",
    "def GenerarX():\n",
    "    vlambda = 2.5\n",
    "    U = gencongru1()\n",
    "    X = -(math.log(1-U))/float(vlambda)\n",
    "    return X\n",
    "\n",
    "def GenerarY():\n",
    "    vlambda = 6\n",
    "    U = gencongru2()\n",
    "    Y = -(math.log(1-U))/float(vlambda)\n",
    "    return Y\n",
    "\n",
    "def Llegada(tsuc):\n",
    "    global n, NLL, NS, t, S, Serv, LL, at, an\n",
    "    t=tsuc\n",
    "    n = n + 1\n",
    "    LLt.append(t)\n",
    "    at.append(t)\n",
    "    an.append(n)\n",
    "    \n",
    "    NLL = NLL + 1\n",
    "    LL.append(t)\n",
    "    \n",
    "    X = GenerarX()\n",
    "    \n",
    "    if (t+X) < T:\n",
    "        TSuc['tLL'] = t + X\n",
    "    if n==1:\n",
    "        Y = GenerarY()\n",
    "        TSuc['tS'] = t + Y\n",
    "        #Serv[NS]=Y \n",
    "        Serv.append(Y)\n",
    "        \n",
    "def Servidor(tsuc):\n",
    "    global n, NLL, NS, t, S, Serv, LL, at, an\n",
    "    t = tsuc\n",
    "    n = n - 1\n",
    "    \n",
    "    St.append(t)\n",
    "    at.append(t)\n",
    "    an.append(n)\n",
    "    \n",
    "    NS = NS + 1\n",
    "    S.append(t)\n",
    "\n",
    "    if n>0:\n",
    "        Y = GenerarY()\n",
    "        TSuc['tS'] = t + Y\n",
    "        Serv.append(Y) \n",
    "    \n",
    "t = tsuc = NLL = NS = n = 0\n",
    "\n",
    "at.append(t)\n",
    "an.append(n)\n",
    "\n",
    "TSuc = {\"tLL\":M, \"tS\":M}\n",
    "\n",
    "LL = []\n",
    "S = []\n",
    "Serv = []\n",
    "LL.append(0.0)\n",
    "S.append(0.0)\n",
    "Serv.append(0.0)\n",
    "\n",
    "X = GenerarX()\n",
    "\n",
    "if X > T:\n",
    "    Tp = t_med_sistema = t_med_cola = 0.0\n",
    "    exit\n",
    "else:\n",
    "    Llegada(X)\n",
    "    while((TSuc['tLL'] != M)|(TSuc['tS']!=M)):\n",
    "        if TSuc['tLL'] < TSuc['tS']:\n",
    "            tsuc = TSuc['tLL']\n",
    "            TSuc['tLL'] = M\n",
    "            Llegada(tsuc)\n",
    "            \n",
    "        if TSuc['tS'] < TSuc['tLL']:\n",
    "            tsuc = TSuc['tS']\n",
    "            TSuc['tS'] = M\n",
    "            Servidor(tsuc)\n",
    "\n",
    "    Tp = max(0,t-T)\n",
    "    acumulo1 = acumulo2 = 0.0\n",
    "    ind = 0\n",
    "    \n",
    "    while ind < NLL:\n",
    "        acumulo1 = acumulo1 + S[ind] - LL[ind]\n",
    "        acumulo2 = acumulo2 + S[ind] - LL[ind] - Serv[ind]\n",
    "        ind = ind + 1\n",
    "    t_med_sistema = acumulo1/NLL\n",
    "    t_med_cola = acumulo2/NLL\n",
    "\n",
    "    exit"
   ]
  },
  {
   "cell_type": "code",
   "execution_count": 45,
   "metadata": {},
   "outputs": [
    {
     "data": {
      "image/png": "[encoded data removed]",
      "text/plain": [
       "<Figure size 432x288 with 1 Axes>"
      ]
     },
     "metadata": {
      "needs_background": "light"
     },
     "output_type": "display_data"
    },
    {
     "data": {
      "image/png": "[encoded data removed]",
      "text/plain": [
       "<Figure size 432x288 with 1 Axes>"
      ]
     },
     "metadata": {
      "needs_background": "light"
     },
     "output_type": "display_data"
    },
    {
     "name": "stdout",
     "output_type": "stream",
     "text": [
      "a) Tiempo medio de los clientes en el sistema:  0.2771168379090636\n",
      "b) Tiempo medio de los clientes en la cola:  0.11570534296027796\n",
      "c) Tiempo transcurrido desde T hasta que el último cliente abandona el sistema:  0.13352369769026495\n",
      "d) Número máximo de clientes en el sistema:  7\n",
      "e) Total de clientes que pasaron por el sistema:  252\n",
      "f) Grafique el número de clientes en el sistema (eje Y) con respecto al tiempo (eje X).\n"
     ]
    },
    {
     "data": {
      "image/png": "[encoded data removed]",
      "text/plain": [
       "<Figure size 432x288 with 1 Axes>"
      ]
     },
     "metadata": {
      "needs_background": "light"
     },
     "output_type": "display_data"
    }
   ],
   "source": [
    "at = np.array(at)\n",
    "an = np.array(an)\n",
    "\n",
    "LLt = np.array(LLt)\n",
    "St = np.array(St)\n",
    "\n",
    "tmp = np.zeros((len(LLt)))+1\n",
    "\n",
    "plt.plot(LLt, tmp, 'r.')\n",
    "plt.xlim(0, max(at))\n",
    "plt.show()\n",
    "\n",
    "tmp = np.zeros((len(St)))+1\n",
    "\n",
    "plt.plot(St, tmp, 'b.')\n",
    "plt.xlim(0, max(at))\n",
    "plt.show()\n",
    "\n",
    "\n",
    "print(\"a) Tiempo medio de los clientes en el sistema: \",t_med_sistema)\n",
    "print(\"b) Tiempo medio de los clientes en la cola: \",t_med_cola)\n",
    "print(\"c) Tiempo transcurrido desde T hasta que el último cliente abandona el sistema: \",Tp)\n",
    "print(\"d) Número máximo de clientes en el sistema: \",max(an))\n",
    "print(\"e) Total de clientes que pasaron por el sistema: \",NLL)\n",
    "print(\"f) Grafique el número de clientes en el sistema (eje Y) con respecto al tiempo (eje X).\")\n",
    "\n",
    "plt.plot(at,an)\n",
    "plt.xlabel('tiempo (t)')\n",
    "plt.ylabel('numero de clientes en el sistema (n)')\n",
    "plt.show()\n"
   ]
  },
  {
   "cell_type": "markdown",
   "metadata": {},
   "source": [
    "## 5.\n",
    "Use su implementación del juego de la vida de Conway en NetLogo inicializando una reticula de 11 filas y 11 columnas con el siguiente patrón:\n",
    "\n",
    "<img src=\"conway0.png\" height=\"200\" width=\"200\">"
   ]
  },
  {
   "cell_type": "markdown",
   "metadata": {},
   "source": [
    "**a)** Copie el código utilizado en NetLogo del juego de la vida de Conway."
   ]
  },
  {
   "cell_type": "code",
   "execution_count": null,
   "metadata": {},
   "outputs": [],
   "source": [
    "patches-own [\n",
    "  living?         ;; indicates if the cell is living\n",
    "  live-neighbors  ;; counts how many neighboring cells are alive\n",
    "]\n",
    "\n",
    "to setup-blank\n",
    "  clear-all\n",
    "  ask patches [ cell-death ]\n",
    "  reset-ticks\n",
    "end\n",
    "\n",
    "to setup-random\n",
    "  clear-all\n",
    "  ;; ask patches\n",
    "  ;;   [ ifelse random-float 100.0 < initial-density\n",
    "  ;;     [ cell-birth ]\n",
    "  ;;     [ cell-death ] ]\n",
    "  ask patches [set pcolor white set living? false]\n",
    "  ask patch 0 5 [set pcolor black set living? true]\n",
    "  ask patch 1 4 [set pcolor black set living? true]\n",
    "  ask patch -3 4 [set pcolor black set living? true]\n",
    "  ask patch -1 2 [set pcolor black set living? true]\n",
    "  ask patch 1 2 [set pcolor black set living? true]\n",
    "  ask patch 5 2 [set pcolor black set living? true]\n",
    "  ask patch -5 0 [set pcolor black set living? true]\n",
    "  ask patch 0 0 [set pcolor black set living? true]\n",
    "  ask patch 2 -1 [set pcolor black set living? true]\n",
    "  ask patch 4 -1 [set pcolor black set living? true]\n",
    "  ask patch 2 -2 [set pcolor black set living? true]\n",
    "  ask patch 2 -3 [set pcolor black set living? true]\n",
    "  ask patch -1 -2 [set pcolor black set living? true]\n",
    "  ask patch -3 -2 [set pcolor black set living? true]\n",
    "  ask patch -2 -3 [set pcolor black set living? true]\n",
    "  ask patch 0 -5 [set pcolor black set living? true]\n",
    "  reset-ticks\n",
    "end\n",
    "\n",
    "to cell-birth\n",
    "  set living? true\n",
    "  set pcolor fgcolor\n",
    "end\n",
    "\n",
    "to cell-death\n",
    "  set living? false\n",
    "  set pcolor bgcolor\n",
    "end\n",
    "\n",
    "to go\n",
    "  ask patches\n",
    "    [ set live-neighbors count neighbors with [living?] ]\n",
    "  ;; Starting a new \"ask patches\" here ensures that all the patches\n",
    "  ;; finish executing the first ask before any of them start executing\n",
    "  ;; the second ask.  This keeps all the patches in synch with each other,\n",
    "  ;; so the births and deaths at each generation all happen in lockstep.\n",
    "  ask patches\n",
    "    [ ifelse live-neighbors = 3\n",
    "      [ cell-birth ]\n",
    "      [ if live-neighbors != 2\n",
    "        [ cell-death ] ] ]\n",
    "  tick\n",
    "end\n",
    "\n",
    "to draw-cells\n",
    "  let erasing? [living?] of patch mouse-xcor mouse-ycor\n",
    "  while [mouse-down?]\n",
    "    [ ask patch mouse-xcor mouse-ycor\n",
    "      [ ifelse erasing?\n",
    "        [ cell-death ]\n",
    "        [ cell-birth ] ]\n",
    "      display ]\n",
    "end"
   ]
  },
  {
   "cell_type": "markdown",
   "metadata": {},
   "source": [
    "**b)** Ilustre el patrón de la reticula en cada iteración hasta la numero 3.\n",
    "\n",
    "**Iteración 1**\n",
    "<img src=\"conway1.png\" height=\"200\" width=\"200\">\n",
    "\n",
    "**Iteración 2**\n",
    "<img src=\"conway2.png\" height=\"200\" width=\"200\">\n",
    "\n",
    "**Iteración 3**\n",
    "<img src=\"conway3.png\" height=\"200\" width=\"200\">"
   ]
  },
  {
   "cell_type": "code",
   "execution_count": null,
   "metadata": {},
   "outputs": [],
   "source": []
  }
 ],
 "metadata": {
  "kernelspec": {
   "display_name": "Python 3",
   "language": "python",
   "name": "python3"
  },
  "language_info": {
   "codemirror_mode": {
    "name": "ipython",
    "version": 3
   },
   "file_extension": ".py",
   "mimetype": "text/x-python",
   "name": "python",
   "nbconvert_exporter": "python",
   "pygments_lexer": "ipython3",
   "version": "3.6.8"
  }
 },
 "nbformat": 4,
 "nbformat_minor": 2
}
