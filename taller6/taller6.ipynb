{
  "cells": [
    {
      "cell_type": "code",
      "execution_count": 4,
      "outputs": [],
      "source": "import math\nimport time\n",
      "metadata": {
        "pycharm": {
          "metadata": false,
          "name": "#%%\n",
          "is_executing": false
        }
      }
    },
    {
      "cell_type": "code",
      "execution_count": 5,
      "outputs": [],
      "source": "Xn \u003d time.time()\nXn_2 \u003d time.time()*1000\nu_1 \u003d 15\nu_2 \u003d 30\nu_31 \u003d 25\nu_32 \u003d 10\no_1 \u003d o_2 \u003d o_31 \u003d o_32 \u003d 5\n        \ndef cong_mixto():\n    global Xn\n    a \u003d 25214903917\n    m \u003d 2**48 - 1\n    Xn \u003d (a*Xn + 1) % m\n    return Xn/m",
      "metadata": {
        "pycharm": {
          "metadata": false,
          "name": "#%%\n",
          "is_executing": false
        }
      }
    },
    {
      "cell_type": "code",
      "execution_count": 6,
      "outputs": [],
      "source": "def exponencial(media):\n    U \u003d cong_mixto()\n    X \u003d (math.log(U)/media)*-1\n    return X\n\ndef normal_gen_scheimen(u, o):\n    R \u003d cong_mixto()\n    Z \u003d (R**0.135 - (1-R)**0.135)/0.1975\n    X \u003d u + Z*o\n    if X \u003c 0:\n        X \u003d 0\n    return X\n\ndef uniforme(a, b):\n    U \u003d cong_mixto()\n    X \u003d (a + (b-a)*U)\n    return X\n",
      "metadata": {
        "pycharm": {
          "metadata": false,
          "name": "#%%\n",
          "is_executing": false
        }
      }
    },
    {
      "cell_type": "code",
      "execution_count": 7,
      "outputs": [],
      "source": "def servicio_nodo_1(t_suceso):\n    global t, T_LL1, T_S1, T_S2, T_S3, NS_1, NS_2, NS_3, N_LL1, N_LL2, N_LL3, n_1, n_2, n_3, n_med_n1, n_med_n2, n_med_n3, U, S, W, Z, l, LL_1, LL_2, LL_3, S_1, S_2, S_3\n    n_med_n1 \u003d n_med_n1 + n_1*(t_suceso - t)\n    n_1 \u003d n_1 - 1\n    NS_1 \u003d NS_1 + 1\n    S_1.append(t_suceso)\n    \n    #Genero una uniforme para determinar a qué nodo me dirijo\n    U \u003d uniforme(0, 1)\n    if U \u003c 0.4:\n        n_med_n2 \u003d n_med_n2 + n_2*(t_suceso - t)\n        n_2 \u003d n_2 + 1\n        N_LL2 \u003d N_LL2 + 1\n        LL_2.append(t_suceso)\n        if n_2 \u003d\u003d 1:\n            Z \u003d exponencial(u_2)\n            T_S2 \u003d t_suceso + Z\n    else:\n        n_med_n3 \u003d n_med_n3 + n_3*(t_suceso - t)\n        n_3 \u003d n_3 + 1\n        N_LL3 \u003d N_LL3 + 1\n        LL_3.append(t_suceso)\n        if n_3 \u003d\u003d 1:\n            W \u003d normal_gen_scheimen(u_31, o_31)\n            T_S3 \u003d t_suceso + W\n    \n    t \u003d t_suceso\n    if n_1 \u003e 0:\n        S \u003d normal_gen_scheimen(u_1, o_1)\n        T_S1 \u003d t + S\n",
      "metadata": {
        "pycharm": {
          "metadata": false,
          "name": "#%%\n",
          "is_executing": false
        }
      }
    },
    {
      "cell_type": "code",
      "execution_count": 8,
      "outputs": [],
      "source": "def servicio_nodo_2(t_suceso):\n    global t, T_S2, T_S3, NS_2, N_LL3, n_2, n_med_n2, n_3, n_med_n3, W, Y, u_2, u_31, o_31, LL_3, S_2\n    n_med_n2 \u003d n_med_n2 + n_2*(t_suceso - t)\n    n_2 \u003d n_2 - 1\n    NS_2 \u003d NS_2 + 1\n    S_2.append(t_suceso)\n    if n_2 \u003e 0:\n        Y \u003d exponencial(u_2)\n        T_S2 \u003d t_suceso + Y\n    \n    n_med_n3 \u003d n_med_n3 + n_3*(t_suceso - t)\n    n_3 \u003d n_3 + 1\n    N_LL3 \u003d N_LL3 + 1\n    LL_3.append(t_suceso)\n    if n_3 \u003d\u003d 1:\n        W \u003d normal_gen_scheimen(u_31, o_31)\n        T_S3 \u003d t_suceso + W\n    \n    t \u003d t_suceso\n    ",
      "metadata": {
        "pycharm": {
          "metadata": false,
          "name": "#%%\n",
          "is_executing": false
        }
      }
    },
    {
      "cell_type": "code",
      "execution_count": 9,
      "outputs": [],
      "source": "def servicio_nodo_3(t_suceso):\n    global t, n_3, n_med_n3, NS_3, T_S3, S_3, R, u_31, u_32, o_31, o_32\n    n_med_n3 \u003d n_med_n3 + n_3*(t_suceso - t)\n    n_3 \u003d n_3 - 1\n    NS_3 \u003d NS_3 + 1\n    S_3.append(t_suceso)\n    if n_3 \u003e 0:\n        if n_3 \u003c 5:\n            R \u003d normal_gen_scheimen(u_31, o_31)\n        else:\n            R \u003d normal_gen_scheimen(u_32, o_32)\n        T_S3 \u003d t_suceso + R\n    \n    t \u003d t_suceso\n",
      "metadata": {
        "pycharm": {
          "metadata": false,
          "name": "#%%\n",
          "is_executing": false
        }
      }
    },
    {
      "cell_type": "code",
      "execution_count": 10,
      "outputs": [],
      "source": "def llegada_cliente(t_suceso):\n    global t, T, T_LL1, T_S1, NS_1, N_LL1, n_1, n_med_n1, Y, l, u_1, o_1, LL_1\n    n_med_n1 \u003d n_med_n1 + n_1*(t_suceso - t)\n    n_1 \u003d n_1 + 1\n    N_LL1 \u003d N_LL1 + 1\n    LL_1.append(t_suceso)\n    t \u003d t_suceso\n    \n    Y \u003d exponencial(l)\n    if t+Y \u003c T:\n        T_LL1 \u003d t + Y\n    if n_1 \u003d\u003d 1:\n        Y \u003d normal_gen_scheimen(u_1, o_1)\n        T_S1 \u003d t + Y\n        \n\n",
      "metadata": {
        "pycharm": {
          "metadata": false,
          "name": "#%%\n",
          "is_executing": false
        }
      }
    },
    {
      "cell_type": "code",
      "execution_count": 12,
      "outputs": [
        {
          "name": "stdout",
          "text": [
            "Clientes atendidos: 599496\nAtendidos en servidor\n1 \u003d 249687\n2 \u003d 100122\n3 \u003d 249687\nTiempo medio en el sistema: 60.93693780286422\n"
          ],
          "output_type": "stream"
        }
      ],
      "source": "\nT \u003d 1e7\n\nt \u003d t_suc \u003d Tp \u003d 0\nT_LL1 \u003d T_S1 \u003d T_S2 \u003d T_S3 \u003d math.inf\nN_LL1 \u003d N_LL2 \u003d N_LL3 \u003d NS_1 \u003d NS_2 \u003d NS_3 \u003d n_1 \u003d n_2 \u003d n_3 \u003d 0\nLL_1 \u003d []\nLL_2 \u003d []\nLL_3 \u003d []\nS_1 \u003d []\nS_2 \u003d []\nS_3 \u003d []\nn_med_n1 \u003d n_med_n2 \u003d n_med_n3 \u003d 0\nl \u003d 1/40\n\nX \u003d exponencial(l)\nif X \u003e T:\n    Tp \u003d t_medio_sistema \u003d 0\n    n_med_n1 \u003d n_med_n2 \u003d n_med_n3 \u003d 0\n    exit(0)\nelse:\n    llegada_cliente(X)\n    while T_LL1 !\u003d math.inf or T_S1 !\u003d math.inf or T_S2 !\u003d math.inf or T_S3 !\u003d math.inf :\n        if min(T_LL1, T_S1, T_S2, T_S3) \u003d\u003d T_LL1:\n            t_suc \u003d T_LL1\n            T_LL1 \u003d math.inf\n            llegada_cliente(t_suc)\n        if min(T_LL1, T_S1, T_S2, T_S3) \u003d\u003d T_S1:\n            t_suc \u003d T_S1\n            T_S1 \u003d math.inf\n            servicio_nodo_1(t_suc)\n        if min(T_LL1, T_S1, T_S2, T_S3) \u003d\u003d T_S2:\n            t_suc \u003d T_S2\n            T_S2 \u003d math.inf\n            servicio_nodo_2(t_suc)\n        if min(T_LL1, T_S1, T_S2, T_S3) \u003d\u003d T_S3:\n            t_suc \u003d T_S3\n            T_S3 \u003d math.inf\n            servicio_nodo_3(t_suc)\n        \nTp \u003d max(0, t-T)\ncum1 \u003d cum2 \u003d cum3 \u003d 0\n\nind \u003d 0\nwhile(ind \u003c N_LL1):\n    cum1 \u003d cum1 + S_1[ind] - LL_1[ind]\n    ind \u003d ind + 1\n\nind \u003d 0\nwhile ind \u003c N_LL2 :\n    cum2 \u003d cum2 + S_2[ind] - LL_2[ind]\n    ind \u003d ind + 1\n    \nind \u003d 0\nwhile ind \u003c N_LL3 :\n    cum3 \u003d cum3 + S_3[ind] - LL_3[ind]\n    ind \u003d ind + 1\n\nt_medio_sistema \u003d (cum1/N_LL1) + (0.4*(cum2/N_LL2)) + (cum3/N_LL3)\nn_med_n1 \u003d n_med_n1 / t\nn_med_n2 \u003d n_med_n2 / t\nn_med_n3 \u003d n_med_n3 / t\nprint(\"Clientes atendidos:\", (NS_1 + NS_2 +NS_3))\nprint(\"Atendidos en servidor\\n1 \u003d {}\\n2 \u003d {}\\n3 \u003d {}\".format(NS_1, NS_2, NS_3))\nprint(\"Tiempo medio en el sistema:\", t_medio_sistema)\n",
      "metadata": {
        "pycharm": {
          "metadata": false,
          "name": "#%%\n",
          "is_executing": false
        }
      }
    }
  ],
  "metadata": {
    "language_info": {
      "codemirror_mode": {
        "name": "ipython",
        "version": 2
      },
      "file_extension": ".py",
      "mimetype": "text/x-python",
      "name": "python",
      "nbconvert_exporter": "python",
      "pygments_lexer": "ipython2",
      "version": "2.7.6"
    },
    "kernelspec": {
      "name": "python3",
      "language": "python",
      "display_name": "Python 3"
    },
    "stem_cell": {
      "cell_type": "raw",
      "source": "",
      "metadata": {
        "pycharm": {
          "metadata": false
        }
      }
    }
  },
  "nbformat": 4,
  "nbformat_minor": 0
}