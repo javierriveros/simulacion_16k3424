{
  "cells": [
    {
      "cell_type": "markdown",
      "metadata": {
        "collapsed": true,
        "pycharm": {
          "name": "#%% md\n"
        }
      },
      "source": [
        "# TALLER 3\n",
        "### Funciones necesarias"
      ]
    },
    {
      "cell_type": "code",
      "execution_count": null,
      "outputs": [],
      "source": [
        "from random import random\n",
        "from sympy import *\n",
        "import numpy as np\n",
        "\n",
        "\n",
        "def evaluate_form(expression,x):\n",
        "    j \u003d symbols(\"x\")\n",
        "    return (sympify(expression).subs(j,x).subs(\"e\",np.exp(1)))"
      ],
      "metadata": {
        "collapsed": false,
        "pycharm": {
          "name": "#%%\n",
          "is_executing": true
        }
      }
    },
    {
      "cell_type": "markdown",
      "source": [
        "### Montecarlo (a,b)"
      ],
      "metadata": {
        "collapsed": false,
        "pycharm": {}
      }
    },
    {
      "cell_type": "code",
      "execution_count": 24,
      "outputs": [
        {
          "name": "stdout",
          "text": [
            "Valor de la integral de 0,10 de e^-(x^2) \u003d 0.864038613764449\n"
          ],
          "output_type": "stream"
        }
      ],
      "source": [
        "def montecarlo(expression, a ,b ,n):\n",
        "    suma \u003d 0.0\n",
        "    for i in range(n):\n",
        "        u \u003d random()\n",
        "        x \u003d a + (b - a) * u\n",
        "        suma +\u003d (b-a) * evaluate_form(expression, x)\n",
        "    return suma/n\n",
        "print(\"Valor de la integral de 0,10 de e^-(x^2) \u003d {}\".format(montecarlo(\"e^-(x^2)\", 0, 100, 10000)) )"
      ],
      "metadata": {
        "collapsed": false,
        "pycharm": {
          "name": "#%%\n",
          "is_executing": false
        }
      }
    },
    {
      "cell_type": "markdown",
      "source": [
        "### Montecarlo (0,∞)"
      ],
      "metadata": {
        "collapsed": false,
        "pycharm": {}
      }
    },
    {
      "cell_type": "code",
      "execution_count": 25,
      "outputs": [
        {
          "name": "stdout",
          "text": [
            "Valor de la integral de 0,∞ de e^-(x^2) \u003d 0.880948068818237\n"
          ],
          "output_type": "stream"
        }
      ],
      "source": [
        "def montecarlo_inf(expression, n):\n",
        "    suma \u003d 0\n",
        "    for i in range(n):\n",
        "        u \u003d random()\n",
        "        x \u003d 1 / u - 1\n",
        "        suma +\u003d (1 / u ** 2) * evaluate_form(expression, x)\n",
        "    return suma / n\n",
        "print(\"Valor de la integral de 0,∞ de e^-(x^2) \u003d {}\".format(montecarlo_inf(\"e^-(x^2)\",10000)))"
      ],
      "metadata": {
        "collapsed": false,
        "pycharm": {
          "name": "#%%\n",
          "is_executing": false
        }
      }
    },
    {
      "cell_type": "markdown",
      "source": [
        "### Estimación PI"
      ],
      "metadata": {
        "collapsed": false,
        "pycharm": {}
      }
    },
    {
      "cell_type": "code",
      "execution_count": 19,
      "outputs": [
        {
          "name": "stdout",
          "text": [
            "Valor aproximado de pi \u003d 3.157478580274032\n"
          ],
          "output_type": "stream"
        }
      ],
      "source": "def estimacion_pi(n):\n    suma \u003d 0\n    for i in range(n):\n        x \u003d 2 * random() - 1\n        y \u003d 2 * random() - 1\n        if x ** 2 + y ** 2 \u003c\u003d 1:\n            suma +\u003d x ** 2 + y ** 2\n    return 2 * suma / n\n\nintec \u003d montecarlo(\"e^(sin(x))\", 0, 1, 100)\nreal \u003d 1,631869688\n\nprint(\"Valor aproximado de pi \u003d {}\".format(4* estimacion_pi(10000)))",
      "metadata": {
        "collapsed": false,
        "pycharm": {
          "name": "#%%\n",
          "is_executing": false
        }
      }
    }
  ],
  "metadata": {
    "language_info": {
      "codemirror_mode": {
        "name": "ipython",
        "version": 2
      },
      "file_extension": ".py",
      "mimetype": "text/x-python",
      "name": "python",
      "nbconvert_exporter": "python",
      "pygments_lexer": "ipython2",
      "version": "2.7.6"
    },
    "kernelspec": {
      "name": "python3",
      "language": "python",
      "display_name": "Python 3"
    },
    "pycharm": {
      "stem_cell": {
        "cell_type": "raw",
        "source": [],
        "metadata": {
          "collapsed": false
        }
      }
    }
  },
  "nbformat": 4,
  "nbformat_minor": 0
}