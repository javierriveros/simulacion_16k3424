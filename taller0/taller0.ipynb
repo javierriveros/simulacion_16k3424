{
  "cells": [
    {
      "cell_type": "markdown",
      "source": "## Taller 0",
      "metadata": {
        "pycharm": {
          "metadata": false
        }
      }
    },
    {
      "cell_type": "markdown",
      "source": "### Metodo Montecarlo",
      "metadata": {
        "pycharm": {
          "metadata": false,
          "name": "#%% md\n"
        }
      }
    },
    {
      "cell_type": "code",
      "execution_count": 4,
      "outputs": [
        {
          "name": "stdout",
          "text": [
            "El valor por montecarlo es \u003d 0.8929334243009954\n"
          ],
          "output_type": "stream"
        }
      ],
      "source": "from random import uniform\nimport numpy as np\n\n\ndef metodoMontecarlo(n):\n    suma \u003d 0\n    for i in range(n):\n        random \u003d uniform(0,1)\n        x \u003d 2 * random\n        y \u003d 2 * np.exp(-(x*x))\n        suma +\u003d y\n    return suma/n\nn \u003d int(input(\"Digita valor de n\u003d \"))\nmontecarlo \u003d metodoMontecarlo(n)\nprint(\"El valor por montecarlo es \u003d {}\".format(montecarlo))",
      "metadata": {
        "pycharm": {
          "metadata": false,
          "name": "#%%\n",
          "is_executing": false
        }
      }
    },
    {
      "cell_type": "markdown",
      "source": "### Metodo Trapecio",
      "metadata": {
        "pycharm": {
          "metadata": false,
          "name": "#%% md\n"
        }
      }
    },
    {
      "cell_type": "code",
      "execution_count": 6,
      "outputs": [
        {
          "name": "stdout",
          "text": [
            "El valor por el metodo de trapecio es\u003d 0.8797520661078069\n"
          ],
          "output_type": "stream"
        }
      ],
      "source": "def metodoTrapecio(paso):\n    x1 \u003d 0\n    x2 \u003d paso\n    suma \u003d 0\n    while (x2 \u003c\u003d 2):\n        fx2 \u003d np.exp(-x2*x2)\n        tria \u003d (np.exp(-x1*x1) - fx2) * paso/2\n        suma +\u003d tria+fx2 * paso\n        x1 \u003d x2\n        x2 +\u003d paso\n    return suma\npaso \u003d float(input(\"Digita el valor del paso\u003d \"))\ntrapecio \u003d metodoTrapecio(paso)\nprint(\"El valor por el metodo de trapecio es\u003d {}\".format(trapecio))",
      "metadata": {
        "pycharm": {
          "metadata": false,
          "name": "#%%\n",
          "is_executing": false
        }
      }
    },
    {
      "cell_type": "markdown",
      "source": "### Comparacion de los metodos montecarlo y trapecio",
      "metadata": {
        "pycharm": {
          "metadata": false,
          "name": "#%% md\n"
        }
      }
    },
    {
      "cell_type": "code",
      "execution_count": 7,
      "outputs": [
        {
          "name": "stdout",
          "text": [
            "Montecarlo: 0.8929334243009954 \n- Trapecio: 0.8797520661078069\n\u003d\u003d\u003d\u003d\u003d\u003d\u003d\u003d\u003d\u003d  0.013181358193188553\n"
          ],
          "output_type": "stream"
        }
      ],
      "source": "def compara(montecarlo, trapecio):\n    return montecarlo-trapecio\nprint(\"Montecarlo: {} \\n- Trapecio: {}\\n\u003d\u003d\u003d\u003d\u003d\u003d\u003d\u003d\u003d\u003d  {}\".format(montecarlo, trapecio, compara(montecarlo, trapecio)))\n",
      "metadata": {
        "pycharm": {
          "metadata": false,
          "name": "#%%\n",
          "is_executing": false
        }
      }
    }
  ],
  "metadata": {
    "language_info": {
      "codemirror_mode": {
        "name": "ipython",
        "version": 2
      },
      "file_extension": ".py",
      "mimetype": "text/x-python",
      "name": "python",
      "nbconvert_exporter": "python",
      "pygments_lexer": "ipython2",
      "version": "2.7.6"
    },
    "kernelspec": {
      "name": "python3",
      "language": "python",
      "display_name": "Python 3"
    },
    "stem_cell": {
      "cell_type": "raw",
      "source": "",
      "metadata": {
        "pycharm": {
          "metadata": false
        }
      }
    }
  },
  "nbformat": 4,
  "nbformat_minor": 0
}