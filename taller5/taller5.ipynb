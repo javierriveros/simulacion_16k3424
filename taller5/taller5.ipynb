{
  "cells": [
    {
      "cell_type": "markdown",
      "source": "# TALLER 5\n### Variables necesarias",
      "metadata": {
        "pycharm": {
          "metadata": false,
          "name": "#%% md\n"
        }
      }
    },
    {
      "cell_type": "code",
      "execution_count": 2,
      "outputs": [],
      "source": "import math\nimport random\n\nT \u003d int(1e2)\nt \u003d t_suc \u003d N_LL \u003d N_S \u003d n \u003d 0\nT_LL \u003d T_S \u003d math.inf\n\nLL \u003d []\nS \u003d []\nServ \u003d []\nVA \u003d []\n\nX \u003d 0\nY \u003d 0\nA \u003d 3\nB \u003d 3\n\ndef exponencial(media):\n    U \u003d random.random()\n    X \u003d (math.log(U)/media)*-1\n    return X",
      "metadata": {
        "pycharm": {
          "metadata": false,
          "name": "#%%\n",
          "is_executing": false
        }
      }
    },
    {
      "cell_type": "markdown",
      "source": "### Función llegada",
      "metadata": {
        "pycharm": {
          "metadata": false
        }
      }
    },
    {
      "cell_type": "code",
      "execution_count": 3,
      "outputs": [],
      "source": "def llegada(t_suc):\n    global t, n, N_LL, LL, X, Y, Serv, T_S, T_LL, VA, A, B, T\n    t \u003d t_suc\n    n +\u003d 1\n    N_LL +\u003d 1\n    LL.append(t)\n    X \u003d exponencial(1/A)\n    VA.append(X)\n    if (t + X) \u003c T:\n        T_LL \u003d t + X\n    if n \u003d\u003d 1:\n        Y \u003d exponencial(1/B)\n        T_S \u003d t + Y\n        Serv.append(Y)",
      "metadata": {
        "pycharm": {
          "metadata": false,
          "name": "#%%\n",
          "is_executing": false
        }
      }
    },
    {
      "cell_type": "markdown",
      "source": "### Función servidor",
      "metadata": {
        "pycharm": {
          "metadata": false
        }
      }
    },
    {
      "cell_type": "code",
      "execution_count": 4,
      "outputs": [],
      "source": "def servidor(t_suc):\n    global t, n, S, N_S, Serv, X, Y, T_S, A, B\n    t \u003d t_suc\n    n -\u003d 1\n    N_S \u003d N_S + 1\n    S.append(t)\n    if n \u003e 0:\n        Y \u003d exponencial(1/B)\n        T_S \u003d t + Y\n        Serv.append(Y)",
      "metadata": {
        "pycharm": {
          "metadata": false,
          "name": "#%%\n",
          "is_executing": false
        }
      }
    },
    {
      "cell_type": "markdown",
      "source": "### Cola G/G/1",
      "metadata": {
        "pycharm": {
          "metadata": false
        }
      }
    },
    {
      "cell_type": "code",
      "execution_count": 5,
      "outputs": [],
      "source": "X \u003d exponencial(1/A)\n\nif(X \u003e T):\n    T_p \u003d t_med_sistema \u003d t_med_cola \u003d 0\n    exit(0)\nelse:\n    llegada(X)\n    while(T_LL !\u003d math.inf or T_S !\u003d math.inf):\n        if(T_LL \u003c T_S):\n            t_suc \u003d T_LL\n            T_LL \u003d math.inf\n            llegada(t_suc)\n        if(T_S \u003c T_LL):\n            t_suc \u003d T_S\n            T_S \u003d math.inf\n            servidor(t_suc)\n\nT_p \u003d max(0, t - T)\ncum_1 \u003d cum_2 \u003d 0\nind \u003d 0\n\nwhile ind \u003c N_LL:\n    cum_1 +\u003d S[ind] - LL[ind]\n    cum_2 +\u003d S[ind] - LL[ind] - Serv[ind]\n    ind +\u003d 1\n\nt_med_sistema \u003d cum_1 / N_LL\nt_med_cola \u003d cum_2 / N_LL",
      "metadata": {
        "pycharm": {
          "metadata": false,
          "name": "#%%\n",
          "is_executing": false
        }
      }
    },
    {
      "cell_type": "markdown",
      "source": "### Tiempos",
      "metadata": {
        "pycharm": {
          "metadata": false
        }
      }
    },
    {
      "cell_type": "code",
      "execution_count": 6,
      "outputs": [
        {
          "name": "stdout",
          "text": [
            "Clientes atendidos: 32\nTiempo medio en la cola: 7.6368938863227624\nTiempo medio del sistema: 10.739740383422317\n"
          ],
          "output_type": "stream"
        }
      ],
      "source": "print(\"Clientes atendidos:\", N_S)\nprint(\"Tiempo medio en la cola:\", t_med_cola)\nprint(\"Tiempo medio del sistema:\", t_med_sistema)\n",
      "metadata": {
        "pycharm": {
          "metadata": false,
          "name": "#%%\n",
          "is_executing": false
        }
      }
    }
  ],
  "metadata": {
    "language_info": {
      "codemirror_mode": {
        "name": "ipython",
        "version": 2
      },
      "file_extension": ".py",
      "mimetype": "text/x-python",
      "name": "python",
      "nbconvert_exporter": "python",
      "pygments_lexer": "ipython2",
      "version": "2.7.6"
    },
    "kernelspec": {
      "name": "python3",
      "language": "python",
      "display_name": "Python 3"
    },
    "stem_cell": {
      "cell_type": "raw",
      "source": "",
      "metadata": {
        "pycharm": {
          "metadata": false
        }
      }
    }
  },
  "nbformat": 4,
  "nbformat_minor": 0
}